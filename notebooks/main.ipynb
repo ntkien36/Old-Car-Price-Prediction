{
  "cells": [
    {
      "cell_type": "markdown",
      "metadata": {
        "id": "UaoGewJDrNMo"
      },
      "source": [
        "# Import library"
      ]
    },
    {
      "cell_type": "code",
      "execution_count": 410,
      "metadata": {
        "collapsed": true,
        "ExecuteTime": {
          "end_time": "2023-07-09T16:40:47.219335700Z",
          "start_time": "2023-07-09T16:40:46.167413800Z"
        },
        "id": "QTDd2uRarNMr"
      },
      "outputs": [],
      "source": [
        "import copy\n",
        "import numpy as np\n",
        "import pandas as pd\n",
        "from sklearn.preprocessing import OneHotEncoder\n",
        "import matplotlib.pyplot as plt\n",
        "import seaborn as sns\n",
        "from sklearn.preprocessing import StandardScaler\n",
        "from sklearn.model_selection import train_test_split\n",
        "from sklearn.metrics import mean_squared_error\n",
        "from sklearn.linear_model import LinearRegression\n",
        "from sklearn import metrics\n",
        "from sklearn.metrics import r2_score\n",
        "import pickle\n",
        "from sklearn.compose import make_column_transformer\n",
        "from sklearn.pipeline import make_pipeline\n",
        "from sklearn.ensemble import RandomForestRegressor\n",
        "import numpy as np\n",
        "from sklearn.linear_model import Ridge\n",
        "from sklearn.model_selection import GridSearchCV\n",
        "from sklearn.metrics import mean_absolute_error, mean_squared_error, r2_score\n"
      ]
    },
    {
      "cell_type": "markdown",
      "metadata": {
        "id": "oJb-iK_irNMs"
      },
      "source": [
        "# Load data"
      ]
    },
    {
      "cell_type": "code",
      "execution_count": 411,
      "metadata": {
        "ExecuteTime": {
          "end_time": "2023-07-09T16:40:48.009173700Z",
          "start_time": "2023-07-09T16:40:46.193062100Z"
        },
        "id": "29N198LOrNMs"
      },
      "outputs": [],
      "source": [
        "df = pd.read_csv('/data.csv')\n",
        "backup = copy.deepcopy(df)"
      ]
    },
    {
      "cell_type": "markdown",
      "metadata": {
        "id": "3n2ATf0hrNMt"
      },
      "source": [
        "# Data overview"
      ]
    },
    {
      "cell_type": "code",
      "execution_count": 412,
      "metadata": {
        "ExecuteTime": {
          "end_time": "2023-07-09T16:40:48.009173700Z",
          "start_time": "2023-07-09T16:40:46.282303300Z"
        },
        "colab": {
          "base_uri": "https://localhost:8080/"
        },
        "id": "jMEBk2cprNMt",
        "outputId": "6b6c8d73-17be-4ff9-8413-c6be12e6952b"
      },
      "outputs": [
        {
          "output_type": "stream",
          "name": "stdout",
          "text": [
            "Shape of data:\n",
            " (26956, 11)\n",
            "----------------------------------------\n",
            "Columns of data: \n",
            " Index(['car_name', 'year', 'price', 'assemble_place', 'series', 'driven kms',\n",
            "       'num_of_door', 'num_of_seat', 'engine_type', 'transmission', 'url'],\n",
            "      dtype='object')\n",
            "----------------------------------------\n",
            "Data types of data: \n",
            " car_name           object\n",
            "year               object\n",
            "price              object\n",
            "assemble_place     object\n",
            "series             object\n",
            "driven kms        float64\n",
            "num_of_door       float64\n",
            "num_of_seat       float64\n",
            "engine_type        object\n",
            "transmission       object\n",
            "url                object\n",
            "dtype: object\n",
            "----------------------------------------\n",
            "Missing values of data: \n",
            " car_name          38\n",
            "year              11\n",
            "price             11\n",
            "assemble_place    11\n",
            "series            11\n",
            "driven kms        11\n",
            "num_of_door       11\n",
            "num_of_seat       11\n",
            "engine_type       11\n",
            "transmission      11\n",
            "url               11\n",
            "dtype: int64\n",
            "----------------------------------------\n",
            "Describe data: \n",
            "          driven kms   num_of_door   num_of_seat\n",
            "count  2.694500e+04  26945.000000  26945.000000\n",
            "mean   4.809838e+05      4.515272      5.537317\n",
            "std    3.062607e+07      0.913087      1.687252\n",
            "min    1.000000e+00      1.000000      2.000000\n",
            "25%    2.215100e+04      4.000000      5.000000\n",
            "50%    4.900000e+04      5.000000      5.000000\n",
            "75%    8.000000e+04      5.000000      5.000000\n",
            "max    4.294967e+09     54.000000     47.000000\n",
            "----------------------------------------\n",
            "<class 'pandas.core.frame.DataFrame'>\n",
            "RangeIndex: 26956 entries, 0 to 26955\n",
            "Data columns (total 11 columns):\n",
            " #   Column          Non-Null Count  Dtype  \n",
            "---  ------          --------------  -----  \n",
            " 0   car_name        26918 non-null  object \n",
            " 1   year            26945 non-null  object \n",
            " 2   price           26945 non-null  object \n",
            " 3   assemble_place  26945 non-null  object \n",
            " 4   series          26945 non-null  object \n",
            " 5   driven kms      26945 non-null  float64\n",
            " 6   num_of_door     26945 non-null  float64\n",
            " 7   num_of_seat     26945 non-null  float64\n",
            " 8   engine_type     26945 non-null  object \n",
            " 9   transmission    26945 non-null  object \n",
            " 10  url             26945 non-null  object \n",
            "dtypes: float64(3), object(8)\n",
            "memory usage: 2.3+ MB\n",
            "Info data: \n",
            " None\n"
          ]
        }
      ],
      "source": [
        "def describle_data():\n",
        "    print('Shape of data:\\n', df.shape)\n",
        "    print('--'*20)\n",
        "    print('Columns of data: \\n', df.columns)\n",
        "    print('--'*20)\n",
        "    print('Data types of data: \\n', df.dtypes)\n",
        "    print('--'*20)\n",
        "    print('Missing values of data: \\n', df.isna().sum())\n",
        "    print('--'*20)\n",
        "    print('Describe data: \\n', df.describe())\n",
        "    print('--'*20)\n",
        "    print('Info data: \\n', df.info())\n",
        "describle_data()"
      ]
    },
    {
      "cell_type": "markdown",
      "metadata": {
        "id": "KgK_yi-0rNMu"
      },
      "source": [
        "# Xóa bỏ những xe bị trùng lặp"
      ]
    },
    {
      "cell_type": "markdown",
      "metadata": {
        "id": "V3zlcFi9rNMu"
      },
      "source": []
    },
    {
      "cell_type": "code",
      "execution_count": 413,
      "metadata": {
        "ExecuteTime": {
          "end_time": "2023-07-09T16:40:48.051687600Z",
          "start_time": "2023-07-09T16:40:46.312628Z"
        },
        "colab": {
          "base_uri": "https://localhost:8080/"
        },
        "id": "SV536U9drNMv",
        "outputId": "703ead3a-a753-4d7d-e143-76f09ae13afe"
      },
      "outputs": [
        {
          "output_type": "stream",
          "name": "stdout",
          "text": [
            "Shape of data:\n",
            " (25157, 11)\n",
            "----------------------------------------\n",
            "Columns of data: \n",
            " Index(['car_name', 'year', 'price', 'assemble_place', 'series', 'driven kms',\n",
            "       'num_of_door', 'num_of_seat', 'engine_type', 'transmission', 'url'],\n",
            "      dtype='object')\n",
            "----------------------------------------\n",
            "Data types of data: \n",
            " car_name           object\n",
            "year               object\n",
            "price              object\n",
            "assemble_place     object\n",
            "series             object\n",
            "driven kms        float64\n",
            "num_of_door       float64\n",
            "num_of_seat       float64\n",
            "engine_type        object\n",
            "transmission       object\n",
            "url                object\n",
            "dtype: object\n",
            "----------------------------------------\n",
            "Missing values of data: \n",
            " car_name          35\n",
            "year               1\n",
            "price              1\n",
            "assemble_place     1\n",
            "series             1\n",
            "driven kms         1\n",
            "num_of_door        1\n",
            "num_of_seat        1\n",
            "engine_type        1\n",
            "transmission       1\n",
            "url                1\n",
            "dtype: int64\n",
            "----------------------------------------\n",
            "Describe data: \n",
            "          driven kms   num_of_door   num_of_seat\n",
            "count  2.515600e+04  25156.000000  25156.000000\n",
            "mean   5.110776e+05      4.515583      5.535737\n",
            "std    3.169618e+07      0.931673      1.693333\n",
            "min    1.000000e+00      1.000000      2.000000\n",
            "25%    2.220425e+04      4.000000      5.000000\n",
            "50%    4.993900e+04      5.000000      5.000000\n",
            "75%    8.000000e+04      5.000000      5.000000\n",
            "max    4.294967e+09     54.000000     47.000000\n",
            "----------------------------------------\n",
            "<class 'pandas.core.frame.DataFrame'>\n",
            "Int64Index: 25157 entries, 0 to 26902\n",
            "Data columns (total 11 columns):\n",
            " #   Column          Non-Null Count  Dtype  \n",
            "---  ------          --------------  -----  \n",
            " 0   car_name        25122 non-null  object \n",
            " 1   year            25156 non-null  object \n",
            " 2   price           25156 non-null  object \n",
            " 3   assemble_place  25156 non-null  object \n",
            " 4   series          25156 non-null  object \n",
            " 5   driven kms      25156 non-null  float64\n",
            " 6   num_of_door     25156 non-null  float64\n",
            " 7   num_of_seat     25156 non-null  float64\n",
            " 8   engine_type     25156 non-null  object \n",
            " 9   transmission    25156 non-null  object \n",
            " 10  url             25156 non-null  object \n",
            "dtypes: float64(3), object(8)\n",
            "memory usage: 2.3+ MB\n",
            "Info data: \n",
            " None\n"
          ]
        }
      ],
      "source": [
        "df.drop_duplicates(subset=['url'], inplace=True)\n",
        "describle_data()"
      ]
    },
    {
      "cell_type": "markdown",
      "metadata": {
        "id": "o0Y-txnKrNMv"
      },
      "source": [
        "# Chuyển đổi kiểu dữ liệu cho các cột year, price sang kiểu số thực để có thể thực hiện các phép tính toán"
      ]
    },
    {
      "cell_type": "markdown",
      "metadata": {
        "id": "i2Uat2_jrNMw"
      },
      "source": [
        "Year"
      ]
    },
    {
      "cell_type": "code",
      "execution_count": 414,
      "metadata": {
        "ExecuteTime": {
          "end_time": "2023-07-09T16:40:48.099689800Z",
          "start_time": "2023-07-09T16:40:46.349286900Z"
        },
        "colab": {
          "base_uri": "https://localhost:8080/"
        },
        "id": "Xl8EP3fPrNMw",
        "outputId": "92f3462f-5d6f-41fc-c87c-14e6a2fa01b1"
      },
      "outputs": [
        {
          "output_type": "stream",
          "name": "stdout",
          "text": [
            "Shape of data:\n",
            " (25157, 11)\n",
            "----------------------------------------\n",
            "Columns of data: \n",
            " Index(['car_name', 'year', 'price', 'assemble_place', 'series', 'driven kms',\n",
            "       'num_of_door', 'num_of_seat', 'engine_type', 'transmission', 'url'],\n",
            "      dtype='object')\n",
            "----------------------------------------\n",
            "Data types of data: \n",
            " car_name           object\n",
            "year              float64\n",
            "price              object\n",
            "assemble_place     object\n",
            "series             object\n",
            "driven kms        float64\n",
            "num_of_door       float64\n",
            "num_of_seat       float64\n",
            "engine_type        object\n",
            "transmission       object\n",
            "url                object\n",
            "dtype: object\n",
            "----------------------------------------\n",
            "Missing values of data: \n",
            " car_name          35\n",
            "year               0\n",
            "price              1\n",
            "assemble_place     1\n",
            "series             1\n",
            "driven kms         1\n",
            "num_of_door        1\n",
            "num_of_seat        1\n",
            "engine_type        1\n",
            "transmission       1\n",
            "url                1\n",
            "dtype: int64\n",
            "----------------------------------------\n",
            "Describe data: \n",
            "                year    driven kms   num_of_door   num_of_seat\n",
            "count  25157.000000  2.515600e+04  25156.000000  25156.000000\n",
            "mean    1997.561553  5.110776e+05      4.515583      5.535737\n",
            "std      195.475487  3.169618e+07      0.931673      1.693333\n",
            "min       -1.000000  1.000000e+00      1.000000      2.000000\n",
            "25%     2015.000000  2.220425e+04      4.000000      5.000000\n",
            "50%     2018.000000  4.993900e+04      5.000000      5.000000\n",
            "75%     2020.000000  8.000000e+04      5.000000      5.000000\n",
            "max     2023.000000  4.294967e+09     54.000000     47.000000\n",
            "----------------------------------------\n",
            "<class 'pandas.core.frame.DataFrame'>\n",
            "Int64Index: 25157 entries, 0 to 26902\n",
            "Data columns (total 11 columns):\n",
            " #   Column          Non-Null Count  Dtype  \n",
            "---  ------          --------------  -----  \n",
            " 0   car_name        25122 non-null  object \n",
            " 1   year            25157 non-null  float64\n",
            " 2   price           25156 non-null  object \n",
            " 3   assemble_place  25156 non-null  object \n",
            " 4   series          25156 non-null  object \n",
            " 5   driven kms      25156 non-null  float64\n",
            " 6   num_of_door     25156 non-null  float64\n",
            " 7   num_of_seat     25156 non-null  float64\n",
            " 8   engine_type     25156 non-null  object \n",
            " 9   transmission    25156 non-null  object \n",
            " 10  url             25156 non-null  object \n",
            "dtypes: float64(4), object(7)\n",
            "memory usage: 2.3+ MB\n",
            "Info data: \n",
            " None\n"
          ]
        }
      ],
      "source": [
        "def process_year_colum(year):\n",
        "    if year.isdigit():\n",
        "        return float(year)\n",
        "    else:\n",
        "        return -1\n",
        "df['year'] = df['year'].astype(str).apply(process_year_colum)\n",
        "describle_data()"
      ]
    },
    {
      "cell_type": "markdown",
      "metadata": {
        "id": "fADGtwM1rNMw"
      },
      "source": [
        "Chuyển đổi giá từ dạng triệu/tỷ về dạng số"
      ]
    },
    {
      "cell_type": "code",
      "execution_count": 415,
      "metadata": {
        "ExecuteTime": {
          "end_time": "2023-07-09T16:40:48.099689800Z",
          "start_time": "2023-07-09T16:40:46.396608700Z"
        },
        "id": "pwnl7z8DrNMw"
      },
      "outputs": [],
      "source": [
        "def process_price(price):\n",
        "    try:\n",
        "        if price.find('Tỷ') != -1:\n",
        "            ty= price.split('Tỷ')[0]\n",
        "            trieu = price.split('Tỷ')[1]\n",
        "            trieu = trieu.split('Triệu')[0]\n",
        "            return float(ty)*1000000000 + float(trieu)*1000000\n",
        "        elif price.find('Triệu') != -1:\n",
        "            trieu = price.split('Triệu')[0]\n",
        "            trieu = trieu.replace(' ','')\n",
        "            return float(trieu)*1000000\n",
        "        else:\n",
        "            return 0\n",
        "    except:\n",
        "        return 0\n",
        "df['price'] = df['price'].astype(str).apply(process_price)"
      ]
    },
    {
      "cell_type": "code",
      "execution_count": 416,
      "metadata": {
        "ExecuteTime": {
          "end_time": "2023-07-09T16:40:48.099689800Z",
          "start_time": "2023-07-09T16:40:46.425388700Z"
        },
        "id": "3XAZiQEdrNMw"
      },
      "outputs": [],
      "source": [
        "# xóa các xe có giá trị km <= 0\n",
        "df = df[df['driven kms'] > 0]"
      ]
    },
    {
      "cell_type": "code",
      "execution_count": 417,
      "metadata": {
        "ExecuteTime": {
          "end_time": "2023-07-09T16:40:48.115699Z",
          "start_time": "2023-07-09T16:40:46.434798100Z"
        },
        "colab": {
          "base_uri": "https://localhost:8080/"
        },
        "id": "9zJ0YZNcrNMx",
        "outputId": "161a40cc-020c-48cc-cb52-c051e4622445"
      },
      "outputs": [
        {
          "output_type": "execute_result",
          "data": {
            "text/plain": [
              "count    2.515600e+04\n",
              "mean     1.064326e+09\n",
              "std      1.664726e+09\n",
              "min      0.000000e+00\n",
              "25%      3.850000e+08\n",
              "50%      5.600000e+08\n",
              "75%      9.450000e+08\n",
              "max      3.860000e+10\n",
              "Name: price, dtype: float64"
            ]
          },
          "metadata": {},
          "execution_count": 417
        }
      ],
      "source": [
        "df['price'].describe()\n"
      ]
    },
    {
      "cell_type": "markdown",
      "metadata": {
        "id": "6WfOdLJarNMx"
      },
      "source": [
        "# Xử lý các cột dạng nhãn"
      ]
    },
    {
      "cell_type": "markdown",
      "metadata": {
        "id": "R7GiQaVorNMx"
      },
      "source": [
        "Car_name có hai phần là hãng xe và tên xe, ta sẽ tách ra thành hai cột là brand và model\n"
      ]
    },
    {
      "cell_type": "code",
      "execution_count": 418,
      "metadata": {
        "ExecuteTime": {
          "end_time": "2023-07-09T16:40:48.123748300Z",
          "start_time": "2023-07-09T16:40:46.444354500Z"
        },
        "id": "DgL2abvfrNMx"
      },
      "outputs": [],
      "source": [
        "df['brand'] = df['car_name'].str.split().str[0]\n",
        "df['model'] = df['car_name'].str.split().str[1:].str.join(' ')"
      ]
    },
    {
      "cell_type": "code",
      "execution_count": 419,
      "metadata": {
        "ExecuteTime": {
          "end_time": "2023-07-09T16:40:48.123748300Z",
          "start_time": "2023-07-09T16:40:46.538336600Z"
        },
        "colab": {
          "base_uri": "https://localhost:8080/"
        },
        "id": "kW-OAfDIrNMx",
        "outputId": "be042134-cec7-4e81-9a25-3f761a5e1759"
      },
      "outputs": [
        {
          "output_type": "execute_result",
          "data": {
            "text/plain": [
              "Toyota        4798\n",
              "Mercedes      2933\n",
              "Hyundai       2832\n",
              "Kia           2681\n",
              "Ford          2236\n",
              "              ... \n",
              "Howo             1\n",
              "Samsung          1\n",
              "Scion            1\n",
              "SHUGUANG         1\n",
              "Brilliance       1\n",
              "Name: brand, Length: 85, dtype: int64"
            ]
          },
          "metadata": {},
          "execution_count": 419
        }
      ],
      "source": [
        "df['brand'].value_counts()"
      ]
    },
    {
      "cell_type": "code",
      "execution_count": 420,
      "metadata": {
        "ExecuteTime": {
          "end_time": "2023-07-09T16:40:48.139769300Z",
          "start_time": "2023-07-09T16:40:46.549759900Z"
        },
        "id": "V--M8bn8rNMy"
      },
      "outputs": [],
      "source": [
        "df['model'] = df['car_name']"
      ]
    },
    {
      "cell_type": "code",
      "execution_count": 421,
      "metadata": {
        "ExecuteTime": {
          "end_time": "2023-07-09T16:40:48.666328Z",
          "start_time": "2023-07-09T16:40:46.556615600Z"
        },
        "id": "br5rTNp2rNMy"
      },
      "outputs": [],
      "source": [
        "# các model có số lượng dưới 10 xe sẽ được gộp vào thành model Other\n",
        "model_counts = df['model'].value_counts()\n",
        "df['model'] = df['model'].replace(model_counts[model_counts < 5].index, 'Other')"
      ]
    },
    {
      "cell_type": "code",
      "execution_count": 422,
      "metadata": {
        "ExecuteTime": {
          "end_time": "2023-07-09T16:40:48.679300100Z",
          "start_time": "2023-07-09T16:40:47.387979400Z"
        },
        "colab": {
          "base_uri": "https://localhost:8080/"
        },
        "id": "aIjw97uYrNMy",
        "outputId": "daf86c06-0506-4bb3-b531-4309d0073cb3"
      },
      "outputs": [
        {
          "output_type": "execute_result",
          "data": {
            "text/plain": [
              "0                LandRover Range Rover HSE 3.0\n",
              "1         Mitsubishi Outlander 2.0 CVT Premium\n",
              "2                          Mazda 3 1.5L Luxury\n",
              "3                               Mazda 2 1.5 AT\n",
              "4                      Suzuki Swift GLX 1.2 AT\n",
              "                         ...                  \n",
              "26898                  Suzuki Swift GLX 1.2 AT\n",
              "26899                 Hyundai i10 Grand 1.2 AT\n",
              "26900                      Toyota Rush 1.5S AT\n",
              "26901                             Lexus GX 460\n",
              "26902              Toyota Fortuner 2.4G 4x2 AT\n",
              "Name: model, Length: 25156, dtype: object"
            ]
          },
          "metadata": {},
          "execution_count": 422
        }
      ],
      "source": [
        "df['model']"
      ]
    },
    {
      "cell_type": "code",
      "execution_count": 423,
      "metadata": {
        "ExecuteTime": {
          "end_time": "2023-07-09T16:40:48.680299800Z",
          "start_time": "2023-07-09T16:40:47.397104Z"
        },
        "colab": {
          "base_uri": "https://localhost:8080/",
          "height": 354
        },
        "id": "8xEL7nbXrNMy",
        "outputId": "3dc9f358-9ca1-4062-9563-20f0145dc0c2"
      },
      "outputs": [
        {
          "output_type": "execute_result",
          "data": {
            "text/plain": [
              "                                car_name    year         price  \\\n",
              "0          LandRover Range Rover HSE 3.0  2015.0  2.700000e+09   \n",
              "1   Mitsubishi Outlander 2.0 CVT Premium  2018.0  6.660000e+08   \n",
              "2                    Mazda 3 1.5L Luxury  2019.0  4.900000e+08   \n",
              "3                         Mazda 2 1.5 AT  2015.0  3.650000e+08   \n",
              "4                Suzuki Swift GLX 1.2 AT  2021.0  5.650000e+08   \n",
              "\n",
              "       assemble_place     series  driven kms  num_of_door  num_of_seat  \\\n",
              "0           Nhập khẩu        SUV     65000.0          5.0          5.0   \n",
              "1  Lắp ráp trong nước        SUV     50000.0          5.0          7.0   \n",
              "2  Lắp ráp trong nước      Sedan     51000.0          4.0          5.0   \n",
              "3  Lắp ráp trong nước      Sedan     38000.0          4.0          5.0   \n",
              "4           Nhập khẩu  Hatchback      6000.0          5.0          5.0   \n",
              "\n",
              "  engine_type transmission                                                url  \\\n",
              "0        Xăng   Số tự động  https://bonbanh.com/xe-landrover-range_rover-h...   \n",
              "1        Xăng   Số tự động  https://bonbanh.com/xe-mitsubishi-outlander-2....   \n",
              "2        Xăng   Số tự động  https://bonbanh.com/xe-mazda-3-1.5l-luxury-201...   \n",
              "3        Xăng   Số tự động  https://bonbanh.com/xe-mazda-2-1.5-at-2015-491...   \n",
              "4        Xăng   Số tự động  https://bonbanh.com/xe-suzuki-swift-glx-1.2-at...   \n",
              "\n",
              "        brand                                  model  \n",
              "0   LandRover          LandRover Range Rover HSE 3.0  \n",
              "1  Mitsubishi   Mitsubishi Outlander 2.0 CVT Premium  \n",
              "2       Mazda                    Mazda 3 1.5L Luxury  \n",
              "3       Mazda                         Mazda 2 1.5 AT  \n",
              "4      Suzuki                Suzuki Swift GLX 1.2 AT  "
            ],
            "text/html": [
              "\n",
              "  <div id=\"df-e7dddeb0-bc61-419b-a7e6-5fbb1918f855\">\n",
              "    <div class=\"colab-df-container\">\n",
              "      <div>\n",
              "<style scoped>\n",
              "    .dataframe tbody tr th:only-of-type {\n",
              "        vertical-align: middle;\n",
              "    }\n",
              "\n",
              "    .dataframe tbody tr th {\n",
              "        vertical-align: top;\n",
              "    }\n",
              "\n",
              "    .dataframe thead th {\n",
              "        text-align: right;\n",
              "    }\n",
              "</style>\n",
              "<table border=\"1\" class=\"dataframe\">\n",
              "  <thead>\n",
              "    <tr style=\"text-align: right;\">\n",
              "      <th></th>\n",
              "      <th>car_name</th>\n",
              "      <th>year</th>\n",
              "      <th>price</th>\n",
              "      <th>assemble_place</th>\n",
              "      <th>series</th>\n",
              "      <th>driven kms</th>\n",
              "      <th>num_of_door</th>\n",
              "      <th>num_of_seat</th>\n",
              "      <th>engine_type</th>\n",
              "      <th>transmission</th>\n",
              "      <th>url</th>\n",
              "      <th>brand</th>\n",
              "      <th>model</th>\n",
              "    </tr>\n",
              "  </thead>\n",
              "  <tbody>\n",
              "    <tr>\n",
              "      <th>0</th>\n",
              "      <td>LandRover Range Rover HSE 3.0</td>\n",
              "      <td>2015.0</td>\n",
              "      <td>2.700000e+09</td>\n",
              "      <td>Nhập khẩu</td>\n",
              "      <td>SUV</td>\n",
              "      <td>65000.0</td>\n",
              "      <td>5.0</td>\n",
              "      <td>5.0</td>\n",
              "      <td>Xăng</td>\n",
              "      <td>Số tự động</td>\n",
              "      <td>https://bonbanh.com/xe-landrover-range_rover-h...</td>\n",
              "      <td>LandRover</td>\n",
              "      <td>LandRover Range Rover HSE 3.0</td>\n",
              "    </tr>\n",
              "    <tr>\n",
              "      <th>1</th>\n",
              "      <td>Mitsubishi Outlander 2.0 CVT Premium</td>\n",
              "      <td>2018.0</td>\n",
              "      <td>6.660000e+08</td>\n",
              "      <td>Lắp ráp trong nước</td>\n",
              "      <td>SUV</td>\n",
              "      <td>50000.0</td>\n",
              "      <td>5.0</td>\n",
              "      <td>7.0</td>\n",
              "      <td>Xăng</td>\n",
              "      <td>Số tự động</td>\n",
              "      <td>https://bonbanh.com/xe-mitsubishi-outlander-2....</td>\n",
              "      <td>Mitsubishi</td>\n",
              "      <td>Mitsubishi Outlander 2.0 CVT Premium</td>\n",
              "    </tr>\n",
              "    <tr>\n",
              "      <th>2</th>\n",
              "      <td>Mazda 3 1.5L Luxury</td>\n",
              "      <td>2019.0</td>\n",
              "      <td>4.900000e+08</td>\n",
              "      <td>Lắp ráp trong nước</td>\n",
              "      <td>Sedan</td>\n",
              "      <td>51000.0</td>\n",
              "      <td>4.0</td>\n",
              "      <td>5.0</td>\n",
              "      <td>Xăng</td>\n",
              "      <td>Số tự động</td>\n",
              "      <td>https://bonbanh.com/xe-mazda-3-1.5l-luxury-201...</td>\n",
              "      <td>Mazda</td>\n",
              "      <td>Mazda 3 1.5L Luxury</td>\n",
              "    </tr>\n",
              "    <tr>\n",
              "      <th>3</th>\n",
              "      <td>Mazda 2 1.5 AT</td>\n",
              "      <td>2015.0</td>\n",
              "      <td>3.650000e+08</td>\n",
              "      <td>Lắp ráp trong nước</td>\n",
              "      <td>Sedan</td>\n",
              "      <td>38000.0</td>\n",
              "      <td>4.0</td>\n",
              "      <td>5.0</td>\n",
              "      <td>Xăng</td>\n",
              "      <td>Số tự động</td>\n",
              "      <td>https://bonbanh.com/xe-mazda-2-1.5-at-2015-491...</td>\n",
              "      <td>Mazda</td>\n",
              "      <td>Mazda 2 1.5 AT</td>\n",
              "    </tr>\n",
              "    <tr>\n",
              "      <th>4</th>\n",
              "      <td>Suzuki Swift GLX 1.2 AT</td>\n",
              "      <td>2021.0</td>\n",
              "      <td>5.650000e+08</td>\n",
              "      <td>Nhập khẩu</td>\n",
              "      <td>Hatchback</td>\n",
              "      <td>6000.0</td>\n",
              "      <td>5.0</td>\n",
              "      <td>5.0</td>\n",
              "      <td>Xăng</td>\n",
              "      <td>Số tự động</td>\n",
              "      <td>https://bonbanh.com/xe-suzuki-swift-glx-1.2-at...</td>\n",
              "      <td>Suzuki</td>\n",
              "      <td>Suzuki Swift GLX 1.2 AT</td>\n",
              "    </tr>\n",
              "  </tbody>\n",
              "</table>\n",
              "</div>\n",
              "      <button class=\"colab-df-convert\" onclick=\"convertToInteractive('df-e7dddeb0-bc61-419b-a7e6-5fbb1918f855')\"\n",
              "              title=\"Convert this dataframe to an interactive table.\"\n",
              "              style=\"display:none;\">\n",
              "        \n",
              "  <svg xmlns=\"http://www.w3.org/2000/svg\" height=\"24px\"viewBox=\"0 0 24 24\"\n",
              "       width=\"24px\">\n",
              "    <path d=\"M0 0h24v24H0V0z\" fill=\"none\"/>\n",
              "    <path d=\"M18.56 5.44l.94 2.06.94-2.06 2.06-.94-2.06-.94-.94-2.06-.94 2.06-2.06.94zm-11 1L8.5 8.5l.94-2.06 2.06-.94-2.06-.94L8.5 2.5l-.94 2.06-2.06.94zm10 10l.94 2.06.94-2.06 2.06-.94-2.06-.94-.94-2.06-.94 2.06-2.06.94z\"/><path d=\"M17.41 7.96l-1.37-1.37c-.4-.4-.92-.59-1.43-.59-.52 0-1.04.2-1.43.59L10.3 9.45l-7.72 7.72c-.78.78-.78 2.05 0 2.83L4 21.41c.39.39.9.59 1.41.59.51 0 1.02-.2 1.41-.59l7.78-7.78 2.81-2.81c.8-.78.8-2.07 0-2.86zM5.41 20L4 18.59l7.72-7.72 1.47 1.35L5.41 20z\"/>\n",
              "  </svg>\n",
              "      </button>\n",
              "      \n",
              "  <style>\n",
              "    .colab-df-container {\n",
              "      display:flex;\n",
              "      flex-wrap:wrap;\n",
              "      gap: 12px;\n",
              "    }\n",
              "\n",
              "    .colab-df-convert {\n",
              "      background-color: #E8F0FE;\n",
              "      border: none;\n",
              "      border-radius: 50%;\n",
              "      cursor: pointer;\n",
              "      display: none;\n",
              "      fill: #1967D2;\n",
              "      height: 32px;\n",
              "      padding: 0 0 0 0;\n",
              "      width: 32px;\n",
              "    }\n",
              "\n",
              "    .colab-df-convert:hover {\n",
              "      background-color: #E2EBFA;\n",
              "      box-shadow: 0px 1px 2px rgba(60, 64, 67, 0.3), 0px 1px 3px 1px rgba(60, 64, 67, 0.15);\n",
              "      fill: #174EA6;\n",
              "    }\n",
              "\n",
              "    [theme=dark] .colab-df-convert {\n",
              "      background-color: #3B4455;\n",
              "      fill: #D2E3FC;\n",
              "    }\n",
              "\n",
              "    [theme=dark] .colab-df-convert:hover {\n",
              "      background-color: #434B5C;\n",
              "      box-shadow: 0px 1px 3px 1px rgba(0, 0, 0, 0.15);\n",
              "      filter: drop-shadow(0px 1px 2px rgba(0, 0, 0, 0.3));\n",
              "      fill: #FFFFFF;\n",
              "    }\n",
              "  </style>\n",
              "\n",
              "      <script>\n",
              "        const buttonEl =\n",
              "          document.querySelector('#df-e7dddeb0-bc61-419b-a7e6-5fbb1918f855 button.colab-df-convert');\n",
              "        buttonEl.style.display =\n",
              "          google.colab.kernel.accessAllowed ? 'block' : 'none';\n",
              "\n",
              "        async function convertToInteractive(key) {\n",
              "          const element = document.querySelector('#df-e7dddeb0-bc61-419b-a7e6-5fbb1918f855');\n",
              "          const dataTable =\n",
              "            await google.colab.kernel.invokeFunction('convertToInteractive',\n",
              "                                                     [key], {});\n",
              "          if (!dataTable) return;\n",
              "\n",
              "          const docLinkHtml = 'Like what you see? Visit the ' +\n",
              "            '<a target=\"_blank\" href=https://colab.research.google.com/notebooks/data_table.ipynb>data table notebook</a>'\n",
              "            + ' to learn more about interactive tables.';\n",
              "          element.innerHTML = '';\n",
              "          dataTable['output_type'] = 'display_data';\n",
              "          await google.colab.output.renderOutput(dataTable, element);\n",
              "          const docLink = document.createElement('div');\n",
              "          docLink.innerHTML = docLinkHtml;\n",
              "          element.appendChild(docLink);\n",
              "        }\n",
              "      </script>\n",
              "    </div>\n",
              "  </div>\n",
              "  "
            ]
          },
          "metadata": {},
          "execution_count": 423
        }
      ],
      "source": [
        "df.head()"
      ]
    },
    {
      "cell_type": "markdown",
      "metadata": {
        "id": "PiH1kF44rNMz"
      },
      "source": [
        "# Xử lý các dữ liệu bị thiếu hoặc sai\n"
      ]
    },
    {
      "cell_type": "markdown",
      "metadata": {
        "id": "0huUVXvKrNMz"
      },
      "source": [
        "Xử lý cột year"
      ]
    },
    {
      "cell_type": "code",
      "execution_count": 424,
      "metadata": {
        "ExecuteTime": {
          "end_time": "2023-07-09T16:40:48.680299800Z",
          "start_time": "2023-07-09T16:40:47.416059300Z"
        },
        "colab": {
          "base_uri": "https://localhost:8080/"
        },
        "id": "jdXwA94MrNMz",
        "outputId": "c787b79d-7662-453e-d470-dee4c6ef3f27"
      },
      "outputs": [
        {
          "output_type": "stream",
          "name": "stdout",
          "text": [
            "Number of car before 1990:  238\n",
            "Number of car before 1990:  -1.0      236\n",
            " 200.0      1\n",
            " 700.0      1\n",
            "Name: year, dtype: int64\n"
          ]
        }
      ],
      "source": [
        "car_before_1990 = df[df['year'] < 1990]\n",
        "print('Number of car before 1990: ', car_before_1990.shape[0])\n",
        "print('Number of car before 1990: ', car_before_1990['year'].value_counts())"
      ]
    },
    {
      "cell_type": "markdown",
      "metadata": {
        "id": "9X1xJ8ytrNMz"
      },
      "source": []
    },
    {
      "cell_type": "markdown",
      "metadata": {
        "id": "RuRAIlQcrNMz"
      },
      "source": [
        "Xóa các dòng năm sản xuất không hợp lệ < 1900"
      ]
    },
    {
      "cell_type": "code",
      "execution_count": 425,
      "metadata": {
        "ExecuteTime": {
          "end_time": "2023-07-09T16:40:48.680299800Z",
          "start_time": "2023-07-09T16:40:47.427437700Z"
        },
        "colab": {
          "base_uri": "https://localhost:8080/"
        },
        "id": "MJbNcV9urNMz",
        "outputId": "044f10dc-8cfd-4c46-d7a2-ac27a33fb846"
      },
      "outputs": [
        {
          "output_type": "stream",
          "name": "stdout",
          "text": [
            "Shape of data:\n",
            " (24893, 13)\n",
            "----------------------------------------\n",
            "Columns of data: \n",
            " Index(['car_name', 'year', 'price', 'assemble_place', 'series', 'driven kms',\n",
            "       'num_of_door', 'num_of_seat', 'engine_type', 'transmission', 'url',\n",
            "       'brand', 'model'],\n",
            "      dtype='object')\n",
            "----------------------------------------\n",
            "Data types of data: \n",
            " car_name           object\n",
            "year              float64\n",
            "price             float64\n",
            "assemble_place     object\n",
            "series             object\n",
            "driven kms        float64\n",
            "num_of_door       float64\n",
            "num_of_seat       float64\n",
            "engine_type        object\n",
            "transmission       object\n",
            "url                object\n",
            "brand              object\n",
            "model              object\n",
            "dtype: object\n",
            "----------------------------------------\n",
            "Missing values of data: \n",
            " car_name          0\n",
            "year              0\n",
            "price             0\n",
            "assemble_place    0\n",
            "series            0\n",
            "driven kms        0\n",
            "num_of_door       0\n",
            "num_of_seat       0\n",
            "engine_type       0\n",
            "transmission      0\n",
            "url               0\n",
            "brand             0\n",
            "model             0\n",
            "dtype: int64\n",
            "----------------------------------------\n",
            "Describe data: \n",
            "                year         price    driven kms   num_of_door   num_of_seat\n",
            "count  24893.000000  2.489300e+04  2.489300e+04  24893.000000  24893.000000\n",
            "mean    2016.721287  1.075413e+09  5.037849e+05      4.513799      5.537139\n",
            "std        4.641435  1.669963e+09  3.180655e+07      0.933953      1.698263\n",
            "min     1991.000000  0.000000e+00  1.000000e+00      1.000000      2.000000\n",
            "25%     2015.000000  3.900000e+08  2.300000e+04      4.000000      5.000000\n",
            "50%     2018.000000  5.650000e+08  5.000000e+04      5.000000      5.000000\n",
            "75%     2020.000000  9.500000e+08  8.000000e+04      5.000000      5.000000\n",
            "max     2023.000000  3.860000e+10  4.294967e+09     54.000000     47.000000\n",
            "----------------------------------------\n",
            "<class 'pandas.core.frame.DataFrame'>\n",
            "Int64Index: 24893 entries, 0 to 26902\n",
            "Data columns (total 13 columns):\n",
            " #   Column          Non-Null Count  Dtype  \n",
            "---  ------          --------------  -----  \n",
            " 0   car_name        24893 non-null  object \n",
            " 1   year            24893 non-null  float64\n",
            " 2   price           24893 non-null  float64\n",
            " 3   assemble_place  24893 non-null  object \n",
            " 4   series          24893 non-null  object \n",
            " 5   driven kms      24893 non-null  float64\n",
            " 6   num_of_door     24893 non-null  float64\n",
            " 7   num_of_seat     24893 non-null  float64\n",
            " 8   engine_type     24893 non-null  object \n",
            " 9   transmission    24893 non-null  object \n",
            " 10  url             24893 non-null  object \n",
            " 11  brand           24893 non-null  object \n",
            " 12  model           24893 non-null  object \n",
            "dtypes: float64(5), object(8)\n",
            "memory usage: 2.7+ MB\n",
            "Info data: \n",
            " None\n"
          ]
        }
      ],
      "source": [
        "df = df[df['year'] > 1990]\n",
        "describle_data()"
      ]
    },
    {
      "cell_type": "markdown",
      "metadata": {
        "id": "HvkWhEVlrNM0"
      },
      "source": [
        "Cột price: xóa các giá trị <= 0"
      ]
    },
    {
      "cell_type": "code",
      "execution_count": 426,
      "metadata": {
        "ExecuteTime": {
          "end_time": "2023-07-09T16:40:48.680299800Z",
          "start_time": "2023-07-09T16:40:47.574842100Z"
        },
        "colab": {
          "base_uri": "https://localhost:8080/"
        },
        "id": "DtHjhL5DrNM0",
        "outputId": "7980b7ef-f597-416f-e145-a52db5297d76"
      },
      "outputs": [
        {
          "output_type": "stream",
          "name": "stdout",
          "text": [
            "Shape of data:\n",
            " (24814, 13)\n",
            "----------------------------------------\n",
            "Columns of data: \n",
            " Index(['car_name', 'year', 'price', 'assemble_place', 'series', 'driven kms',\n",
            "       'num_of_door', 'num_of_seat', 'engine_type', 'transmission', 'url',\n",
            "       'brand', 'model'],\n",
            "      dtype='object')\n",
            "----------------------------------------\n",
            "Data types of data: \n",
            " car_name           object\n",
            "year              float64\n",
            "price             float64\n",
            "assemble_place     object\n",
            "series             object\n",
            "driven kms        float64\n",
            "num_of_door       float64\n",
            "num_of_seat       float64\n",
            "engine_type        object\n",
            "transmission       object\n",
            "url                object\n",
            "brand              object\n",
            "model              object\n",
            "dtype: object\n",
            "----------------------------------------\n",
            "Missing values of data: \n",
            " car_name          0\n",
            "year              0\n",
            "price             0\n",
            "assemble_place    0\n",
            "series            0\n",
            "driven kms        0\n",
            "num_of_door       0\n",
            "num_of_seat       0\n",
            "engine_type       0\n",
            "transmission      0\n",
            "url               0\n",
            "brand             0\n",
            "model             0\n",
            "dtype: int64\n",
            "----------------------------------------\n",
            "Describe data: \n",
            "                year         price    driven kms   num_of_door   num_of_seat\n",
            "count  24814.000000  2.481400e+04  2.481400e+04  24814.000000  24814.000000\n",
            "mean    2016.713629  1.078837e+09  5.052955e+05      4.514024      5.538124\n",
            "std        4.644224  1.671515e+09  3.185713e+07      0.934234      1.699145\n",
            "min     1991.000000  1.500000e+07  1.000000e+00      1.000000      2.000000\n",
            "25%     2015.000000  3.950000e+08  2.300000e+04      4.000000      5.000000\n",
            "50%     2018.000000  5.650000e+08  5.000000e+04      5.000000      5.000000\n",
            "75%     2020.000000  9.500000e+08  8.000000e+04      5.000000      5.000000\n",
            "max     2023.000000  3.860000e+10  4.294967e+09     54.000000     47.000000\n",
            "----------------------------------------\n",
            "<class 'pandas.core.frame.DataFrame'>\n",
            "Int64Index: 24814 entries, 0 to 26902\n",
            "Data columns (total 13 columns):\n",
            " #   Column          Non-Null Count  Dtype  \n",
            "---  ------          --------------  -----  \n",
            " 0   car_name        24814 non-null  object \n",
            " 1   year            24814 non-null  float64\n",
            " 2   price           24814 non-null  float64\n",
            " 3   assemble_place  24814 non-null  object \n",
            " 4   series          24814 non-null  object \n",
            " 5   driven kms      24814 non-null  float64\n",
            " 6   num_of_door     24814 non-null  float64\n",
            " 7   num_of_seat     24814 non-null  float64\n",
            " 8   engine_type     24814 non-null  object \n",
            " 9   transmission    24814 non-null  object \n",
            " 10  url             24814 non-null  object \n",
            " 11  brand           24814 non-null  object \n",
            " 12  model           24814 non-null  object \n",
            "dtypes: float64(5), object(8)\n",
            "memory usage: 2.7+ MB\n",
            "Info data: \n",
            " None\n"
          ]
        }
      ],
      "source": [
        "df = df[df['price'] > 0]\n",
        "describle_data()"
      ]
    },
    {
      "cell_type": "markdown",
      "metadata": {
        "id": "Z7ECfwCfrNM0"
      },
      "source": [
        "Cột num_of_door\n",
        "Thông thường các xe có tối đa 5 - 6 cửa, với những giá trị sai ta sẽ điền bằng giá trị xuất hiện nhiều nhất trong cột num_of_door"
      ]
    },
    {
      "cell_type": "code",
      "execution_count": 427,
      "metadata": {
        "ExecuteTime": {
          "end_time": "2023-07-09T16:40:48.680299800Z",
          "start_time": "2023-07-09T16:40:47.575840700Z"
        },
        "id": "ltf111yurNM0"
      },
      "outputs": [],
      "source": [
        "df['num_of_door'] = df['num_of_door'].apply(lambda x: df['num_of_door'].value_counts().index[0] if x > 10 else x)"
      ]
    },
    {
      "cell_type": "markdown",
      "metadata": {
        "id": "3WH1GijWrNM0"
      },
      "source": []
    },
    {
      "cell_type": "markdown",
      "metadata": {
        "id": "TxkXCSZsrNM1"
      },
      "source": [
        "Cột brand"
      ]
    },
    {
      "cell_type": "code",
      "execution_count": 428,
      "metadata": {
        "ExecuteTime": {
          "end_time": "2023-07-09T16:40:48.680299800Z",
          "start_time": "2023-07-09T16:40:47.575840700Z"
        },
        "colab": {
          "base_uri": "https://localhost:8080/"
        },
        "id": "piCHKv8_rNM1",
        "outputId": "f48d6972-7087-4f85-8b9c-9750aabd5faf"
      },
      "outputs": [
        {
          "output_type": "execute_result",
          "data": {
            "text/plain": [
              "Toyota        4775\n",
              "Mercedes      2906\n",
              "Hyundai       2827\n",
              "Kia           2640\n",
              "Ford          2230\n",
              "              ... \n",
              "Howo             1\n",
              "Samsung          1\n",
              "Aston            1\n",
              "Scion            1\n",
              "Brilliance       1\n",
              "Name: brand, Length: 83, dtype: int64"
            ]
          },
          "metadata": {},
          "execution_count": 428
        }
      ],
      "source": [
        "df['brand'].value_counts()"
      ]
    },
    {
      "cell_type": "markdown",
      "metadata": {
        "id": "hJpmVz10rNM1"
      },
      "source": [
        "Cột brand có một số hãng có số lượng xe rất ít hoặc bị thiếu, ta sẽ gộp các hãng xe này thành một nhóm là 'other'\n",
        "Nếu số xe của hãng đó nhỏ hơn 10 thì sẽ gộp vào nhóm 'Other'"
      ]
    },
    {
      "cell_type": "code",
      "execution_count": 429,
      "metadata": {
        "ExecuteTime": {
          "end_time": "2023-07-09T16:40:48.680299800Z",
          "start_time": "2023-07-09T16:40:47.575840700Z"
        },
        "id": "rvlgwha9rNM1"
      },
      "outputs": [],
      "source": [
        "threshold = 5\n",
        "car_count = df['brand'].value_counts()\n",
        "small_brands = car_count[car_count < threshold].index.tolist()\n",
        "df['brand'] = df['brand'].apply(lambda x: 'Other' if x in small_brands else x)\n",
        "df['brand'].fillna('Other', inplace=True)"
      ]
    },
    {
      "cell_type": "code",
      "execution_count": 430,
      "metadata": {
        "ExecuteTime": {
          "end_time": "2023-07-09T16:40:48.680299800Z",
          "start_time": "2023-07-09T16:40:47.575840700Z"
        },
        "colab": {
          "base_uri": "https://localhost:8080/"
        },
        "id": "KwL3rE_ZrNM2",
        "outputId": "2e3a0b40-52c5-4d71-ab33-be4acea88ee1"
      },
      "outputs": [
        {
          "output_type": "stream",
          "name": "stdout",
          "text": [
            "brand\n",
            "Lamborghini    1.454000e+10\n",
            "Rolls          1.378962e+10\n",
            "Bentley        1.066070e+10\n",
            "McLaren        9.620000e+09\n",
            "Lincoln        6.090806e+09\n",
            "LandRover      4.203340e+09\n",
            "Porsche        4.017987e+09\n",
            "Maserati       3.554455e+09\n",
            "Lexus          3.278581e+09\n",
            "Jeep           2.971826e+09\n",
            "Cadillac       2.515273e+09\n",
            "Volvo          2.218634e+09\n",
            "Mercedes       2.004621e+09\n",
            "Jaguar         1.798727e+09\n",
            "Infiniti       1.742200e+09\n",
            "Mini           1.427632e+09\n",
            "BMW            1.415890e+09\n",
            "Audi           1.258419e+09\n",
            "Other          1.091310e+09\n",
            "Subaru         9.207143e+08\n",
            "Volkswagen     8.474800e+08\n",
            "Peugeot        8.188621e+08\n",
            "Toyota         7.597510e+08\n",
            "Ford           6.421570e+08\n",
            "VinFast        5.650631e+08\n",
            "Mazda          5.529249e+08\n",
            "Hyundai        5.382045e+08\n",
            "Honda          5.294520e+08\n",
            "Baic           5.210000e+08\n",
            "MG             5.098780e+08\n",
            "Mitsubishi     5.069020e+08\n",
            "Kia            4.845394e+08\n",
            "Nissan         4.504627e+08\n",
            "Isuzu          4.026667e+08\n",
            "Suzuki         3.871135e+08\n",
            "Chevrolet      3.729601e+08\n",
            "Renault        3.595000e+08\n",
            "Ssangyong      2.971429e+08\n",
            "Thaco          2.816667e+08\n",
            "Kenbo          1.560000e+08\n",
            "Dongben        1.425000e+08\n",
            "Daihatsu       1.357692e+08\n",
            "Daewoo         1.314697e+08\n",
            "Fiat           1.260000e+08\n",
            "Name: price, dtype: float64\n"
          ]
        }
      ],
      "source": [
        "# in ra tất cả brand\n",
        "# sắp xếp theo thứ tự giảm dần về giá trung bình\n",
        "print(df.groupby('brand')['price'].mean().sort_values(ascending=False))\n"
      ]
    },
    {
      "cell_type": "code",
      "execution_count": 431,
      "metadata": {
        "ExecuteTime": {
          "end_time": "2023-07-09T16:40:48.680299800Z",
          "start_time": "2023-07-09T16:40:47.609269200Z"
        },
        "id": "3UOmPpFtrNM3"
      },
      "outputs": [],
      "source": [
        "# def car_band(x):\n",
        "#     if x in ['Land', 'Lamborghini', 'Jaguar', 'BMW', 'Mercedes', 'Porsche','Jeep',\n",
        "#        'Audi', 'Bentley','Mini','LandRover','Lexus','Maserati','Rolls','Ferrari','Aston','Lincoln','Maserati','Cadillac']:\n",
        "#         return 'HIGH END CAR'\n",
        "#     elif x in ['Ford',\n",
        "#             'Skoda',\n",
        "#          'Mahindra',\n",
        "#             'Force',\n",
        "#        'Mitsubishi',\n",
        "#            'Toyota',\n",
        "#             'ISUZU',\n",
        "#            'Volvo',\n",
        "#           'Isuzu','Other']:\n",
        "#         return 'MIDDLE RANGE CAR'\n",
        "#     else:\n",
        "#         return 'LOW END CAR'\n",
        "# df['brand']=df['brand'].apply(car_band)\n",
        "def car_band(x):\n",
        "    if x in ['Rolls', 'Bentley', 'Ferrari','Lincoln','Porsche','LandRover','Lexus','Jeep','Lamborghini','McLaren','Maserati',]:\n",
        "        return 'LUXURY CAR'\n",
        "    elif x in ['Cadillac', 'Mercedes', 'Audi', 'BMW', 'Volvo','Jaguar','Infiniti','Mini','BMW']:\n",
        "        return 'PREMIUM CAR'\n",
        "    elif x in ['Subaru', 'Mitsubishi', 'Ford', 'Kia','VinFast','Mazda','Honda','Hyundai','Kia','Baic','Toyota','Mazda','Renault','Other','Volkswagen','Peugeot',]:\n",
        "        return 'VOLUME CAR'\n",
        "    else:\n",
        "        return 'LOW-PRICE CAR'\n",
        "# # def car_band(x):\n",
        "# #     if x in ['Rolls', 'Bentley', 'Lincoln', 'Land Rover', 'Porsche', 'Maserati', 'Lexus', 'Jeep', 'Cadillac']:\n",
        "# #         return 'LUXURY CAR'\n",
        "# #     elif x in ['Mini', 'BMW', 'Audi', 'Volvo', 'Mercedes-Benz', 'Infiniti', 'Jaguar','Other']:\n",
        "# #         return 'PREMIUM CAR'\n",
        "# #     elif x in ['Subaru', 'Volkswagen', 'Peugeot', 'Toyota', 'Ford', 'VinFast', 'Mazda', 'Hyundai', 'Honda']:\n",
        "# #         return 'VOLUME CAR'\n",
        "# #     else:\n",
        "# #         return 'LOW-PRICE CAR'\n",
        "# # def car_band(x):\n",
        "# #     if x in ['Rolls', 'Bentley', 'Lincoln', 'LandRover', 'Porsche', 'Maserati', 'Lexus', 'Jeep', 'Cadillac']:\n",
        "# #         return 'LUXURY'\n",
        "# #     elif x in ['Other', 'Volvo', 'Mercedes', 'Infiniti', 'Jaguar', 'Mini', 'BMW', 'Audi']:\n",
        "# #         return 'PREMIUM'\n",
        "# #     elif x in ['Subaru', 'Volkswagen', 'Peugeot', 'Toyota', 'Ford', 'VinFast', 'Mazda', 'Hyundai', 'Honda','MG','Mitsubishi']:\n",
        "# #         return 'VOLUME'\n",
        "# #     else:\n",
        "# #         return 'LOWEND'\n",
        "\n",
        "# df['brand'] = df['brand'].apply(car_band)\n",
        "# df.drop(columns=['brand'], inplace=True)\n",
        "# df['brand_segment'].value_counts()\n"
      ]
    },
    {
      "cell_type": "code",
      "execution_count": 432,
      "metadata": {
        "ExecuteTime": {
          "end_time": "2023-07-09T16:51:43.298954800Z",
          "start_time": "2023-07-09T16:51:43.286122Z"
        },
        "colab": {
          "base_uri": "https://localhost:8080/"
        },
        "id": "gpQ9qj0qrNM3",
        "outputId": "aede0aee-4c8d-4641-ca2f-cd56e22241c9"
      },
      "outputs": [
        {
          "output_type": "execute_result",
          "data": {
            "text/plain": [
              "Other                               1860\n",
              " Mercedes Benz GLC 300 4Matic        361\n",
              " Mazda 3 1.5 AT                      357\n",
              " Toyota Vios 1.5G                    328\n",
              " Toyota Innova 2.0E                  307\n",
              "                                    ... \n",
              " BMW X5 xDrive40i M Sport              5\n",
              " Mercedes Benz AMG GT 53 4Matic        4\n",
              " Rolls Royce Ghost Series II EWB       4\n",
              " Toyota Vios                           2\n",
              " Kia Morning                           1\n",
              "Name: model, Length: 775, dtype: int64"
            ]
          },
          "metadata": {},
          "execution_count": 432
        }
      ],
      "source": [
        "df['model'].value_counts()"
      ]
    },
    {
      "cell_type": "code",
      "execution_count": 433,
      "outputs": [],
      "source": [
        "# drop engine_type = \"-\"\n",
        "df = df[df['engine_type'] != '-']"
      ],
      "metadata": {
        "ExecuteTime": {
          "end_time": "2023-07-09T16:40:48.681298900Z",
          "start_time": "2023-07-09T16:40:47.628061900Z"
        },
        "id": "I9SV4wpxrNM4"
      }
    },
    {
      "cell_type": "code",
      "execution_count": 434,
      "outputs": [
        {
          "output_type": "execute_result",
          "data": {
            "text/plain": [
              "Xăng      20988\n",
              "Dầu        3640\n",
              "Hybrid      127\n",
              "Điện         55\n",
              "Name: engine_type, dtype: int64"
            ]
          },
          "metadata": {},
          "execution_count": 434
        }
      ],
      "source": [
        "df['engine_type'].value_counts()"
      ],
      "metadata": {
        "ExecuteTime": {
          "end_time": "2023-07-09T16:40:48.681298900Z",
          "start_time": "2023-07-09T16:40:47.640783300Z"
        },
        "colab": {
          "base_uri": "https://localhost:8080/"
        },
        "id": "c3RrVhqCrNM5",
        "outputId": "4a05de52-b654-473a-82fc-d3534e56758c"
      }
    },
    {
      "cell_type": "code",
      "execution_count": 435,
      "outputs": [],
      "source": [
        "df=df[df['transmission']!='-']"
      ],
      "metadata": {
        "ExecuteTime": {
          "end_time": "2023-07-09T16:40:48.681298900Z",
          "start_time": "2023-07-09T16:40:47.654542Z"
        },
        "id": "0VWO_3V5rNM5"
      }
    },
    {
      "cell_type": "code",
      "execution_count": 436,
      "outputs": [
        {
          "output_type": "execute_result",
          "data": {
            "text/plain": [
              "                                car_name    year         price  \\\n",
              "0          LandRover Range Rover HSE 3.0  2015.0  2.700000e+09   \n",
              "1   Mitsubishi Outlander 2.0 CVT Premium  2018.0  6.660000e+08   \n",
              "2                    Mazda 3 1.5L Luxury  2019.0  4.900000e+08   \n",
              "3                         Mazda 2 1.5 AT  2015.0  3.650000e+08   \n",
              "4                Suzuki Swift GLX 1.2 AT  2021.0  5.650000e+08   \n",
              "\n",
              "       assemble_place     series  driven kms  num_of_door  num_of_seat  \\\n",
              "0           Nhập khẩu        SUV     65000.0          5.0          5.0   \n",
              "1  Lắp ráp trong nước        SUV     50000.0          5.0          7.0   \n",
              "2  Lắp ráp trong nước      Sedan     51000.0          4.0          5.0   \n",
              "3  Lắp ráp trong nước      Sedan     38000.0          4.0          5.0   \n",
              "4           Nhập khẩu  Hatchback      6000.0          5.0          5.0   \n",
              "\n",
              "  engine_type transmission                                                url  \\\n",
              "0        Xăng   Số tự động  https://bonbanh.com/xe-landrover-range_rover-h...   \n",
              "1        Xăng   Số tự động  https://bonbanh.com/xe-mitsubishi-outlander-2....   \n",
              "2        Xăng   Số tự động  https://bonbanh.com/xe-mazda-3-1.5l-luxury-201...   \n",
              "3        Xăng   Số tự động  https://bonbanh.com/xe-mazda-2-1.5-at-2015-491...   \n",
              "4        Xăng   Số tự động  https://bonbanh.com/xe-suzuki-swift-glx-1.2-at...   \n",
              "\n",
              "        brand                                  model  \n",
              "0   LandRover          LandRover Range Rover HSE 3.0  \n",
              "1  Mitsubishi   Mitsubishi Outlander 2.0 CVT Premium  \n",
              "2       Mazda                    Mazda 3 1.5L Luxury  \n",
              "3       Mazda                         Mazda 2 1.5 AT  \n",
              "4      Suzuki                Suzuki Swift GLX 1.2 AT  "
            ],
            "text/html": [
              "\n",
              "  <div id=\"df-5d9394b2-80b9-4150-a104-12cd697a7a75\">\n",
              "    <div class=\"colab-df-container\">\n",
              "      <div>\n",
              "<style scoped>\n",
              "    .dataframe tbody tr th:only-of-type {\n",
              "        vertical-align: middle;\n",
              "    }\n",
              "\n",
              "    .dataframe tbody tr th {\n",
              "        vertical-align: top;\n",
              "    }\n",
              "\n",
              "    .dataframe thead th {\n",
              "        text-align: right;\n",
              "    }\n",
              "</style>\n",
              "<table border=\"1\" class=\"dataframe\">\n",
              "  <thead>\n",
              "    <tr style=\"text-align: right;\">\n",
              "      <th></th>\n",
              "      <th>car_name</th>\n",
              "      <th>year</th>\n",
              "      <th>price</th>\n",
              "      <th>assemble_place</th>\n",
              "      <th>series</th>\n",
              "      <th>driven kms</th>\n",
              "      <th>num_of_door</th>\n",
              "      <th>num_of_seat</th>\n",
              "      <th>engine_type</th>\n",
              "      <th>transmission</th>\n",
              "      <th>url</th>\n",
              "      <th>brand</th>\n",
              "      <th>model</th>\n",
              "    </tr>\n",
              "  </thead>\n",
              "  <tbody>\n",
              "    <tr>\n",
              "      <th>0</th>\n",
              "      <td>LandRover Range Rover HSE 3.0</td>\n",
              "      <td>2015.0</td>\n",
              "      <td>2.700000e+09</td>\n",
              "      <td>Nhập khẩu</td>\n",
              "      <td>SUV</td>\n",
              "      <td>65000.0</td>\n",
              "      <td>5.0</td>\n",
              "      <td>5.0</td>\n",
              "      <td>Xăng</td>\n",
              "      <td>Số tự động</td>\n",
              "      <td>https://bonbanh.com/xe-landrover-range_rover-h...</td>\n",
              "      <td>LandRover</td>\n",
              "      <td>LandRover Range Rover HSE 3.0</td>\n",
              "    </tr>\n",
              "    <tr>\n",
              "      <th>1</th>\n",
              "      <td>Mitsubishi Outlander 2.0 CVT Premium</td>\n",
              "      <td>2018.0</td>\n",
              "      <td>6.660000e+08</td>\n",
              "      <td>Lắp ráp trong nước</td>\n",
              "      <td>SUV</td>\n",
              "      <td>50000.0</td>\n",
              "      <td>5.0</td>\n",
              "      <td>7.0</td>\n",
              "      <td>Xăng</td>\n",
              "      <td>Số tự động</td>\n",
              "      <td>https://bonbanh.com/xe-mitsubishi-outlander-2....</td>\n",
              "      <td>Mitsubishi</td>\n",
              "      <td>Mitsubishi Outlander 2.0 CVT Premium</td>\n",
              "    </tr>\n",
              "    <tr>\n",
              "      <th>2</th>\n",
              "      <td>Mazda 3 1.5L Luxury</td>\n",
              "      <td>2019.0</td>\n",
              "      <td>4.900000e+08</td>\n",
              "      <td>Lắp ráp trong nước</td>\n",
              "      <td>Sedan</td>\n",
              "      <td>51000.0</td>\n",
              "      <td>4.0</td>\n",
              "      <td>5.0</td>\n",
              "      <td>Xăng</td>\n",
              "      <td>Số tự động</td>\n",
              "      <td>https://bonbanh.com/xe-mazda-3-1.5l-luxury-201...</td>\n",
              "      <td>Mazda</td>\n",
              "      <td>Mazda 3 1.5L Luxury</td>\n",
              "    </tr>\n",
              "    <tr>\n",
              "      <th>3</th>\n",
              "      <td>Mazda 2 1.5 AT</td>\n",
              "      <td>2015.0</td>\n",
              "      <td>3.650000e+08</td>\n",
              "      <td>Lắp ráp trong nước</td>\n",
              "      <td>Sedan</td>\n",
              "      <td>38000.0</td>\n",
              "      <td>4.0</td>\n",
              "      <td>5.0</td>\n",
              "      <td>Xăng</td>\n",
              "      <td>Số tự động</td>\n",
              "      <td>https://bonbanh.com/xe-mazda-2-1.5-at-2015-491...</td>\n",
              "      <td>Mazda</td>\n",
              "      <td>Mazda 2 1.5 AT</td>\n",
              "    </tr>\n",
              "    <tr>\n",
              "      <th>4</th>\n",
              "      <td>Suzuki Swift GLX 1.2 AT</td>\n",
              "      <td>2021.0</td>\n",
              "      <td>5.650000e+08</td>\n",
              "      <td>Nhập khẩu</td>\n",
              "      <td>Hatchback</td>\n",
              "      <td>6000.0</td>\n",
              "      <td>5.0</td>\n",
              "      <td>5.0</td>\n",
              "      <td>Xăng</td>\n",
              "      <td>Số tự động</td>\n",
              "      <td>https://bonbanh.com/xe-suzuki-swift-glx-1.2-at...</td>\n",
              "      <td>Suzuki</td>\n",
              "      <td>Suzuki Swift GLX 1.2 AT</td>\n",
              "    </tr>\n",
              "  </tbody>\n",
              "</table>\n",
              "</div>\n",
              "      <button class=\"colab-df-convert\" onclick=\"convertToInteractive('df-5d9394b2-80b9-4150-a104-12cd697a7a75')\"\n",
              "              title=\"Convert this dataframe to an interactive table.\"\n",
              "              style=\"display:none;\">\n",
              "        \n",
              "  <svg xmlns=\"http://www.w3.org/2000/svg\" height=\"24px\"viewBox=\"0 0 24 24\"\n",
              "       width=\"24px\">\n",
              "    <path d=\"M0 0h24v24H0V0z\" fill=\"none\"/>\n",
              "    <path d=\"M18.56 5.44l.94 2.06.94-2.06 2.06-.94-2.06-.94-.94-2.06-.94 2.06-2.06.94zm-11 1L8.5 8.5l.94-2.06 2.06-.94-2.06-.94L8.5 2.5l-.94 2.06-2.06.94zm10 10l.94 2.06.94-2.06 2.06-.94-2.06-.94-.94-2.06-.94 2.06-2.06.94z\"/><path d=\"M17.41 7.96l-1.37-1.37c-.4-.4-.92-.59-1.43-.59-.52 0-1.04.2-1.43.59L10.3 9.45l-7.72 7.72c-.78.78-.78 2.05 0 2.83L4 21.41c.39.39.9.59 1.41.59.51 0 1.02-.2 1.41-.59l7.78-7.78 2.81-2.81c.8-.78.8-2.07 0-2.86zM5.41 20L4 18.59l7.72-7.72 1.47 1.35L5.41 20z\"/>\n",
              "  </svg>\n",
              "      </button>\n",
              "      \n",
              "  <style>\n",
              "    .colab-df-container {\n",
              "      display:flex;\n",
              "      flex-wrap:wrap;\n",
              "      gap: 12px;\n",
              "    }\n",
              "\n",
              "    .colab-df-convert {\n",
              "      background-color: #E8F0FE;\n",
              "      border: none;\n",
              "      border-radius: 50%;\n",
              "      cursor: pointer;\n",
              "      display: none;\n",
              "      fill: #1967D2;\n",
              "      height: 32px;\n",
              "      padding: 0 0 0 0;\n",
              "      width: 32px;\n",
              "    }\n",
              "\n",
              "    .colab-df-convert:hover {\n",
              "      background-color: #E2EBFA;\n",
              "      box-shadow: 0px 1px 2px rgba(60, 64, 67, 0.3), 0px 1px 3px 1px rgba(60, 64, 67, 0.15);\n",
              "      fill: #174EA6;\n",
              "    }\n",
              "\n",
              "    [theme=dark] .colab-df-convert {\n",
              "      background-color: #3B4455;\n",
              "      fill: #D2E3FC;\n",
              "    }\n",
              "\n",
              "    [theme=dark] .colab-df-convert:hover {\n",
              "      background-color: #434B5C;\n",
              "      box-shadow: 0px 1px 3px 1px rgba(0, 0, 0, 0.15);\n",
              "      filter: drop-shadow(0px 1px 2px rgba(0, 0, 0, 0.3));\n",
              "      fill: #FFFFFF;\n",
              "    }\n",
              "  </style>\n",
              "\n",
              "      <script>\n",
              "        const buttonEl =\n",
              "          document.querySelector('#df-5d9394b2-80b9-4150-a104-12cd697a7a75 button.colab-df-convert');\n",
              "        buttonEl.style.display =\n",
              "          google.colab.kernel.accessAllowed ? 'block' : 'none';\n",
              "\n",
              "        async function convertToInteractive(key) {\n",
              "          const element = document.querySelector('#df-5d9394b2-80b9-4150-a104-12cd697a7a75');\n",
              "          const dataTable =\n",
              "            await google.colab.kernel.invokeFunction('convertToInteractive',\n",
              "                                                     [key], {});\n",
              "          if (!dataTable) return;\n",
              "\n",
              "          const docLinkHtml = 'Like what you see? Visit the ' +\n",
              "            '<a target=\"_blank\" href=https://colab.research.google.com/notebooks/data_table.ipynb>data table notebook</a>'\n",
              "            + ' to learn more about interactive tables.';\n",
              "          element.innerHTML = '';\n",
              "          dataTable['output_type'] = 'display_data';\n",
              "          await google.colab.output.renderOutput(dataTable, element);\n",
              "          const docLink = document.createElement('div');\n",
              "          docLink.innerHTML = docLinkHtml;\n",
              "          element.appendChild(docLink);\n",
              "        }\n",
              "      </script>\n",
              "    </div>\n",
              "  </div>\n",
              "  "
            ]
          },
          "metadata": {},
          "execution_count": 436
        }
      ],
      "source": [
        "df.head()"
      ],
      "metadata": {
        "ExecuteTime": {
          "end_time": "2023-07-09T16:40:48.681298900Z",
          "start_time": "2023-07-09T16:40:47.665896600Z"
        },
        "colab": {
          "base_uri": "https://localhost:8080/",
          "height": 354
        },
        "id": "j7i-vpU3rNM6",
        "outputId": "b361ef8f-95bf-437f-b31d-3eb8d7b4ae09"
      }
    },
    {
      "cell_type": "markdown",
      "metadata": {
        "id": "CHf760C7rNM6"
      },
      "source": [
        "# Trực quan hóa dữ liệu"
      ]
    },
    {
      "cell_type": "code",
      "execution_count": 437,
      "outputs": [
        {
          "output_type": "execute_result",
          "data": {
            "text/plain": [
              "Số tự động    21039\n",
              "Số tay         3770\n",
              "Name: transmission, dtype: int64"
            ]
          },
          "metadata": {},
          "execution_count": 437
        }
      ],
      "source": [
        "df['transmission'].value_counts()"
      ],
      "metadata": {
        "ExecuteTime": {
          "end_time": "2023-07-09T16:40:48.681298900Z",
          "start_time": "2023-07-09T16:40:47.695764600Z"
        },
        "colab": {
          "base_uri": "https://localhost:8080/"
        },
        "id": "u9Q7TcSerNM6",
        "outputId": "7af00f5d-759e-4122-b757-e12e4d088465"
      }
    },
    {
      "cell_type": "markdown",
      "metadata": {
        "id": "ClmhBiXKrNM7"
      },
      "source": [
        "Tìm hiểu về mối liên hệ giữa giá xe và các thuộc tính khác"
      ]
    },
    {
      "cell_type": "code",
      "execution_count": 438,
      "metadata": {
        "ExecuteTime": {
          "end_time": "2023-07-09T16:40:48.681298900Z",
          "start_time": "2023-07-09T16:40:47.701763500Z"
        },
        "id": "o8sZ8yqtrNM8"
      },
      "outputs": [],
      "source": [
        "#vẽ price theo brand, series,year\n",
        "# plt.figure(figsize=(20, 10))\n",
        "# sns.barplot(x='brand_segment', y='price', data=df)\n",
        "# plt.title('Price by brand')\n",
        "# plt.xticks(rotation=90)\n",
        "# plt.show()"
      ]
    },
    {
      "cell_type": "code",
      "execution_count": 439,
      "metadata": {
        "ExecuteTime": {
          "end_time": "2023-07-09T16:40:49.055772100Z",
          "start_time": "2023-07-09T16:40:47.705773300Z"
        },
        "colab": {
          "base_uri": "https://localhost:8080/",
          "height": 933
        },
        "id": "3lqr-O5KrNM9",
        "outputId": "dc971502-0cd9-47a9-e578-603b89fba6b0"
      },
      "outputs": [
        {
          "output_type": "display_data",
          "data": {
            "text/plain": [
              "<Figure size 2000x1000 with 1 Axes>"
            ],
            "image/png": "[encoded data removed]"
          },
          "metadata": {}
        }
      ],
      "source": [
        "plt.figure(figsize=(20, 10))\n",
        "sns.barplot(x='series', y='price', data=df)\n",
        "plt.title('Price by series')\n",
        "plt.xticks(rotation=90)\n",
        "plt.show()"
      ]
    },
    {
      "cell_type": "code",
      "execution_count": 440,
      "metadata": {
        "ExecuteTime": {
          "end_time": "2023-07-09T16:40:49.751404900Z",
          "start_time": "2023-07-09T16:40:48.609771400Z"
        },
        "colab": {
          "base_uri": "https://localhost:8080/",
          "height": 814
        },
        "id": "R3jrCnG-rNM-",
        "outputId": "5dc6a65d-b7db-461a-8658-abad6a61df11"
      },
      "outputs": [
        {
          "output_type": "display_data",
          "data": {
            "text/plain": [
              "<Figure size 2000x1000 with 1 Axes>"
            ],
            "image/png": "[encoded data removed]"
          },
          "metadata": {}
        }
      ],
      "source": [
        "plt.figure(figsize=(20, 10))\n",
        "#đổi năm sản xuất thành tuổi xe\n",
        "df['year'] = 2023 - df['year']\n",
        "sns.barplot(x='year', y='price', data=df)\n",
        "plt.title('Price by year')\n",
        "plt.xticks(rotation=90)\n",
        "plt.show()"
      ]
    },
    {
      "cell_type": "code",
      "execution_count": 441,
      "metadata": {
        "ExecuteTime": {
          "end_time": "2023-07-09T16:40:50.202515Z",
          "start_time": "2023-07-09T16:40:49.748349100Z"
        },
        "colab": {
          "base_uri": "https://localhost:8080/",
          "height": 832
        },
        "id": "ogtx7sAarNM-",
        "outputId": "fe42e018-cf76-4121-84f1-ae5161eb7445"
      },
      "outputs": [
        {
          "output_type": "display_data",
          "data": {
            "text/plain": [
              "<Figure size 2000x1000 with 1 Axes>"
            ],
            "image/png": "[encoded data removed]"
          },
          "metadata": {}
        }
      ],
      "source": [
        "plt.figure(figsize=(20, 10))\n",
        "sns.barplot(x='engine_type', y='price', data=df)\n",
        "plt.title('Price by engine_type')\n",
        "plt.xticks(rotation=90)\n",
        "plt.show()\n"
      ]
    },
    {
      "cell_type": "code",
      "execution_count": 442,
      "metadata": {
        "ExecuteTime": {
          "end_time": "2023-07-09T16:40:51.277828300Z",
          "start_time": "2023-07-09T16:40:50.202515Z"
        },
        "colab": {
          "base_uri": "https://localhost:8080/",
          "height": 858
        },
        "id": "_T7mHJK5rNM_",
        "outputId": "a6f5c16c-5237-4f69-ae71-81d4c9f14318"
      },
      "outputs": [
        {
          "output_type": "display_data",
          "data": {
            "text/plain": [
              "<Figure size 2000x1000 with 2 Axes>"
            ],
            "image/png": "[encoded data removed]"
          },
          "metadata": {}
        }
      ],
      "source": [
        "plt.figure(figsize=(20, 10))\n",
        "plt.subplot(1, 2, 1)\n",
        "sns.barplot(x='transmission', y='price', data=df)\n",
        "plt.title('Price by transmission')\n",
        "plt.xticks(rotation=90)\n",
        "plt.subplot(1, 2, 2)\n",
        "sns.barplot(x='assemble_place', y='price', data=df)\n",
        "plt.show()"
      ]
    },
    {
      "cell_type": "markdown",
      "metadata": {
        "id": "NZE2Dq5nrNNA"
      },
      "source": []
    },
    {
      "cell_type": "code",
      "execution_count": 443,
      "metadata": {
        "ExecuteTime": {
          "end_time": "2023-07-09T16:40:52.943771Z",
          "start_time": "2023-07-09T16:40:51.423360Z"
        },
        "colab": {
          "base_uri": "https://localhost:8080/",
          "height": 802
        },
        "id": "_IK0hZlUrNNB",
        "outputId": "0c2ff892-3a38-49db-8dae-07354693254b"
      },
      "outputs": [
        {
          "output_type": "display_data",
          "data": {
            "text/plain": [
              "<Figure size 2000x1000 with 2 Axes>"
            ],
            "image/png": "[encoded data removed]"
          },
          "metadata": {}
        }
      ],
      "source": [
        "plt.figure(figsize=(20, 10))\n",
        "plt.subplot(1, 2, 1)\n",
        "sns.barplot(x='num_of_door', y='price', data=df)\n",
        "plt.title('Price by num_of_door')\n",
        "plt.subplot(1, 2, 2)\n",
        "sns.barplot(x='num_of_seat', y='price', data=df)\n",
        "plt.title('Price by num_of_seat')\n",
        "plt.show()"
      ]
    },
    {
      "cell_type": "markdown",
      "metadata": {
        "id": "lwLnKHtTrNNC"
      },
      "source": [
        "# Tìm hiểu về mối liên hệ giữa các thuộc tính với nhau"
      ]
    },
    {
      "cell_type": "code",
      "execution_count": 444,
      "outputs": [
        {
          "output_type": "execute_result",
          "data": {
            "text/plain": [
              "                                car_name  year         price  \\\n",
              "0          LandRover Range Rover HSE 3.0   8.0  2.700000e+09   \n",
              "1   Mitsubishi Outlander 2.0 CVT Premium   5.0  6.660000e+08   \n",
              "2                    Mazda 3 1.5L Luxury   4.0  4.900000e+08   \n",
              "3                         Mazda 2 1.5 AT   8.0  3.650000e+08   \n",
              "4                Suzuki Swift GLX 1.2 AT   2.0  5.650000e+08   \n",
              "\n",
              "       assemble_place     series  driven kms  num_of_door  num_of_seat  \\\n",
              "0           Nhập khẩu        SUV     65000.0          5.0          5.0   \n",
              "1  Lắp ráp trong nước        SUV     50000.0          5.0          7.0   \n",
              "2  Lắp ráp trong nước      Sedan     51000.0          4.0          5.0   \n",
              "3  Lắp ráp trong nước      Sedan     38000.0          4.0          5.0   \n",
              "4           Nhập khẩu  Hatchback      6000.0          5.0          5.0   \n",
              "\n",
              "  engine_type transmission                                                url  \\\n",
              "0        Xăng   Số tự động  https://bonbanh.com/xe-landrover-range_rover-h...   \n",
              "1        Xăng   Số tự động  https://bonbanh.com/xe-mitsubishi-outlander-2....   \n",
              "2        Xăng   Số tự động  https://bonbanh.com/xe-mazda-3-1.5l-luxury-201...   \n",
              "3        Xăng   Số tự động  https://bonbanh.com/xe-mazda-2-1.5-at-2015-491...   \n",
              "4        Xăng   Số tự động  https://bonbanh.com/xe-suzuki-swift-glx-1.2-at...   \n",
              "\n",
              "        brand                                  model  \n",
              "0   LandRover          LandRover Range Rover HSE 3.0  \n",
              "1  Mitsubishi   Mitsubishi Outlander 2.0 CVT Premium  \n",
              "2       Mazda                    Mazda 3 1.5L Luxury  \n",
              "3       Mazda                         Mazda 2 1.5 AT  \n",
              "4      Suzuki                Suzuki Swift GLX 1.2 AT  "
            ],
            "text/html": [
              "\n",
              "  <div id=\"df-2e39d0a8-5881-4953-8a05-3f26cfd452eb\">\n",
              "    <div class=\"colab-df-container\">\n",
              "      <div>\n",
              "<style scoped>\n",
              "    .dataframe tbody tr th:only-of-type {\n",
              "        vertical-align: middle;\n",
              "    }\n",
              "\n",
              "    .dataframe tbody tr th {\n",
              "        vertical-align: top;\n",
              "    }\n",
              "\n",
              "    .dataframe thead th {\n",
              "        text-align: right;\n",
              "    }\n",
              "</style>\n",
              "<table border=\"1\" class=\"dataframe\">\n",
              "  <thead>\n",
              "    <tr style=\"text-align: right;\">\n",
              "      <th></th>\n",
              "      <th>car_name</th>\n",
              "      <th>year</th>\n",
              "      <th>price</th>\n",
              "      <th>assemble_place</th>\n",
              "      <th>series</th>\n",
              "      <th>driven kms</th>\n",
              "      <th>num_of_door</th>\n",
              "      <th>num_of_seat</th>\n",
              "      <th>engine_type</th>\n",
              "      <th>transmission</th>\n",
              "      <th>url</th>\n",
              "      <th>brand</th>\n",
              "      <th>model</th>\n",
              "    </tr>\n",
              "  </thead>\n",
              "  <tbody>\n",
              "    <tr>\n",
              "      <th>0</th>\n",
              "      <td>LandRover Range Rover HSE 3.0</td>\n",
              "      <td>8.0</td>\n",
              "      <td>2.700000e+09</td>\n",
              "      <td>Nhập khẩu</td>\n",
              "      <td>SUV</td>\n",
              "      <td>65000.0</td>\n",
              "      <td>5.0</td>\n",
              "      <td>5.0</td>\n",
              "      <td>Xăng</td>\n",
              "      <td>Số tự động</td>\n",
              "      <td>https://bonbanh.com/xe-landrover-range_rover-h...</td>\n",
              "      <td>LandRover</td>\n",
              "      <td>LandRover Range Rover HSE 3.0</td>\n",
              "    </tr>\n",
              "    <tr>\n",
              "      <th>1</th>\n",
              "      <td>Mitsubishi Outlander 2.0 CVT Premium</td>\n",
              "      <td>5.0</td>\n",
              "      <td>6.660000e+08</td>\n",
              "      <td>Lắp ráp trong nước</td>\n",
              "      <td>SUV</td>\n",
              "      <td>50000.0</td>\n",
              "      <td>5.0</td>\n",
              "      <td>7.0</td>\n",
              "      <td>Xăng</td>\n",
              "      <td>Số tự động</td>\n",
              "      <td>https://bonbanh.com/xe-mitsubishi-outlander-2....</td>\n",
              "      <td>Mitsubishi</td>\n",
              "      <td>Mitsubishi Outlander 2.0 CVT Premium</td>\n",
              "    </tr>\n",
              "    <tr>\n",
              "      <th>2</th>\n",
              "      <td>Mazda 3 1.5L Luxury</td>\n",
              "      <td>4.0</td>\n",
              "      <td>4.900000e+08</td>\n",
              "      <td>Lắp ráp trong nước</td>\n",
              "      <td>Sedan</td>\n",
              "      <td>51000.0</td>\n",
              "      <td>4.0</td>\n",
              "      <td>5.0</td>\n",
              "      <td>Xăng</td>\n",
              "      <td>Số tự động</td>\n",
              "      <td>https://bonbanh.com/xe-mazda-3-1.5l-luxury-201...</td>\n",
              "      <td>Mazda</td>\n",
              "      <td>Mazda 3 1.5L Luxury</td>\n",
              "    </tr>\n",
              "    <tr>\n",
              "      <th>3</th>\n",
              "      <td>Mazda 2 1.5 AT</td>\n",
              "      <td>8.0</td>\n",
              "      <td>3.650000e+08</td>\n",
              "      <td>Lắp ráp trong nước</td>\n",
              "      <td>Sedan</td>\n",
              "      <td>38000.0</td>\n",
              "      <td>4.0</td>\n",
              "      <td>5.0</td>\n",
              "      <td>Xăng</td>\n",
              "      <td>Số tự động</td>\n",
              "      <td>https://bonbanh.com/xe-mazda-2-1.5-at-2015-491...</td>\n",
              "      <td>Mazda</td>\n",
              "      <td>Mazda 2 1.5 AT</td>\n",
              "    </tr>\n",
              "    <tr>\n",
              "      <th>4</th>\n",
              "      <td>Suzuki Swift GLX 1.2 AT</td>\n",
              "      <td>2.0</td>\n",
              "      <td>5.650000e+08</td>\n",
              "      <td>Nhập khẩu</td>\n",
              "      <td>Hatchback</td>\n",
              "      <td>6000.0</td>\n",
              "      <td>5.0</td>\n",
              "      <td>5.0</td>\n",
              "      <td>Xăng</td>\n",
              "      <td>Số tự động</td>\n",
              "      <td>https://bonbanh.com/xe-suzuki-swift-glx-1.2-at...</td>\n",
              "      <td>Suzuki</td>\n",
              "      <td>Suzuki Swift GLX 1.2 AT</td>\n",
              "    </tr>\n",
              "  </tbody>\n",
              "</table>\n",
              "</div>\n",
              "      <button class=\"colab-df-convert\" onclick=\"convertToInteractive('df-2e39d0a8-5881-4953-8a05-3f26cfd452eb')\"\n",
              "              title=\"Convert this dataframe to an interactive table.\"\n",
              "              style=\"display:none;\">\n",
              "        \n",
              "  <svg xmlns=\"http://www.w3.org/2000/svg\" height=\"24px\"viewBox=\"0 0 24 24\"\n",
              "       width=\"24px\">\n",
              "    <path d=\"M0 0h24v24H0V0z\" fill=\"none\"/>\n",
              "    <path d=\"M18.56 5.44l.94 2.06.94-2.06 2.06-.94-2.06-.94-.94-2.06-.94 2.06-2.06.94zm-11 1L8.5 8.5l.94-2.06 2.06-.94-2.06-.94L8.5 2.5l-.94 2.06-2.06.94zm10 10l.94 2.06.94-2.06 2.06-.94-2.06-.94-.94-2.06-.94 2.06-2.06.94z\"/><path d=\"M17.41 7.96l-1.37-1.37c-.4-.4-.92-.59-1.43-.59-.52 0-1.04.2-1.43.59L10.3 9.45l-7.72 7.72c-.78.78-.78 2.05 0 2.83L4 21.41c.39.39.9.59 1.41.59.51 0 1.02-.2 1.41-.59l7.78-7.78 2.81-2.81c.8-.78.8-2.07 0-2.86zM5.41 20L4 18.59l7.72-7.72 1.47 1.35L5.41 20z\"/>\n",
              "  </svg>\n",
              "      </button>\n",
              "      \n",
              "  <style>\n",
              "    .colab-df-container {\n",
              "      display:flex;\n",
              "      flex-wrap:wrap;\n",
              "      gap: 12px;\n",
              "    }\n",
              "\n",
              "    .colab-df-convert {\n",
              "      background-color: #E8F0FE;\n",
              "      border: none;\n",
              "      border-radius: 50%;\n",
              "      cursor: pointer;\n",
              "      display: none;\n",
              "      fill: #1967D2;\n",
              "      height: 32px;\n",
              "      padding: 0 0 0 0;\n",
              "      width: 32px;\n",
              "    }\n",
              "\n",
              "    .colab-df-convert:hover {\n",
              "      background-color: #E2EBFA;\n",
              "      box-shadow: 0px 1px 2px rgba(60, 64, 67, 0.3), 0px 1px 3px 1px rgba(60, 64, 67, 0.15);\n",
              "      fill: #174EA6;\n",
              "    }\n",
              "\n",
              "    [theme=dark] .colab-df-convert {\n",
              "      background-color: #3B4455;\n",
              "      fill: #D2E3FC;\n",
              "    }\n",
              "\n",
              "    [theme=dark] .colab-df-convert:hover {\n",
              "      background-color: #434B5C;\n",
              "      box-shadow: 0px 1px 3px 1px rgba(0, 0, 0, 0.15);\n",
              "      filter: drop-shadow(0px 1px 2px rgba(0, 0, 0, 0.3));\n",
              "      fill: #FFFFFF;\n",
              "    }\n",
              "  </style>\n",
              "\n",
              "      <script>\n",
              "        const buttonEl =\n",
              "          document.querySelector('#df-2e39d0a8-5881-4953-8a05-3f26cfd452eb button.colab-df-convert');\n",
              "        buttonEl.style.display =\n",
              "          google.colab.kernel.accessAllowed ? 'block' : 'none';\n",
              "\n",
              "        async function convertToInteractive(key) {\n",
              "          const element = document.querySelector('#df-2e39d0a8-5881-4953-8a05-3f26cfd452eb');\n",
              "          const dataTable =\n",
              "            await google.colab.kernel.invokeFunction('convertToInteractive',\n",
              "                                                     [key], {});\n",
              "          if (!dataTable) return;\n",
              "\n",
              "          const docLinkHtml = 'Like what you see? Visit the ' +\n",
              "            '<a target=\"_blank\" href=https://colab.research.google.com/notebooks/data_table.ipynb>data table notebook</a>'\n",
              "            + ' to learn more about interactive tables.';\n",
              "          element.innerHTML = '';\n",
              "          dataTable['output_type'] = 'display_data';\n",
              "          await google.colab.output.renderOutput(dataTable, element);\n",
              "          const docLink = document.createElement('div');\n",
              "          docLink.innerHTML = docLinkHtml;\n",
              "          element.appendChild(docLink);\n",
              "        }\n",
              "      </script>\n",
              "    </div>\n",
              "  </div>\n",
              "  "
            ]
          },
          "metadata": {},
          "execution_count": 444
        }
      ],
      "source": [
        "df.head()"
      ],
      "metadata": {
        "ExecuteTime": {
          "end_time": "2023-07-09T16:40:52.960349700Z",
          "start_time": "2023-07-09T16:40:52.941774600Z"
        },
        "colab": {
          "base_uri": "https://localhost:8080/",
          "height": 354
        },
        "id": "1zLTKFPirNNC",
        "outputId": "ef2d85a0-b931-4b4a-bd31-1da2b9cd3288"
      }
    },
    {
      "cell_type": "code",
      "execution_count": 445,
      "outputs": [
        {
          "output_type": "execute_result",
          "data": {
            "text/plain": [
              "0    14549\n",
              "1    10260\n",
              "Name: assemble_place, dtype: int64"
            ]
          },
          "metadata": {},
          "execution_count": 445
        }
      ],
      "source": [
        "df['assemble_place'] = df['assemble_place'].map({'Lắp ráp trong nước': 0, 'Nhập khẩu': 1})\n",
        "df['assemble_place'].value_counts()"
      ],
      "metadata": {
        "ExecuteTime": {
          "end_time": "2023-07-09T16:40:53.174061700Z",
          "start_time": "2023-07-09T16:40:52.966351900Z"
        },
        "colab": {
          "base_uri": "https://localhost:8080/"
        },
        "id": "EVRvcZVYrNND",
        "outputId": "5be8d80b-1255-4c17-db72-a8a07a6aa328"
      }
    },
    {
      "cell_type": "code",
      "execution_count": 446,
      "outputs": [
        {
          "output_type": "execute_result",
          "data": {
            "text/plain": [
              "1    21039\n",
              "0     3770\n",
              "Name: transmission, dtype: int64"
            ]
          },
          "metadata": {},
          "execution_count": 446
        }
      ],
      "source": [
        "df['transmission'] = df['transmission'].map({'Số tay': 0, 'Số tự động': 1})\n",
        "df['transmission'].value_counts()"
      ],
      "metadata": {
        "ExecuteTime": {
          "end_time": "2023-07-09T16:40:53.175061Z",
          "start_time": "2023-07-09T16:40:52.979369300Z"
        },
        "colab": {
          "base_uri": "https://localhost:8080/"
        },
        "id": "EtUxzRmErNND",
        "outputId": "e116f046-1ee8-4260-faa5-001aa8cfa62a"
      }
    },
    {
      "cell_type": "code",
      "execution_count": 447,
      "outputs": [
        {
          "output_type": "display_data",
          "data": {
            "text/plain": [
              "<Figure size 2000x1000 with 2 Axes>"
            ],
            "image/png": "[encoded data removed]"
          },
          "metadata": {}
        }
      ],
      "source": [
        "#vẽ biểu đồ nhiệt giữa price và các thuộc tính trừ model\n",
        "plt.figure(figsize=(20, 10))\n",
        "numeric_cols = df.select_dtypes(include=['float64', 'int64','int32'])\n",
        "sns.heatmap(numeric_cols.corr(), annot=True)\n",
        "plt.show()\n",
        "\n"
      ],
      "metadata": {
        "ExecuteTime": {
          "end_time": "2023-07-09T16:40:53.441170Z",
          "start_time": "2023-07-09T16:40:52.992190600Z"
        },
        "colab": {
          "base_uri": "https://localhost:8080/",
          "height": 836
        },
        "id": "uq_BYsdKrNNE",
        "outputId": "ec630df2-6141-4caa-ff54-32dc23698eac"
      }
    },
    {
      "cell_type": "code",
      "execution_count": 448,
      "outputs": [],
      "source": [
        "df.to_csv('data_clean.csv', index=False)"
      ],
      "metadata": {
        "ExecuteTime": {
          "end_time": "2023-07-09T16:40:53.787090100Z",
          "start_time": "2023-07-09T16:40:53.441170Z"
        },
        "id": "l5Jlu_Z8rNNE"
      }
    },
    {
      "cell_type": "markdown",
      "source": [
        "# Rừng ngẫu nhiên"
      ],
      "metadata": {
        "collapsed": false,
        "id": "buQOv7kJrNNF"
      }
    },
    {
      "cell_type": "code",
      "execution_count": 449,
      "outputs": [],
      "source": [
        "from sklearn.preprocessing import LabelEncoder\n",
        "le=LabelEncoder()\n",
        "categorical_columns = ['engine_type', 'series', 'model'\n",
        ", 'brand', 'assemble_place', 'transmission']"
      ],
      "metadata": {
        "ExecuteTime": {
          "end_time": "2023-07-09T17:02:05.922684600Z",
          "start_time": "2023-07-09T17:02:05.895550800Z"
        },
        "id": "BD_K5ixrrNNF"
      }
    },
    {
      "cell_type": "code",
      "execution_count": 450,
      "outputs": [],
      "source": [
        "from sklearn.preprocessing import OrdinalEncoder\n",
        "from sklearn.compose import ColumnTransformer\n",
        "\n",
        "encoders = {}\n",
        "\n",
        "for col in categorical_columns:\n",
        "    le = LabelEncoder()\n",
        "    le.fit(df[col])\n",
        "    df[col] = le.transform(df[col])\n",
        "    encoders[col] = le\n"
      ],
      "metadata": {
        "ExecuteTime": {
          "end_time": "2023-07-09T17:02:03.589690600Z",
          "start_time": "2023-07-09T17:02:03.527723600Z"
        },
        "id": "pK5YfUc1rNNG"
      }
    },
    {
      "cell_type": "code",
      "execution_count": 451,
      "outputs": [],
      "source": [
        "X = df[['engine_type','series','model','brand','year','driven kms','num_of_seat','num_of_door',\n",
        "        'transmission','assemble_place']]\n",
        "y = df['price']\n"
      ],
      "metadata": {
        "ExecuteTime": {
          "end_time": "2023-07-09T17:02:08.060871100Z",
          "start_time": "2023-07-09T17:02:07.963594500Z"
        },
        "id": "LybJ_nprrNNG"
      }
    },
    {
      "cell_type": "code",
      "execution_count": 452,
      "outputs": [],
      "source": [
        "X_train,X_test,y_train,y_test=train_test_split(X,y,test_size=0.2,random_state=42)\n"
      ],
      "metadata": {
        "ExecuteTime": {
          "end_time": "2023-07-09T17:02:09.449861600Z",
          "start_time": "2023-07-09T17:02:09.427640700Z"
        },
        "id": "gI2u9TtqrNNH"
      }
    },
    {
      "cell_type": "code",
      "execution_count": 453,
      "outputs": [],
      "source": [
        "rf= RandomForestRegressor()"
      ],
      "metadata": {
        "ExecuteTime": {
          "end_time": "2023-07-09T17:02:11.448324100Z",
          "start_time": "2023-07-09T17:02:11.433810800Z"
        },
        "id": "azuAJO9jrNNH"
      }
    },
    {
      "cell_type": "code",
      "execution_count": 454,
      "outputs": [],
      "source": [
        "from sklearn.model_selection import KFold, RandomizedSearchCV\n",
        "\n",
        "\n",
        "rf_hyperparams = {\n",
        "    'n_estimators': [200, 300, 400, 500],\n",
        "    'max_depth': [None, 10, 50, 90, 110],\n",
        "    'max_features': ['auto', 'sqrt'],\n",
        "    'min_samples_split': [2, 5, 10],\n",
        "    'min_samples_leaf': [1, 2, 4],\n",
        "    'bootstrap': [True, False]\n",
        "}\n",
        "\n",
        "rf_randomized_search = RandomizedSearchCV(\n",
        "    estimator = rf,\n",
        "    param_distributions = rf_hyperparams,\n",
        "    n_iter = 10,\n",
        "    cv=KFold(n_splits=10, shuffle=True, random_state=42),\n",
        "    verbose=2,\n",
        "    random_state=42,\n",
        "    n_jobs = -1\n",
        ")"
      ],
      "metadata": {
        "ExecuteTime": {
          "end_time": "2023-07-09T17:02:13.388335200Z",
          "start_time": "2023-07-09T17:02:13.369358500Z"
        },
        "id": "FSy45K4rrNNI"
      }
    },
    {
      "cell_type": "code",
      "execution_count": 455,
      "outputs": [],
      "source": [
        "from sklearn.pipeline import Pipeline\n",
        "\n",
        "pipeline = Pipeline([\n",
        "    ('scaler', StandardScaler()),\n",
        "    ('model', rf_randomized_search)\n",
        "])"
      ],
      "metadata": {
        "ExecuteTime": {
          "end_time": "2023-07-09T17:02:34.800307Z",
          "start_time": "2023-07-09T17:02:34.415306700Z"
        },
        "id": "w880Y6rArNNI"
      }
    },
    {
      "cell_type": "code",
      "execution_count": 456,
      "outputs": [
        {
          "output_type": "stream",
          "name": "stdout",
          "text": [
            "Fitting 10 folds for each of 10 candidates, totalling 100 fits\n"
          ]
        },
        {
          "output_type": "execute_result",
          "data": {
            "text/plain": [
              "Pipeline(steps=[('scaler', StandardScaler()),\n",
              "                ('model',\n",
              "                 RandomizedSearchCV(cv=KFold(n_splits=10, random_state=42, shuffle=True),\n",
              "                                    estimator=RandomForestRegressor(),\n",
              "                                    n_jobs=-1,\n",
              "                                    param_distributions={'bootstrap': [True,\n",
              "                                                                       False],\n",
              "                                                         'max_depth': [None, 10,\n",
              "                                                                       50, 90,\n",
              "                                                                       110],\n",
              "                                                         'max_features': ['auto',\n",
              "                                                                          'sqrt'],\n",
              "                                                         'min_samples_leaf': [1,\n",
              "                                                                              2,\n",
              "                                                                              4],\n",
              "                                                         'min_samples_split': [2,\n",
              "                                                                               5,\n",
              "                                                                               10],\n",
              "                                                         'n_estimators': [200,\n",
              "                                                                          300,\n",
              "                                                                          400,\n",
              "                                                                          500]},\n",
              "                                    random_state=42, verbose=2))])"
            ],
            "text/html": [
              "<style>#sk-container-id-26 {color: black;background-color: white;}#sk-container-id-26 pre{padding: 0;}#sk-container-id-26 div.sk-toggleable {background-color: white;}#sk-container-id-26 label.sk-toggleable__label {cursor: pointer;display: block;width: 100%;margin-bottom: 0;padding: 0.3em;box-sizing: border-box;text-align: center;}#sk-container-id-26 label.sk-toggleable__label-arrow:before {content: \"▸\";float: left;margin-right: 0.25em;color: #696969;}#sk-container-id-26 label.sk-toggleable__label-arrow:hover:before {color: black;}#sk-container-id-26 div.sk-estimator:hover label.sk-toggleable__label-arrow:before {color: black;}#sk-container-id-26 div.sk-toggleable__content {max-height: 0;max-width: 0;overflow: hidden;text-align: left;background-color: #f0f8ff;}#sk-container-id-26 div.sk-toggleable__content pre {margin: 0.2em;color: black;border-radius: 0.25em;background-color: #f0f8ff;}#sk-container-id-26 input.sk-toggleable__control:checked~div.sk-toggleable__content {max-height: 200px;max-width: 100%;overflow: auto;}#sk-container-id-26 input.sk-toggleable__control:checked~label.sk-toggleable__label-arrow:before {content: \"▾\";}#sk-container-id-26 div.sk-estimator input.sk-toggleable__control:checked~label.sk-toggleable__label {background-color: #d4ebff;}#sk-container-id-26 div.sk-label input.sk-toggleable__control:checked~label.sk-toggleable__label {background-color: #d4ebff;}#sk-container-id-26 input.sk-hidden--visually {border: 0;clip: rect(1px 1px 1px 1px);clip: rect(1px, 1px, 1px, 1px);height: 1px;margin: -1px;overflow: hidden;padding: 0;position: absolute;width: 1px;}#sk-container-id-26 div.sk-estimator {font-family: monospace;background-color: #f0f8ff;border: 1px dotted black;border-radius: 0.25em;box-sizing: border-box;margin-bottom: 0.5em;}#sk-container-id-26 div.sk-estimator:hover {background-color: #d4ebff;}#sk-container-id-26 div.sk-parallel-item::after {content: \"\";width: 100%;border-bottom: 1px solid gray;flex-grow: 1;}#sk-container-id-26 div.sk-label:hover label.sk-toggleable__label {background-color: #d4ebff;}#sk-container-id-26 div.sk-serial::before {content: \"\";position: absolute;border-left: 1px solid gray;box-sizing: border-box;top: 0;bottom: 0;left: 50%;z-index: 0;}#sk-container-id-26 div.sk-serial {display: flex;flex-direction: column;align-items: center;background-color: white;padding-right: 0.2em;padding-left: 0.2em;position: relative;}#sk-container-id-26 div.sk-item {position: relative;z-index: 1;}#sk-container-id-26 div.sk-parallel {display: flex;align-items: stretch;justify-content: center;background-color: white;position: relative;}#sk-container-id-26 div.sk-item::before, #sk-container-id-26 div.sk-parallel-item::before {content: \"\";position: absolute;border-left: 1px solid gray;box-sizing: border-box;top: 0;bottom: 0;left: 50%;z-index: -1;}#sk-container-id-26 div.sk-parallel-item {display: flex;flex-direction: column;z-index: 1;position: relative;background-color: white;}#sk-container-id-26 div.sk-parallel-item:first-child::after {align-self: flex-end;width: 50%;}#sk-container-id-26 div.sk-parallel-item:last-child::after {align-self: flex-start;width: 50%;}#sk-container-id-26 div.sk-parallel-item:only-child::after {width: 0;}#sk-container-id-26 div.sk-dashed-wrapped {border: 1px dashed gray;margin: 0 0.4em 0.5em 0.4em;box-sizing: border-box;padding-bottom: 0.4em;background-color: white;}#sk-container-id-26 div.sk-label label {font-family: monospace;font-weight: bold;display: inline-block;line-height: 1.2em;}#sk-container-id-26 div.sk-label-container {text-align: center;}#sk-container-id-26 div.sk-container {/* jupyter's `normalize.less` sets `[hidden] { display: none; }` but bootstrap.min.css set `[hidden] { display: none !important; }` so we also need the `!important` here to be able to override the default hidden behavior on the sphinx rendered scikit-learn.org. See: https://github.com/scikit-learn/scikit-learn/issues/21755 */display: inline-block !important;position: relative;}#sk-container-id-26 div.sk-text-repr-fallback {display: none;}</style><div id=\"sk-container-id-26\" class=\"sk-top-container\"><div class=\"sk-text-repr-fallback\"><pre>Pipeline(steps=[(&#x27;scaler&#x27;, StandardScaler()),\n",
              "                (&#x27;model&#x27;,\n",
              "                 RandomizedSearchCV(cv=KFold(n_splits=10, random_state=42, shuffle=True),\n",
              "                                    estimator=RandomForestRegressor(),\n",
              "                                    n_jobs=-1,\n",
              "                                    param_distributions={&#x27;bootstrap&#x27;: [True,\n",
              "                                                                       False],\n",
              "                                                         &#x27;max_depth&#x27;: [None, 10,\n",
              "                                                                       50, 90,\n",
              "                                                                       110],\n",
              "                                                         &#x27;max_features&#x27;: [&#x27;auto&#x27;,\n",
              "                                                                          &#x27;sqrt&#x27;],\n",
              "                                                         &#x27;min_samples_leaf&#x27;: [1,\n",
              "                                                                              2,\n",
              "                                                                              4],\n",
              "                                                         &#x27;min_samples_split&#x27;: [2,\n",
              "                                                                               5,\n",
              "                                                                               10],\n",
              "                                                         &#x27;n_estimators&#x27;: [200,\n",
              "                                                                          300,\n",
              "                                                                          400,\n",
              "                                                                          500]},\n",
              "                                    random_state=42, verbose=2))])</pre><b>In a Jupyter environment, please rerun this cell to show the HTML representation or trust the notebook. <br />On GitHub, the HTML representation is unable to render, please try loading this page with nbviewer.org.</b></div><div class=\"sk-container\" hidden><div class=\"sk-item sk-dashed-wrapped\"><div class=\"sk-label-container\"><div class=\"sk-label sk-toggleable\"><input class=\"sk-toggleable__control sk-hidden--visually\" id=\"sk-estimator-id-80\" type=\"checkbox\" ><label for=\"sk-estimator-id-80\" class=\"sk-toggleable__label sk-toggleable__label-arrow\">Pipeline</label><div class=\"sk-toggleable__content\"><pre>Pipeline(steps=[(&#x27;scaler&#x27;, StandardScaler()),\n",
              "                (&#x27;model&#x27;,\n",
              "                 RandomizedSearchCV(cv=KFold(n_splits=10, random_state=42, shuffle=True),\n",
              "                                    estimator=RandomForestRegressor(),\n",
              "                                    n_jobs=-1,\n",
              "                                    param_distributions={&#x27;bootstrap&#x27;: [True,\n",
              "                                                                       False],\n",
              "                                                         &#x27;max_depth&#x27;: [None, 10,\n",
              "                                                                       50, 90,\n",
              "                                                                       110],\n",
              "                                                         &#x27;max_features&#x27;: [&#x27;auto&#x27;,\n",
              "                                                                          &#x27;sqrt&#x27;],\n",
              "                                                         &#x27;min_samples_leaf&#x27;: [1,\n",
              "                                                                              2,\n",
              "                                                                              4],\n",
              "                                                         &#x27;min_samples_split&#x27;: [2,\n",
              "                                                                               5,\n",
              "                                                                               10],\n",
              "                                                         &#x27;n_estimators&#x27;: [200,\n",
              "                                                                          300,\n",
              "                                                                          400,\n",
              "                                                                          500]},\n",
              "                                    random_state=42, verbose=2))])</pre></div></div></div><div class=\"sk-serial\"><div class=\"sk-item\"><div class=\"sk-estimator sk-toggleable\"><input class=\"sk-toggleable__control sk-hidden--visually\" id=\"sk-estimator-id-81\" type=\"checkbox\" ><label for=\"sk-estimator-id-81\" class=\"sk-toggleable__label sk-toggleable__label-arrow\">StandardScaler</label><div class=\"sk-toggleable__content\"><pre>StandardScaler()</pre></div></div></div><div class=\"sk-item sk-dashed-wrapped\"><div class=\"sk-label-container\"><div class=\"sk-label sk-toggleable\"><input class=\"sk-toggleable__control sk-hidden--visually\" id=\"sk-estimator-id-82\" type=\"checkbox\" ><label for=\"sk-estimator-id-82\" class=\"sk-toggleable__label sk-toggleable__label-arrow\">model: RandomizedSearchCV</label><div class=\"sk-toggleable__content\"><pre>RandomizedSearchCV(cv=KFold(n_splits=10, random_state=42, shuffle=True),\n",
              "                   estimator=RandomForestRegressor(), n_jobs=-1,\n",
              "                   param_distributions={&#x27;bootstrap&#x27;: [True, False],\n",
              "                                        &#x27;max_depth&#x27;: [None, 10, 50, 90, 110],\n",
              "                                        &#x27;max_features&#x27;: [&#x27;auto&#x27;, &#x27;sqrt&#x27;],\n",
              "                                        &#x27;min_samples_leaf&#x27;: [1, 2, 4],\n",
              "                                        &#x27;min_samples_split&#x27;: [2, 5, 10],\n",
              "                                        &#x27;n_estimators&#x27;: [200, 300, 400, 500]},\n",
              "                   random_state=42, verbose=2)</pre></div></div></div><div class=\"sk-parallel\"><div class=\"sk-parallel-item\"><div class=\"sk-item\"><div class=\"sk-label-container\"><div class=\"sk-label sk-toggleable\"><input class=\"sk-toggleable__control sk-hidden--visually\" id=\"sk-estimator-id-83\" type=\"checkbox\" ><label for=\"sk-estimator-id-83\" class=\"sk-toggleable__label sk-toggleable__label-arrow\">estimator: RandomForestRegressor</label><div class=\"sk-toggleable__content\"><pre>RandomForestRegressor()</pre></div></div></div><div class=\"sk-serial\"><div class=\"sk-item\"><div class=\"sk-estimator sk-toggleable\"><input class=\"sk-toggleable__control sk-hidden--visually\" id=\"sk-estimator-id-84\" type=\"checkbox\" ><label for=\"sk-estimator-id-84\" class=\"sk-toggleable__label sk-toggleable__label-arrow\">RandomForestRegressor</label><div class=\"sk-toggleable__content\"><pre>RandomForestRegressor()</pre></div></div></div></div></div></div></div></div></div></div></div></div>"
            ]
          },
          "metadata": {},
          "execution_count": 456
        }
      ],
      "source": [
        "pipeline.fit(X, y)"
      ],
      "metadata": {
        "is_executing": true,
        "ExecuteTime": {
          "start_time": "2023-07-09T17:02:36.085744300Z"
        },
        "colab": {
          "base_uri": "https://localhost:8080/",
          "height": 210
        },
        "id": "gJRUR9DRrNNJ",
        "outputId": "e8271099-bad4-4125-d5c8-3936682f0099"
      }
    },
    {
      "cell_type": "code",
      "execution_count": 457,
      "outputs": [],
      "source": [
        "y_pred = pipeline.predict(X_test)"
      ],
      "metadata": {
        "ExecuteTime": {
          "end_time": "2023-07-09T16:42:45.567164200Z",
          "start_time": "2023-07-09T16:42:45.485222100Z"
        },
        "id": "KNbVSBq2rNNK"
      }
    },
    {
      "cell_type": "code",
      "execution_count": 458,
      "outputs": [
        {
          "output_type": "execute_result",
          "data": {
            "text/plain": [
              "0.9658803535035644"
            ]
          },
          "metadata": {},
          "execution_count": 458
        }
      ],
      "source": [
        "\n",
        "pipeline.score(X_test, y_test)"
      ],
      "metadata": {
        "ExecuteTime": {
          "end_time": "2023-07-09T16:42:52.004262100Z",
          "start_time": "2023-07-09T16:42:51.919435700Z"
        },
        "colab": {
          "base_uri": "https://localhost:8080/"
        },
        "id": "eYdPVq8VrNNK",
        "outputId": "fceb3160-5f1e-47bc-a3a8-1fb5bf9a28d6"
      }
    },
    {
      "cell_type": "markdown",
      "metadata": {
        "id": "bgBm80B4rNNL"
      },
      "source": [
        "# Mã hóa các cột dạng nhãn thành dạng số để có thể sử dụng cho mô hình học máy"
      ]
    },
    {
      "cell_type": "markdown",
      "metadata": {
        "id": "3DG5wPbvrNNL"
      },
      "source": [
        "Cột assemble_place chỉ có 2 giá trị là 'Lắp ráp trong nước' và 'Nhập khẩu', ta sẽ mã hóa thành 0 và 1"
      ]
    },
    {
      "cell_type": "code",
      "execution_count": 459,
      "metadata": {
        "ExecuteTime": {
          "start_time": "2023-07-09T16:40:53.921220300Z"
        },
        "id": "qIE9swkFrNNL"
      },
      "outputs": [],
      "source": [
        "# df['assemble_place'] = df['assemble_place'].map({'Lắp ráp trong nước': 0, 'Nhập khẩu': 1})"
      ]
    },
    {
      "cell_type": "markdown",
      "metadata": {
        "id": "zCIZIvIlrNNM"
      },
      "source": [
        "Tương tự cho cột transmission"
      ]
    },
    {
      "cell_type": "code",
      "execution_count": 460,
      "metadata": {
        "ExecuteTime": {
          "start_time": "2023-07-09T16:40:53.921220300Z"
        },
        "id": "pCXAkCr9rNNM"
      },
      "outputs": [],
      "source": [
        "# df['transmission'] = df['transmission'].map({'Số tay': 0, 'Số tự động': 1})"
      ]
    },
    {
      "cell_type": "code",
      "execution_count": 461,
      "metadata": {
        "ExecuteTime": {
          "start_time": "2023-07-09T16:40:53.922226500Z"
        },
        "id": "8l02ZuwyrNNN"
      },
      "outputs": [],
      "source": [
        "# df.columns"
      ]
    },
    {
      "cell_type": "code",
      "execution_count": 462,
      "metadata": {
        "ExecuteTime": {
          "start_time": "2023-07-09T16:40:53.923224200Z"
        },
        "id": "t1P8PS0trNNO"
      },
      "outputs": [],
      "source": [
        "# df['assemble_place'].value_counts()"
      ]
    },
    {
      "cell_type": "markdown",
      "source": [],
      "metadata": {
        "collapsed": false,
        "id": "UghJvqTirNNO"
      }
    },
    {
      "cell_type": "markdown",
      "metadata": {
        "id": "RuOwa7FdrNNP"
      },
      "source": [
        "Sử dụng OneHotEncoder để mã hóa các cột dạng nhãn còn lại"
      ]
    },
    {
      "cell_type": "code",
      "execution_count": 463,
      "metadata": {
        "ExecuteTime": {
          "end_time": "2023-07-09T16:48:45.306193Z",
          "start_time": "2023-07-09T16:48:45.275067400Z"
        },
        "colab": {
          "base_uri": "https://localhost:8080/",
          "height": 75
        },
        "id": "VI5c7TW3rNNP",
        "outputId": "5cd1aafa-73d0-4709-de36-61ea3bf6fe29"
      },
      "outputs": [
        {
          "output_type": "execute_result",
          "data": {
            "text/plain": [
              "OneHotEncoder()"
            ],
            "text/html": [
              "<style>#sk-container-id-27 {color: black;background-color: white;}#sk-container-id-27 pre{padding: 0;}#sk-container-id-27 div.sk-toggleable {background-color: white;}#sk-container-id-27 label.sk-toggleable__label {cursor: pointer;display: block;width: 100%;margin-bottom: 0;padding: 0.3em;box-sizing: border-box;text-align: center;}#sk-container-id-27 label.sk-toggleable__label-arrow:before {content: \"▸\";float: left;margin-right: 0.25em;color: #696969;}#sk-container-id-27 label.sk-toggleable__label-arrow:hover:before {color: black;}#sk-container-id-27 div.sk-estimator:hover label.sk-toggleable__label-arrow:before {color: black;}#sk-container-id-27 div.sk-toggleable__content {max-height: 0;max-width: 0;overflow: hidden;text-align: left;background-color: #f0f8ff;}#sk-container-id-27 div.sk-toggleable__content pre {margin: 0.2em;color: black;border-radius: 0.25em;background-color: #f0f8ff;}#sk-container-id-27 input.sk-toggleable__control:checked~div.sk-toggleable__content {max-height: 200px;max-width: 100%;overflow: auto;}#sk-container-id-27 input.sk-toggleable__control:checked~label.sk-toggleable__label-arrow:before {content: \"▾\";}#sk-container-id-27 div.sk-estimator input.sk-toggleable__control:checked~label.sk-toggleable__label {background-color: #d4ebff;}#sk-container-id-27 div.sk-label input.sk-toggleable__control:checked~label.sk-toggleable__label {background-color: #d4ebff;}#sk-container-id-27 input.sk-hidden--visually {border: 0;clip: rect(1px 1px 1px 1px);clip: rect(1px, 1px, 1px, 1px);height: 1px;margin: -1px;overflow: hidden;padding: 0;position: absolute;width: 1px;}#sk-container-id-27 div.sk-estimator {font-family: monospace;background-color: #f0f8ff;border: 1px dotted black;border-radius: 0.25em;box-sizing: border-box;margin-bottom: 0.5em;}#sk-container-id-27 div.sk-estimator:hover {background-color: #d4ebff;}#sk-container-id-27 div.sk-parallel-item::after {content: \"\";width: 100%;border-bottom: 1px solid gray;flex-grow: 1;}#sk-container-id-27 div.sk-label:hover label.sk-toggleable__label {background-color: #d4ebff;}#sk-container-id-27 div.sk-serial::before {content: \"\";position: absolute;border-left: 1px solid gray;box-sizing: border-box;top: 0;bottom: 0;left: 50%;z-index: 0;}#sk-container-id-27 div.sk-serial {display: flex;flex-direction: column;align-items: center;background-color: white;padding-right: 0.2em;padding-left: 0.2em;position: relative;}#sk-container-id-27 div.sk-item {position: relative;z-index: 1;}#sk-container-id-27 div.sk-parallel {display: flex;align-items: stretch;justify-content: center;background-color: white;position: relative;}#sk-container-id-27 div.sk-item::before, #sk-container-id-27 div.sk-parallel-item::before {content: \"\";position: absolute;border-left: 1px solid gray;box-sizing: border-box;top: 0;bottom: 0;left: 50%;z-index: -1;}#sk-container-id-27 div.sk-parallel-item {display: flex;flex-direction: column;z-index: 1;position: relative;background-color: white;}#sk-container-id-27 div.sk-parallel-item:first-child::after {align-self: flex-end;width: 50%;}#sk-container-id-27 div.sk-parallel-item:last-child::after {align-self: flex-start;width: 50%;}#sk-container-id-27 div.sk-parallel-item:only-child::after {width: 0;}#sk-container-id-27 div.sk-dashed-wrapped {border: 1px dashed gray;margin: 0 0.4em 0.5em 0.4em;box-sizing: border-box;padding-bottom: 0.4em;background-color: white;}#sk-container-id-27 div.sk-label label {font-family: monospace;font-weight: bold;display: inline-block;line-height: 1.2em;}#sk-container-id-27 div.sk-label-container {text-align: center;}#sk-container-id-27 div.sk-container {/* jupyter's `normalize.less` sets `[hidden] { display: none; }` but bootstrap.min.css set `[hidden] { display: none !important; }` so we also need the `!important` here to be able to override the default hidden behavior on the sphinx rendered scikit-learn.org. See: https://github.com/scikit-learn/scikit-learn/issues/21755 */display: inline-block !important;position: relative;}#sk-container-id-27 div.sk-text-repr-fallback {display: none;}</style><div id=\"sk-container-id-27\" class=\"sk-top-container\"><div class=\"sk-text-repr-fallback\"><pre>OneHotEncoder()</pre><b>In a Jupyter environment, please rerun this cell to show the HTML representation or trust the notebook. <br />On GitHub, the HTML representation is unable to render, please try loading this page with nbviewer.org.</b></div><div class=\"sk-container\" hidden><div class=\"sk-item\"><div class=\"sk-estimator sk-toggleable\"><input class=\"sk-toggleable__control sk-hidden--visually\" id=\"sk-estimator-id-85\" type=\"checkbox\" checked><label for=\"sk-estimator-id-85\" class=\"sk-toggleable__label sk-toggleable__label-arrow\">OneHotEncoder</label><div class=\"sk-toggleable__content\"><pre>OneHotEncoder()</pre></div></div></div></div></div>"
            ]
          },
          "metadata": {},
          "execution_count": 463
        }
      ],
      "source": [
        "one_hot = OneHotEncoder()\n",
        "# one_hot.fit(df[['engine_type','series','model','brand_segment']])\n",
        "one_hot.fit(df[['engine_type','series',\n",
        "                'model','brand','assemble_place','transmission']])\n"
      ]
    },
    {
      "cell_type": "markdown",
      "metadata": {
        "id": "331VUjXFrNNQ"
      },
      "source": []
    },
    {
      "cell_type": "code",
      "execution_count": 464,
      "metadata": {
        "ExecuteTime": {
          "end_time": "2023-07-09T16:48:47.207836900Z",
          "start_time": "2023-07-09T16:48:47.204266800Z"
        },
        "id": "PFLemHR6rNNQ"
      },
      "outputs": [],
      "source": [
        "column_trans=make_column_transformer((OneHotEncoder(categories=one_hot.categories_),['engine_type','series','model','brand','assemble_place','transmission']),\n",
        "                                    remainder='passthrough')"
      ]
    },
    {
      "cell_type": "markdown",
      "metadata": {
        "id": "eDySOUYOrNNR"
      },
      "source": [
        "# Sử dụng Standardization để chuẩn hóa dữ liệu"
      ]
    },
    {
      "cell_type": "code",
      "execution_count": 465,
      "metadata": {
        "ExecuteTime": {
          "end_time": "2023-07-09T16:48:48.949600100Z",
          "start_time": "2023-07-09T16:48:48.941859600Z"
        },
        "id": "QMrRW8qErNNR"
      },
      "outputs": [],
      "source": [
        "scaler = StandardScaler()\n",
        "#fit year và driven kms\n",
        "scaler.fit(df[['driven kms','num_of_seat','num_of_door']])\n",
        "df[['driven kms','num_of_seat','num_of_door']] = scaler.transform(df[['driven kms','num_of_seat','num_of_door']])"
      ]
    },
    {
      "cell_type": "code",
      "execution_count": 466,
      "metadata": {
        "ExecuteTime": {
          "start_time": "2023-07-09T16:40:53.932764700Z"
        },
        "id": "idytKnxcrNNS"
      },
      "outputs": [],
      "source": [
        "# df.head()"
      ]
    },
    {
      "cell_type": "markdown",
      "metadata": {
        "id": "NXbUADytrNNS"
      },
      "source": [
        "# Sử dụng hồi quy tuyến tính để dự đoán giá xe"
      ]
    },
    {
      "cell_type": "code",
      "source": [
        "from sklearn.preprocessing import LabelEncoder\n",
        "le=LabelEncoder()\n",
        "categorical_columns = ['engine_type', 'series', 'model'\n",
        ", 'brand', 'assemble_place', 'transmission']\n",
        "from sklearn.preprocessing import OrdinalEncoder\n",
        "from sklearn.compose import ColumnTransformer\n",
        "\n",
        "encoders = {}\n",
        "\n",
        "for col in categorical_columns:\n",
        "    le = LabelEncoder()\n",
        "    le.fit(df[col])\n",
        "    df[col] = le.transform(df[col])\n",
        "    encoders[col] = le\n"
      ],
      "metadata": {
        "id": "DHVPt31gIyNF"
      },
      "execution_count": 467,
      "outputs": []
    },
    {
      "cell_type": "code",
      "execution_count": 468,
      "metadata": {
        "ExecuteTime": {
          "end_time": "2023-07-09T16:48:51.078137100Z",
          "start_time": "2023-07-09T16:48:51.059057200Z"
        },
        "id": "XGoZxp0YrNNT"
      },
      "outputs": [],
      "source": [
        "df.dropna(inplace=True)\n"
      ]
    },
    {
      "cell_type": "code",
      "execution_count": 469,
      "metadata": {
        "ExecuteTime": {
          "end_time": "2023-07-09T16:48:52.905706500Z",
          "start_time": "2023-07-09T16:48:52.891971500Z"
        },
        "id": "Po16ynPRrNNU"
      },
      "outputs": [],
      "source": [
        "X = df[['engine_type','series','model','brand','year','driven kms','num_of_seat','num_of_door','transmission','assemble_place']]\n",
        "y = df['price']"
      ]
    },
    {
      "cell_type": "code",
      "execution_count": 470,
      "metadata": {
        "ExecuteTime": {
          "end_time": "2023-07-09T16:48:54.201856900Z",
          "start_time": "2023-07-09T16:48:54.175757400Z"
        },
        "id": "3u7n0Y31rNNU"
      },
      "outputs": [],
      "source": [
        "X_train,X_test,y_train,y_test=train_test_split(X,y,test_size=0.2,random_state=42)"
      ]
    },
    {
      "cell_type": "code",
      "source": [
        "X_train.head()"
      ],
      "metadata": {
        "colab": {
          "base_uri": "https://localhost:8080/",
          "height": 206
        },
        "id": "JdLuVBIAy4Zg",
        "outputId": "5a32f3e4-1c94-4f1c-9316-06c370f2084a"
      },
      "execution_count": 471,
      "outputs": [
        {
          "output_type": "execute_result",
          "data": {
            "text/plain": [
              "       engine_type  series  model  brand  year  driven kms  num_of_seat  \\\n",
              "12716            2       5    571     29   4.0   -0.014231     0.860341   \n",
              "15039            2       5    405     21  13.0   -0.015486    -0.316686   \n",
              "3652             2       5    108     10   5.0   -0.014136    -0.316686   \n",
              "13637            2       5     62      5   7.0   -0.013980     0.860341   \n",
              "18643            2       6    533     27  17.0   -0.013383    -0.316686   \n",
              "\n",
              "       num_of_door  transmission  assemble_place  \n",
              "12716     0.826997             0               1  \n",
              "15039     0.826997             1               1  \n",
              "3652      0.826997             1               0  \n",
              "13637     0.826997             1               0  \n",
              "18643    -0.836990             1               1  "
            ],
            "text/html": [
              "\n",
              "  <div id=\"df-83201cb5-2489-4734-9c03-efb13debc02f\">\n",
              "    <div class=\"colab-df-container\">\n",
              "      <div>\n",
              "<style scoped>\n",
              "    .dataframe tbody tr th:only-of-type {\n",
              "        vertical-align: middle;\n",
              "    }\n",
              "\n",
              "    .dataframe tbody tr th {\n",
              "        vertical-align: top;\n",
              "    }\n",
              "\n",
              "    .dataframe thead th {\n",
              "        text-align: right;\n",
              "    }\n",
              "</style>\n",
              "<table border=\"1\" class=\"dataframe\">\n",
              "  <thead>\n",
              "    <tr style=\"text-align: right;\">\n",
              "      <th></th>\n",
              "      <th>engine_type</th>\n",
              "      <th>series</th>\n",
              "      <th>model</th>\n",
              "      <th>brand</th>\n",
              "      <th>year</th>\n",
              "      <th>driven kms</th>\n",
              "      <th>num_of_seat</th>\n",
              "      <th>num_of_door</th>\n",
              "      <th>transmission</th>\n",
              "      <th>assemble_place</th>\n",
              "    </tr>\n",
              "  </thead>\n",
              "  <tbody>\n",
              "    <tr>\n",
              "      <th>12716</th>\n",
              "      <td>2</td>\n",
              "      <td>5</td>\n",
              "      <td>571</td>\n",
              "      <td>29</td>\n",
              "      <td>4.0</td>\n",
              "      <td>-0.014231</td>\n",
              "      <td>0.860341</td>\n",
              "      <td>0.826997</td>\n",
              "      <td>0</td>\n",
              "      <td>1</td>\n",
              "    </tr>\n",
              "    <tr>\n",
              "      <th>15039</th>\n",
              "      <td>2</td>\n",
              "      <td>5</td>\n",
              "      <td>405</td>\n",
              "      <td>21</td>\n",
              "      <td>13.0</td>\n",
              "      <td>-0.015486</td>\n",
              "      <td>-0.316686</td>\n",
              "      <td>0.826997</td>\n",
              "      <td>1</td>\n",
              "      <td>1</td>\n",
              "    </tr>\n",
              "    <tr>\n",
              "      <th>3652</th>\n",
              "      <td>2</td>\n",
              "      <td>5</td>\n",
              "      <td>108</td>\n",
              "      <td>10</td>\n",
              "      <td>5.0</td>\n",
              "      <td>-0.014136</td>\n",
              "      <td>-0.316686</td>\n",
              "      <td>0.826997</td>\n",
              "      <td>1</td>\n",
              "      <td>0</td>\n",
              "    </tr>\n",
              "    <tr>\n",
              "      <th>13637</th>\n",
              "      <td>2</td>\n",
              "      <td>5</td>\n",
              "      <td>62</td>\n",
              "      <td>5</td>\n",
              "      <td>7.0</td>\n",
              "      <td>-0.013980</td>\n",
              "      <td>0.860341</td>\n",
              "      <td>0.826997</td>\n",
              "      <td>1</td>\n",
              "      <td>0</td>\n",
              "    </tr>\n",
              "    <tr>\n",
              "      <th>18643</th>\n",
              "      <td>2</td>\n",
              "      <td>6</td>\n",
              "      <td>533</td>\n",
              "      <td>27</td>\n",
              "      <td>17.0</td>\n",
              "      <td>-0.013383</td>\n",
              "      <td>-0.316686</td>\n",
              "      <td>-0.836990</td>\n",
              "      <td>1</td>\n",
              "      <td>1</td>\n",
              "    </tr>\n",
              "  </tbody>\n",
              "</table>\n",
              "</div>\n",
              "      <button class=\"colab-df-convert\" onclick=\"convertToInteractive('df-83201cb5-2489-4734-9c03-efb13debc02f')\"\n",
              "              title=\"Convert this dataframe to an interactive table.\"\n",
              "              style=\"display:none;\">\n",
              "        \n",
              "  <svg xmlns=\"http://www.w3.org/2000/svg\" height=\"24px\"viewBox=\"0 0 24 24\"\n",
              "       width=\"24px\">\n",
              "    <path d=\"M0 0h24v24H0V0z\" fill=\"none\"/>\n",
              "    <path d=\"M18.56 5.44l.94 2.06.94-2.06 2.06-.94-2.06-.94-.94-2.06-.94 2.06-2.06.94zm-11 1L8.5 8.5l.94-2.06 2.06-.94-2.06-.94L8.5 2.5l-.94 2.06-2.06.94zm10 10l.94 2.06.94-2.06 2.06-.94-2.06-.94-.94-2.06-.94 2.06-2.06.94z\"/><path d=\"M17.41 7.96l-1.37-1.37c-.4-.4-.92-.59-1.43-.59-.52 0-1.04.2-1.43.59L10.3 9.45l-7.72 7.72c-.78.78-.78 2.05 0 2.83L4 21.41c.39.39.9.59 1.41.59.51 0 1.02-.2 1.41-.59l7.78-7.78 2.81-2.81c.8-.78.8-2.07 0-2.86zM5.41 20L4 18.59l7.72-7.72 1.47 1.35L5.41 20z\"/>\n",
              "  </svg>\n",
              "      </button>\n",
              "      \n",
              "  <style>\n",
              "    .colab-df-container {\n",
              "      display:flex;\n",
              "      flex-wrap:wrap;\n",
              "      gap: 12px;\n",
              "    }\n",
              "\n",
              "    .colab-df-convert {\n",
              "      background-color: #E8F0FE;\n",
              "      border: none;\n",
              "      border-radius: 50%;\n",
              "      cursor: pointer;\n",
              "      display: none;\n",
              "      fill: #1967D2;\n",
              "      height: 32px;\n",
              "      padding: 0 0 0 0;\n",
              "      width: 32px;\n",
              "    }\n",
              "\n",
              "    .colab-df-convert:hover {\n",
              "      background-color: #E2EBFA;\n",
              "      box-shadow: 0px 1px 2px rgba(60, 64, 67, 0.3), 0px 1px 3px 1px rgba(60, 64, 67, 0.15);\n",
              "      fill: #174EA6;\n",
              "    }\n",
              "\n",
              "    [theme=dark] .colab-df-convert {\n",
              "      background-color: #3B4455;\n",
              "      fill: #D2E3FC;\n",
              "    }\n",
              "\n",
              "    [theme=dark] .colab-df-convert:hover {\n",
              "      background-color: #434B5C;\n",
              "      box-shadow: 0px 1px 3px 1px rgba(0, 0, 0, 0.15);\n",
              "      filter: drop-shadow(0px 1px 2px rgba(0, 0, 0, 0.3));\n",
              "      fill: #FFFFFF;\n",
              "    }\n",
              "  </style>\n",
              "\n",
              "      <script>\n",
              "        const buttonEl =\n",
              "          document.querySelector('#df-83201cb5-2489-4734-9c03-efb13debc02f button.colab-df-convert');\n",
              "        buttonEl.style.display =\n",
              "          google.colab.kernel.accessAllowed ? 'block' : 'none';\n",
              "\n",
              "        async function convertToInteractive(key) {\n",
              "          const element = document.querySelector('#df-83201cb5-2489-4734-9c03-efb13debc02f');\n",
              "          const dataTable =\n",
              "            await google.colab.kernel.invokeFunction('convertToInteractive',\n",
              "                                                     [key], {});\n",
              "          if (!dataTable) return;\n",
              "\n",
              "          const docLinkHtml = 'Like what you see? Visit the ' +\n",
              "            '<a target=\"_blank\" href=https://colab.research.google.com/notebooks/data_table.ipynb>data table notebook</a>'\n",
              "            + ' to learn more about interactive tables.';\n",
              "          element.innerHTML = '';\n",
              "          dataTable['output_type'] = 'display_data';\n",
              "          await google.colab.output.renderOutput(dataTable, element);\n",
              "          const docLink = document.createElement('div');\n",
              "          docLink.innerHTML = docLinkHtml;\n",
              "          element.appendChild(docLink);\n",
              "        }\n",
              "      </script>\n",
              "    </div>\n",
              "  </div>\n",
              "  "
            ]
          },
          "metadata": {},
          "execution_count": 471
        }
      ]
    },
    {
      "cell_type": "code",
      "execution_count": 472,
      "metadata": {
        "ExecuteTime": {
          "end_time": "2023-07-09T16:48:55.307771100Z",
          "start_time": "2023-07-09T16:48:55.284426500Z"
        },
        "id": "UkDAmkGKrNNV"
      },
      "outputs": [],
      "source": [
        "lr=LinearRegression()"
      ]
    },
    {
      "cell_type": "code",
      "execution_count": 473,
      "metadata": {
        "ExecuteTime": {
          "end_time": "2023-07-09T16:48:56.910553900Z",
          "start_time": "2023-07-09T16:48:56.897130200Z"
        },
        "id": "WJbaAnAKrNNV"
      },
      "outputs": [],
      "source": [
        "pipe=make_pipeline(column_trans,lr)\n"
      ]
    },
    {
      "cell_type": "code",
      "execution_count": 474,
      "metadata": {
        "ExecuteTime": {
          "end_time": "2023-07-09T16:49:00.221754800Z",
          "start_time": "2023-07-09T16:48:58.812930200Z"
        },
        "colab": {
          "base_uri": "https://localhost:8080/",
          "height": 75
        },
        "id": "1slI8z7hrNNW",
        "outputId": "c81d1196-6add-4fac-e44f-88738a0162d6"
      },
      "outputs": [
        {
          "output_type": "execute_result",
          "data": {
            "text/plain": [
              "LinearRegression()"
            ],
            "text/html": [
              "<style>#sk-container-id-28 {color: black;background-color: white;}#sk-container-id-28 pre{padding: 0;}#sk-container-id-28 div.sk-toggleable {background-color: white;}#sk-container-id-28 label.sk-toggleable__label {cursor: pointer;display: block;width: 100%;margin-bottom: 0;padding: 0.3em;box-sizing: border-box;text-align: center;}#sk-container-id-28 label.sk-toggleable__label-arrow:before {content: \"▸\";float: left;margin-right: 0.25em;color: #696969;}#sk-container-id-28 label.sk-toggleable__label-arrow:hover:before {color: black;}#sk-container-id-28 div.sk-estimator:hover label.sk-toggleable__label-arrow:before {color: black;}#sk-container-id-28 div.sk-toggleable__content {max-height: 0;max-width: 0;overflow: hidden;text-align: left;background-color: #f0f8ff;}#sk-container-id-28 div.sk-toggleable__content pre {margin: 0.2em;color: black;border-radius: 0.25em;background-color: #f0f8ff;}#sk-container-id-28 input.sk-toggleable__control:checked~div.sk-toggleable__content {max-height: 200px;max-width: 100%;overflow: auto;}#sk-container-id-28 input.sk-toggleable__control:checked~label.sk-toggleable__label-arrow:before {content: \"▾\";}#sk-container-id-28 div.sk-estimator input.sk-toggleable__control:checked~label.sk-toggleable__label {background-color: #d4ebff;}#sk-container-id-28 div.sk-label input.sk-toggleable__control:checked~label.sk-toggleable__label {background-color: #d4ebff;}#sk-container-id-28 input.sk-hidden--visually {border: 0;clip: rect(1px 1px 1px 1px);clip: rect(1px, 1px, 1px, 1px);height: 1px;margin: -1px;overflow: hidden;padding: 0;position: absolute;width: 1px;}#sk-container-id-28 div.sk-estimator {font-family: monospace;background-color: #f0f8ff;border: 1px dotted black;border-radius: 0.25em;box-sizing: border-box;margin-bottom: 0.5em;}#sk-container-id-28 div.sk-estimator:hover {background-color: #d4ebff;}#sk-container-id-28 div.sk-parallel-item::after {content: \"\";width: 100%;border-bottom: 1px solid gray;flex-grow: 1;}#sk-container-id-28 div.sk-label:hover label.sk-toggleable__label {background-color: #d4ebff;}#sk-container-id-28 div.sk-serial::before {content: \"\";position: absolute;border-left: 1px solid gray;box-sizing: border-box;top: 0;bottom: 0;left: 50%;z-index: 0;}#sk-container-id-28 div.sk-serial {display: flex;flex-direction: column;align-items: center;background-color: white;padding-right: 0.2em;padding-left: 0.2em;position: relative;}#sk-container-id-28 div.sk-item {position: relative;z-index: 1;}#sk-container-id-28 div.sk-parallel {display: flex;align-items: stretch;justify-content: center;background-color: white;position: relative;}#sk-container-id-28 div.sk-item::before, #sk-container-id-28 div.sk-parallel-item::before {content: \"\";position: absolute;border-left: 1px solid gray;box-sizing: border-box;top: 0;bottom: 0;left: 50%;z-index: -1;}#sk-container-id-28 div.sk-parallel-item {display: flex;flex-direction: column;z-index: 1;position: relative;background-color: white;}#sk-container-id-28 div.sk-parallel-item:first-child::after {align-self: flex-end;width: 50%;}#sk-container-id-28 div.sk-parallel-item:last-child::after {align-self: flex-start;width: 50%;}#sk-container-id-28 div.sk-parallel-item:only-child::after {width: 0;}#sk-container-id-28 div.sk-dashed-wrapped {border: 1px dashed gray;margin: 0 0.4em 0.5em 0.4em;box-sizing: border-box;padding-bottom: 0.4em;background-color: white;}#sk-container-id-28 div.sk-label label {font-family: monospace;font-weight: bold;display: inline-block;line-height: 1.2em;}#sk-container-id-28 div.sk-label-container {text-align: center;}#sk-container-id-28 div.sk-container {/* jupyter's `normalize.less` sets `[hidden] { display: none; }` but bootstrap.min.css set `[hidden] { display: none !important; }` so we also need the `!important` here to be able to override the default hidden behavior on the sphinx rendered scikit-learn.org. See: https://github.com/scikit-learn/scikit-learn/issues/21755 */display: inline-block !important;position: relative;}#sk-container-id-28 div.sk-text-repr-fallback {display: none;}</style><div id=\"sk-container-id-28\" class=\"sk-top-container\"><div class=\"sk-text-repr-fallback\"><pre>LinearRegression()</pre><b>In a Jupyter environment, please rerun this cell to show the HTML representation or trust the notebook. <br />On GitHub, the HTML representation is unable to render, please try loading this page with nbviewer.org.</b></div><div class=\"sk-container\" hidden><div class=\"sk-item\"><div class=\"sk-estimator sk-toggleable\"><input class=\"sk-toggleable__control sk-hidden--visually\" id=\"sk-estimator-id-86\" type=\"checkbox\" checked><label for=\"sk-estimator-id-86\" class=\"sk-toggleable__label sk-toggleable__label-arrow\">LinearRegression</label><div class=\"sk-toggleable__content\"><pre>LinearRegression()</pre></div></div></div></div></div>"
            ]
          },
          "metadata": {},
          "execution_count": 474
        }
      ],
      "source": [
        "lr.fit(X_train,y_train)"
      ]
    },
    {
      "cell_type": "code",
      "execution_count": 475,
      "metadata": {
        "ExecuteTime": {
          "end_time": "2023-07-09T16:49:02.773207Z",
          "start_time": "2023-07-09T16:49:02.696042100Z"
        },
        "colab": {
          "base_uri": "https://localhost:8080/"
        },
        "id": "tbgbDAz-rNNW",
        "outputId": "a7676f61-8c00-4051-faa4-b146c3d4457d"
      },
      "outputs": [
        {
          "output_type": "execute_result",
          "data": {
            "text/plain": [
              "0.17638267634188343"
            ]
          },
          "metadata": {},
          "execution_count": 475
        }
      ],
      "source": [
        "y_pred=lr.predict(X_test)\n",
        "r2_score(y_test,y_pred)"
      ]
    },
    {
      "cell_type": "code",
      "execution_count": 476,
      "metadata": {
        "ExecuteTime": {
          "end_time": "2023-07-09T16:49:04.700256Z",
          "start_time": "2023-07-09T16:49:04.403845900Z"
        },
        "colab": {
          "base_uri": "https://localhost:8080/",
          "height": 796
        },
        "id": "OXRgMK9arNNY",
        "outputId": "40590a07-972b-4b07-bfc6-efd46eb7e8af"
      },
      "outputs": [
        {
          "output_type": "display_data",
          "data": {
            "text/plain": [
              "<Figure size 2000x1000 with 1 Axes>"
            ],
            "image/png": "[encoded data removed]"
          },
          "metadata": {}
        }
      ],
      "source": [
        "#vẽ biểu đồ phân bố giá trị thực và giá trị dự đoán và kẻ đường thẳng tuyến tính dự đoán ra\n",
        "plt.figure(figsize=(20, 10))\n",
        "plt.scatter(y_test, y_pred)\n",
        "plt.plot([y_test.min(), y_test.max()], [y_test.min(), y_test.max()], 'k--', lw=4)\n",
        "plt.xlabel('Actual')\n",
        "plt.ylabel('Predicted')\n",
        "plt.show()"
      ]
    },
    {
      "cell_type": "markdown",
      "metadata": {
        "id": "LZS2IHVMrNNa"
      },
      "source": [
        "# Random Forest"
      ]
    },
    {
      "cell_type": "code",
      "execution_count": 477,
      "metadata": {
        "id": "jGvjwRjxrNNb"
      },
      "outputs": [],
      "source": [
        "rf=RandomForestRegressor()\n",
        "rf_pipe = make_pipeline(column_trans,rf)"
      ]
    },
    {
      "cell_type": "code",
      "execution_count": 478,
      "metadata": {
        "id": "ZIoqvqvyrNNb"
      },
      "outputs": [],
      "source": [
        "from sklearn.model_selection import KFold, RandomizedSearchCV\n",
        "\n",
        "\"\"\"\n",
        "+ Search over space of hyperparameters to find acceptable ones\n",
        "+ Two search methods implemented by scikit-learn: GridSearch and RandomSearch\n",
        "+ RandomSearch is faster in case we search over large space (too many combinations of hyperparameters)\n",
        "\"\"\"\n",
        "\n",
        "rf_hyperparams = {\n",
        "    'n_estimators': [200, 300, 400, 500],\n",
        "    'max_depth': [None, 10, 50, 90, 110],\n",
        "    'max_features': ['auto', 'sqrt'],\n",
        "    'min_samples_split': [2, 5, 10],\n",
        "    'min_samples_leaf': [1, 2, 4],\n",
        "    'bootstrap': [True, False]\n",
        "}\n",
        "\n",
        "rf_randomized_search = RandomizedSearchCV(\n",
        "    estimator = rf,\n",
        "    param_distributions = rf_hyperparams,\n",
        "    n_iter = 10,\n",
        "    cv=KFold(n_splits=10, shuffle=True, random_state=42),\n",
        "    verbose=2,\n",
        "    random_state=42,\n",
        "    n_jobs = -1\n",
        ")\n",
        "\n"
      ]
    },
    {
      "cell_type": "code",
      "source": [
        "X_train.head()"
      ],
      "metadata": {
        "colab": {
          "base_uri": "https://localhost:8080/",
          "height": 206
        },
        "id": "NTpsLSzbJHoL",
        "outputId": "f0e3f4ab-688f-4976-ad39-6adf994aa373"
      },
      "execution_count": 479,
      "outputs": [
        {
          "output_type": "execute_result",
          "data": {
            "text/plain": [
              "       engine_type  series  model  brand  year  driven kms  num_of_seat  \\\n",
              "12716            2       5    571     29   4.0   -0.014231     0.860341   \n",
              "15039            2       5    405     21  13.0   -0.015486    -0.316686   \n",
              "3652             2       5    108     10   5.0   -0.014136    -0.316686   \n",
              "13637            2       5     62      5   7.0   -0.013980     0.860341   \n",
              "18643            2       6    533     27  17.0   -0.013383    -0.316686   \n",
              "\n",
              "       num_of_door  transmission  assemble_place  \n",
              "12716     0.826997             0               1  \n",
              "15039     0.826997             1               1  \n",
              "3652      0.826997             1               0  \n",
              "13637     0.826997             1               0  \n",
              "18643    -0.836990             1               1  "
            ],
            "text/html": [
              "\n",
              "  <div id=\"df-ce0d669f-7120-443d-b3fc-e9630b869b88\">\n",
              "    <div class=\"colab-df-container\">\n",
              "      <div>\n",
              "<style scoped>\n",
              "    .dataframe tbody tr th:only-of-type {\n",
              "        vertical-align: middle;\n",
              "    }\n",
              "\n",
              "    .dataframe tbody tr th {\n",
              "        vertical-align: top;\n",
              "    }\n",
              "\n",
              "    .dataframe thead th {\n",
              "        text-align: right;\n",
              "    }\n",
              "</style>\n",
              "<table border=\"1\" class=\"dataframe\">\n",
              "  <thead>\n",
              "    <tr style=\"text-align: right;\">\n",
              "      <th></th>\n",
              "      <th>engine_type</th>\n",
              "      <th>series</th>\n",
              "      <th>model</th>\n",
              "      <th>brand</th>\n",
              "      <th>year</th>\n",
              "      <th>driven kms</th>\n",
              "      <th>num_of_seat</th>\n",
              "      <th>num_of_door</th>\n",
              "      <th>transmission</th>\n",
              "      <th>assemble_place</th>\n",
              "    </tr>\n",
              "  </thead>\n",
              "  <tbody>\n",
              "    <tr>\n",
              "      <th>12716</th>\n",
              "      <td>2</td>\n",
              "      <td>5</td>\n",
              "      <td>571</td>\n",
              "      <td>29</td>\n",
              "      <td>4.0</td>\n",
              "      <td>-0.014231</td>\n",
              "      <td>0.860341</td>\n",
              "      <td>0.826997</td>\n",
              "      <td>0</td>\n",
              "      <td>1</td>\n",
              "    </tr>\n",
              "    <tr>\n",
              "      <th>15039</th>\n",
              "      <td>2</td>\n",
              "      <td>5</td>\n",
              "      <td>405</td>\n",
              "      <td>21</td>\n",
              "      <td>13.0</td>\n",
              "      <td>-0.015486</td>\n",
              "      <td>-0.316686</td>\n",
              "      <td>0.826997</td>\n",
              "      <td>1</td>\n",
              "      <td>1</td>\n",
              "    </tr>\n",
              "    <tr>\n",
              "      <th>3652</th>\n",
              "      <td>2</td>\n",
              "      <td>5</td>\n",
              "      <td>108</td>\n",
              "      <td>10</td>\n",
              "      <td>5.0</td>\n",
              "      <td>-0.014136</td>\n",
              "      <td>-0.316686</td>\n",
              "      <td>0.826997</td>\n",
              "      <td>1</td>\n",
              "      <td>0</td>\n",
              "    </tr>\n",
              "    <tr>\n",
              "      <th>13637</th>\n",
              "      <td>2</td>\n",
              "      <td>5</td>\n",
              "      <td>62</td>\n",
              "      <td>5</td>\n",
              "      <td>7.0</td>\n",
              "      <td>-0.013980</td>\n",
              "      <td>0.860341</td>\n",
              "      <td>0.826997</td>\n",
              "      <td>1</td>\n",
              "      <td>0</td>\n",
              "    </tr>\n",
              "    <tr>\n",
              "      <th>18643</th>\n",
              "      <td>2</td>\n",
              "      <td>6</td>\n",
              "      <td>533</td>\n",
              "      <td>27</td>\n",
              "      <td>17.0</td>\n",
              "      <td>-0.013383</td>\n",
              "      <td>-0.316686</td>\n",
              "      <td>-0.836990</td>\n",
              "      <td>1</td>\n",
              "      <td>1</td>\n",
              "    </tr>\n",
              "  </tbody>\n",
              "</table>\n",
              "</div>\n",
              "      <button class=\"colab-df-convert\" onclick=\"convertToInteractive('df-ce0d669f-7120-443d-b3fc-e9630b869b88')\"\n",
              "              title=\"Convert this dataframe to an interactive table.\"\n",
              "              style=\"display:none;\">\n",
              "        \n",
              "  <svg xmlns=\"http://www.w3.org/2000/svg\" height=\"24px\"viewBox=\"0 0 24 24\"\n",
              "       width=\"24px\">\n",
              "    <path d=\"M0 0h24v24H0V0z\" fill=\"none\"/>\n",
              "    <path d=\"M18.56 5.44l.94 2.06.94-2.06 2.06-.94-2.06-.94-.94-2.06-.94 2.06-2.06.94zm-11 1L8.5 8.5l.94-2.06 2.06-.94-2.06-.94L8.5 2.5l-.94 2.06-2.06.94zm10 10l.94 2.06.94-2.06 2.06-.94-2.06-.94-.94-2.06-.94 2.06-2.06.94z\"/><path d=\"M17.41 7.96l-1.37-1.37c-.4-.4-.92-.59-1.43-.59-.52 0-1.04.2-1.43.59L10.3 9.45l-7.72 7.72c-.78.78-.78 2.05 0 2.83L4 21.41c.39.39.9.59 1.41.59.51 0 1.02-.2 1.41-.59l7.78-7.78 2.81-2.81c.8-.78.8-2.07 0-2.86zM5.41 20L4 18.59l7.72-7.72 1.47 1.35L5.41 20z\"/>\n",
              "  </svg>\n",
              "      </button>\n",
              "      \n",
              "  <style>\n",
              "    .colab-df-container {\n",
              "      display:flex;\n",
              "      flex-wrap:wrap;\n",
              "      gap: 12px;\n",
              "    }\n",
              "\n",
              "    .colab-df-convert {\n",
              "      background-color: #E8F0FE;\n",
              "      border: none;\n",
              "      border-radius: 50%;\n",
              "      cursor: pointer;\n",
              "      display: none;\n",
              "      fill: #1967D2;\n",
              "      height: 32px;\n",
              "      padding: 0 0 0 0;\n",
              "      width: 32px;\n",
              "    }\n",
              "\n",
              "    .colab-df-convert:hover {\n",
              "      background-color: #E2EBFA;\n",
              "      box-shadow: 0px 1px 2px rgba(60, 64, 67, 0.3), 0px 1px 3px 1px rgba(60, 64, 67, 0.15);\n",
              "      fill: #174EA6;\n",
              "    }\n",
              "\n",
              "    [theme=dark] .colab-df-convert {\n",
              "      background-color: #3B4455;\n",
              "      fill: #D2E3FC;\n",
              "    }\n",
              "\n",
              "    [theme=dark] .colab-df-convert:hover {\n",
              "      background-color: #434B5C;\n",
              "      box-shadow: 0px 1px 3px 1px rgba(0, 0, 0, 0.15);\n",
              "      filter: drop-shadow(0px 1px 2px rgba(0, 0, 0, 0.3));\n",
              "      fill: #FFFFFF;\n",
              "    }\n",
              "  </style>\n",
              "\n",
              "      <script>\n",
              "        const buttonEl =\n",
              "          document.querySelector('#df-ce0d669f-7120-443d-b3fc-e9630b869b88 button.colab-df-convert');\n",
              "        buttonEl.style.display =\n",
              "          google.colab.kernel.accessAllowed ? 'block' : 'none';\n",
              "\n",
              "        async function convertToInteractive(key) {\n",
              "          const element = document.querySelector('#df-ce0d669f-7120-443d-b3fc-e9630b869b88');\n",
              "          const dataTable =\n",
              "            await google.colab.kernel.invokeFunction('convertToInteractive',\n",
              "                                                     [key], {});\n",
              "          if (!dataTable) return;\n",
              "\n",
              "          const docLinkHtml = 'Like what you see? Visit the ' +\n",
              "            '<a target=\"_blank\" href=https://colab.research.google.com/notebooks/data_table.ipynb>data table notebook</a>'\n",
              "            + ' to learn more about interactive tables.';\n",
              "          element.innerHTML = '';\n",
              "          dataTable['output_type'] = 'display_data';\n",
              "          await google.colab.output.renderOutput(dataTable, element);\n",
              "          const docLink = document.createElement('div');\n",
              "          docLink.innerHTML = docLinkHtml;\n",
              "          element.appendChild(docLink);\n",
              "        }\n",
              "      </script>\n",
              "    </div>\n",
              "  </div>\n",
              "  "
            ]
          },
          "metadata": {},
          "execution_count": 479
        }
      ]
    },
    {
      "cell_type": "code",
      "execution_count": 480,
      "metadata": {
        "colab": {
          "base_uri": "https://localhost:8080/",
          "height": 192
        },
        "id": "8njgadAZrNNc",
        "outputId": "41e477f7-244c-4115-9f96-a3afdc40927f"
      },
      "outputs": [
        {
          "output_type": "execute_result",
          "data": {
            "text/plain": [
              "Pipeline(steps=[('columntransformer',\n",
              "                 ColumnTransformer(remainder='passthrough',\n",
              "                                   transformers=[('onehotencoder',\n",
              "                                                  OneHotEncoder(categories=[array([0, 1, 2, 3]),\n",
              "                                                                            array([0, 1, 2, 3, 4, 5, 6, 7, 8, 9]),\n",
              "                                                                            array([  0,   1,   2,   3,   4,   5,   6,   7,   8,   9,  10,  11,  12,\n",
              "        13,  14,  15,  16,  17,  18,  19,  20,  21,  22,  23,  24,  25,\n",
              "        26,  27,  28,  29,  30,  31,  32,  33,  34,  35,  36,  37,  38,\n",
              "        39,  40,  41,  42,  43,  44,  45,  46,  47,  48,  49,  50,  51,\n",
              "        52,  53,  54,  55,  56,...\n",
              "       754, 755, 756, 757, 758, 759, 760, 761, 762, 763, 764, 765, 766,\n",
              "       767, 768, 769, 770, 771, 772, 773, 774]),\n",
              "                                                                            array([ 0,  1,  2,  3,  4,  5,  6,  7,  8,  9, 10, 11, 12, 13, 14, 15, 16,\n",
              "       17, 18, 19, 20, 21, 22, 23, 24, 25, 26, 27, 28, 29, 30, 31, 32, 33,\n",
              "       34, 35, 36, 37, 38, 39, 40, 41, 42, 43]),\n",
              "                                                                            array([0, 1]),\n",
              "                                                                            array([0, 1])]),\n",
              "                                                  ['engine_type', 'series',\n",
              "                                                   'model', 'brand',\n",
              "                                                   'assemble_place',\n",
              "                                                   'transmission'])])),\n",
              "                ('randomforestregressor', RandomForestRegressor())])"
            ],
            "text/html": [
              "<style>#sk-container-id-29 {color: black;background-color: white;}#sk-container-id-29 pre{padding: 0;}#sk-container-id-29 div.sk-toggleable {background-color: white;}#sk-container-id-29 label.sk-toggleable__label {cursor: pointer;display: block;width: 100%;margin-bottom: 0;padding: 0.3em;box-sizing: border-box;text-align: center;}#sk-container-id-29 label.sk-toggleable__label-arrow:before {content: \"▸\";float: left;margin-right: 0.25em;color: #696969;}#sk-container-id-29 label.sk-toggleable__label-arrow:hover:before {color: black;}#sk-container-id-29 div.sk-estimator:hover label.sk-toggleable__label-arrow:before {color: black;}#sk-container-id-29 div.sk-toggleable__content {max-height: 0;max-width: 0;overflow: hidden;text-align: left;background-color: #f0f8ff;}#sk-container-id-29 div.sk-toggleable__content pre {margin: 0.2em;color: black;border-radius: 0.25em;background-color: #f0f8ff;}#sk-container-id-29 input.sk-toggleable__control:checked~div.sk-toggleable__content {max-height: 200px;max-width: 100%;overflow: auto;}#sk-container-id-29 input.sk-toggleable__control:checked~label.sk-toggleable__label-arrow:before {content: \"▾\";}#sk-container-id-29 div.sk-estimator input.sk-toggleable__control:checked~label.sk-toggleable__label {background-color: #d4ebff;}#sk-container-id-29 div.sk-label input.sk-toggleable__control:checked~label.sk-toggleable__label {background-color: #d4ebff;}#sk-container-id-29 input.sk-hidden--visually {border: 0;clip: rect(1px 1px 1px 1px);clip: rect(1px, 1px, 1px, 1px);height: 1px;margin: -1px;overflow: hidden;padding: 0;position: absolute;width: 1px;}#sk-container-id-29 div.sk-estimator {font-family: monospace;background-color: #f0f8ff;border: 1px dotted black;border-radius: 0.25em;box-sizing: border-box;margin-bottom: 0.5em;}#sk-container-id-29 div.sk-estimator:hover {background-color: #d4ebff;}#sk-container-id-29 div.sk-parallel-item::after {content: \"\";width: 100%;border-bottom: 1px solid gray;flex-grow: 1;}#sk-container-id-29 div.sk-label:hover label.sk-toggleable__label {background-color: #d4ebff;}#sk-container-id-29 div.sk-serial::before {content: \"\";position: absolute;border-left: 1px solid gray;box-sizing: border-box;top: 0;bottom: 0;left: 50%;z-index: 0;}#sk-container-id-29 div.sk-serial {display: flex;flex-direction: column;align-items: center;background-color: white;padding-right: 0.2em;padding-left: 0.2em;position: relative;}#sk-container-id-29 div.sk-item {position: relative;z-index: 1;}#sk-container-id-29 div.sk-parallel {display: flex;align-items: stretch;justify-content: center;background-color: white;position: relative;}#sk-container-id-29 div.sk-item::before, #sk-container-id-29 div.sk-parallel-item::before {content: \"\";position: absolute;border-left: 1px solid gray;box-sizing: border-box;top: 0;bottom: 0;left: 50%;z-index: -1;}#sk-container-id-29 div.sk-parallel-item {display: flex;flex-direction: column;z-index: 1;position: relative;background-color: white;}#sk-container-id-29 div.sk-parallel-item:first-child::after {align-self: flex-end;width: 50%;}#sk-container-id-29 div.sk-parallel-item:last-child::after {align-self: flex-start;width: 50%;}#sk-container-id-29 div.sk-parallel-item:only-child::after {width: 0;}#sk-container-id-29 div.sk-dashed-wrapped {border: 1px dashed gray;margin: 0 0.4em 0.5em 0.4em;box-sizing: border-box;padding-bottom: 0.4em;background-color: white;}#sk-container-id-29 div.sk-label label {font-family: monospace;font-weight: bold;display: inline-block;line-height: 1.2em;}#sk-container-id-29 div.sk-label-container {text-align: center;}#sk-container-id-29 div.sk-container {/* jupyter's `normalize.less` sets `[hidden] { display: none; }` but bootstrap.min.css set `[hidden] { display: none !important; }` so we also need the `!important` here to be able to override the default hidden behavior on the sphinx rendered scikit-learn.org. See: https://github.com/scikit-learn/scikit-learn/issues/21755 */display: inline-block !important;position: relative;}#sk-container-id-29 div.sk-text-repr-fallback {display: none;}</style><div id=\"sk-container-id-29\" class=\"sk-top-container\"><div class=\"sk-text-repr-fallback\"><pre>Pipeline(steps=[(&#x27;columntransformer&#x27;,\n",
              "                 ColumnTransformer(remainder=&#x27;passthrough&#x27;,\n",
              "                                   transformers=[(&#x27;onehotencoder&#x27;,\n",
              "                                                  OneHotEncoder(categories=[array([0, 1, 2, 3]),\n",
              "                                                                            array([0, 1, 2, 3, 4, 5, 6, 7, 8, 9]),\n",
              "                                                                            array([  0,   1,   2,   3,   4,   5,   6,   7,   8,   9,  10,  11,  12,\n",
              "        13,  14,  15,  16,  17,  18,  19,  20,  21,  22,  23,  24,  25,\n",
              "        26,  27,  28,  29,  30,  31,  32,  33,  34,  35,  36,  37,  38,\n",
              "        39,  40,  41,  42,  43,  44,  45,  46,  47,  48,  49,  50,  51,\n",
              "        52,  53,  54,  55,  56,...\n",
              "       754, 755, 756, 757, 758, 759, 760, 761, 762, 763, 764, 765, 766,\n",
              "       767, 768, 769, 770, 771, 772, 773, 774]),\n",
              "                                                                            array([ 0,  1,  2,  3,  4,  5,  6,  7,  8,  9, 10, 11, 12, 13, 14, 15, 16,\n",
              "       17, 18, 19, 20, 21, 22, 23, 24, 25, 26, 27, 28, 29, 30, 31, 32, 33,\n",
              "       34, 35, 36, 37, 38, 39, 40, 41, 42, 43]),\n",
              "                                                                            array([0, 1]),\n",
              "                                                                            array([0, 1])]),\n",
              "                                                  [&#x27;engine_type&#x27;, &#x27;series&#x27;,\n",
              "                                                   &#x27;model&#x27;, &#x27;brand&#x27;,\n",
              "                                                   &#x27;assemble_place&#x27;,\n",
              "                                                   &#x27;transmission&#x27;])])),\n",
              "                (&#x27;randomforestregressor&#x27;, RandomForestRegressor())])</pre><b>In a Jupyter environment, please rerun this cell to show the HTML representation or trust the notebook. <br />On GitHub, the HTML representation is unable to render, please try loading this page with nbviewer.org.</b></div><div class=\"sk-container\" hidden><div class=\"sk-item sk-dashed-wrapped\"><div class=\"sk-label-container\"><div class=\"sk-label sk-toggleable\"><input class=\"sk-toggleable__control sk-hidden--visually\" id=\"sk-estimator-id-87\" type=\"checkbox\" ><label for=\"sk-estimator-id-87\" class=\"sk-toggleable__label sk-toggleable__label-arrow\">Pipeline</label><div class=\"sk-toggleable__content\"><pre>Pipeline(steps=[(&#x27;columntransformer&#x27;,\n",
              "                 ColumnTransformer(remainder=&#x27;passthrough&#x27;,\n",
              "                                   transformers=[(&#x27;onehotencoder&#x27;,\n",
              "                                                  OneHotEncoder(categories=[array([0, 1, 2, 3]),\n",
              "                                                                            array([0, 1, 2, 3, 4, 5, 6, 7, 8, 9]),\n",
              "                                                                            array([  0,   1,   2,   3,   4,   5,   6,   7,   8,   9,  10,  11,  12,\n",
              "        13,  14,  15,  16,  17,  18,  19,  20,  21,  22,  23,  24,  25,\n",
              "        26,  27,  28,  29,  30,  31,  32,  33,  34,  35,  36,  37,  38,\n",
              "        39,  40,  41,  42,  43,  44,  45,  46,  47,  48,  49,  50,  51,\n",
              "        52,  53,  54,  55,  56,...\n",
              "       754, 755, 756, 757, 758, 759, 760, 761, 762, 763, 764, 765, 766,\n",
              "       767, 768, 769, 770, 771, 772, 773, 774]),\n",
              "                                                                            array([ 0,  1,  2,  3,  4,  5,  6,  7,  8,  9, 10, 11, 12, 13, 14, 15, 16,\n",
              "       17, 18, 19, 20, 21, 22, 23, 24, 25, 26, 27, 28, 29, 30, 31, 32, 33,\n",
              "       34, 35, 36, 37, 38, 39, 40, 41, 42, 43]),\n",
              "                                                                            array([0, 1]),\n",
              "                                                                            array([0, 1])]),\n",
              "                                                  [&#x27;engine_type&#x27;, &#x27;series&#x27;,\n",
              "                                                   &#x27;model&#x27;, &#x27;brand&#x27;,\n",
              "                                                   &#x27;assemble_place&#x27;,\n",
              "                                                   &#x27;transmission&#x27;])])),\n",
              "                (&#x27;randomforestregressor&#x27;, RandomForestRegressor())])</pre></div></div></div><div class=\"sk-serial\"><div class=\"sk-item sk-dashed-wrapped\"><div class=\"sk-label-container\"><div class=\"sk-label sk-toggleable\"><input class=\"sk-toggleable__control sk-hidden--visually\" id=\"sk-estimator-id-88\" type=\"checkbox\" ><label for=\"sk-estimator-id-88\" class=\"sk-toggleable__label sk-toggleable__label-arrow\">columntransformer: ColumnTransformer</label><div class=\"sk-toggleable__content\"><pre>ColumnTransformer(remainder=&#x27;passthrough&#x27;,\n",
              "                  transformers=[(&#x27;onehotencoder&#x27;,\n",
              "                                 OneHotEncoder(categories=[array([0, 1, 2, 3]),\n",
              "                                                           array([0, 1, 2, 3, 4, 5, 6, 7, 8, 9]),\n",
              "                                                           array([  0,   1,   2,   3,   4,   5,   6,   7,   8,   9,  10,  11,  12,\n",
              "        13,  14,  15,  16,  17,  18,  19,  20,  21,  22,  23,  24,  25,\n",
              "        26,  27,  28,  29,  30,  31,  32,  33,  34,  35,  36,  37,  38,\n",
              "        39,  40,  41,  42,  43,  44,  45,  46,  47,  48,  49,  50,  51,\n",
              "        52,  53,  54,  55,  56,  57,  58,  59,  60,  61,  62,  63,  64,\n",
              "        65,  66,  67,  68,  6...\n",
              "       741, 742, 743, 744, 745, 746, 747, 748, 749, 750, 751, 752, 753,\n",
              "       754, 755, 756, 757, 758, 759, 760, 761, 762, 763, 764, 765, 766,\n",
              "       767, 768, 769, 770, 771, 772, 773, 774]),\n",
              "                                                           array([ 0,  1,  2,  3,  4,  5,  6,  7,  8,  9, 10, 11, 12, 13, 14, 15, 16,\n",
              "       17, 18, 19, 20, 21, 22, 23, 24, 25, 26, 27, 28, 29, 30, 31, 32, 33,\n",
              "       34, 35, 36, 37, 38, 39, 40, 41, 42, 43]),\n",
              "                                                           array([0, 1]),\n",
              "                                                           array([0, 1])]),\n",
              "                                 [&#x27;engine_type&#x27;, &#x27;series&#x27;, &#x27;model&#x27;, &#x27;brand&#x27;,\n",
              "                                  &#x27;assemble_place&#x27;, &#x27;transmission&#x27;])])</pre></div></div></div><div class=\"sk-parallel\"><div class=\"sk-parallel-item\"><div class=\"sk-item\"><div class=\"sk-label-container\"><div class=\"sk-label sk-toggleable\"><input class=\"sk-toggleable__control sk-hidden--visually\" id=\"sk-estimator-id-89\" type=\"checkbox\" ><label for=\"sk-estimator-id-89\" class=\"sk-toggleable__label sk-toggleable__label-arrow\">onehotencoder</label><div class=\"sk-toggleable__content\"><pre>[&#x27;engine_type&#x27;, &#x27;series&#x27;, &#x27;model&#x27;, &#x27;brand&#x27;, &#x27;assemble_place&#x27;, &#x27;transmission&#x27;]</pre></div></div></div><div class=\"sk-serial\"><div class=\"sk-item\"><div class=\"sk-estimator sk-toggleable\"><input class=\"sk-toggleable__control sk-hidden--visually\" id=\"sk-estimator-id-90\" type=\"checkbox\" ><label for=\"sk-estimator-id-90\" class=\"sk-toggleable__label sk-toggleable__label-arrow\">OneHotEncoder</label><div class=\"sk-toggleable__content\"><pre>OneHotEncoder(categories=[array([0, 1, 2, 3]),\n",
              "                          array([0, 1, 2, 3, 4, 5, 6, 7, 8, 9]),\n",
              "                          array([  0,   1,   2,   3,   4,   5,   6,   7,   8,   9,  10,  11,  12,\n",
              "        13,  14,  15,  16,  17,  18,  19,  20,  21,  22,  23,  24,  25,\n",
              "        26,  27,  28,  29,  30,  31,  32,  33,  34,  35,  36,  37,  38,\n",
              "        39,  40,  41,  42,  43,  44,  45,  46,  47,  48,  49,  50,  51,\n",
              "        52,  53,  54,  55,  56,  57,  58,  59,  60,  61,  62,  63,  64,\n",
              "        65,  66,  67,  68,  69,  70,  71,  72,  73,  74,  75,  76,  77,\n",
              "        78,  79,  80,  81,  82,  83,  84,  85,  86,  87,  88,  89,  90,\n",
              "        91,  92,  93...\n",
              "       715, 716, 717, 718, 719, 720, 721, 722, 723, 724, 725, 726, 727,\n",
              "       728, 729, 730, 731, 732, 733, 734, 735, 736, 737, 738, 739, 740,\n",
              "       741, 742, 743, 744, 745, 746, 747, 748, 749, 750, 751, 752, 753,\n",
              "       754, 755, 756, 757, 758, 759, 760, 761, 762, 763, 764, 765, 766,\n",
              "       767, 768, 769, 770, 771, 772, 773, 774]),\n",
              "                          array([ 0,  1,  2,  3,  4,  5,  6,  7,  8,  9, 10, 11, 12, 13, 14, 15, 16,\n",
              "       17, 18, 19, 20, 21, 22, 23, 24, 25, 26, 27, 28, 29, 30, 31, 32, 33,\n",
              "       34, 35, 36, 37, 38, 39, 40, 41, 42, 43]),\n",
              "                          array([0, 1]), array([0, 1])])</pre></div></div></div></div></div></div><div class=\"sk-parallel-item\"><div class=\"sk-item\"><div class=\"sk-label-container\"><div class=\"sk-label sk-toggleable\"><input class=\"sk-toggleable__control sk-hidden--visually\" id=\"sk-estimator-id-91\" type=\"checkbox\" ><label for=\"sk-estimator-id-91\" class=\"sk-toggleable__label sk-toggleable__label-arrow\">remainder</label><div class=\"sk-toggleable__content\"><pre>[&#x27;year&#x27;, &#x27;driven kms&#x27;, &#x27;num_of_seat&#x27;, &#x27;num_of_door&#x27;]</pre></div></div></div><div class=\"sk-serial\"><div class=\"sk-item\"><div class=\"sk-estimator sk-toggleable\"><input class=\"sk-toggleable__control sk-hidden--visually\" id=\"sk-estimator-id-92\" type=\"checkbox\" ><label for=\"sk-estimator-id-92\" class=\"sk-toggleable__label sk-toggleable__label-arrow\">passthrough</label><div class=\"sk-toggleable__content\"><pre>passthrough</pre></div></div></div></div></div></div></div></div><div class=\"sk-item\"><div class=\"sk-estimator sk-toggleable\"><input class=\"sk-toggleable__control sk-hidden--visually\" id=\"sk-estimator-id-93\" type=\"checkbox\" ><label for=\"sk-estimator-id-93\" class=\"sk-toggleable__label sk-toggleable__label-arrow\">RandomForestRegressor</label><div class=\"sk-toggleable__content\"><pre>RandomForestRegressor()</pre></div></div></div></div></div></div></div>"
            ]
          },
          "metadata": {},
          "execution_count": 480
        }
      ],
      "source": [
        "rf_pipe.fit(X_train, y_train)\n"
      ]
    },
    {
      "cell_type": "code",
      "execution_count": 481,
      "metadata": {
        "colab": {
          "base_uri": "https://localhost:8080/"
        },
        "id": "pUgvjInwrNNc",
        "outputId": "6a0565c8-c2a5-4183-db8f-3ae2c52a9b42"
      },
      "outputs": [
        {
          "output_type": "execute_result",
          "data": {
            "text/plain": [
              "0.9530702828473201"
            ]
          },
          "metadata": {},
          "execution_count": 481
        }
      ],
      "source": [
        "y_pred=rf_pipe.predict(X_test)\n",
        "r2_score(y_test,y_pred)"
      ]
    },
    {
      "cell_type": "code",
      "execution_count": 482,
      "metadata": {
        "id": "Awjq8e1qrNNd"
      },
      "outputs": [],
      "source": [
        "# pickle.dump(pipe,open('RandomeForestModel.pkl','wb'))"
      ]
    },
    {
      "cell_type": "code",
      "source": [
        "ridge=Ridge()"
      ],
      "metadata": {
        "id": "bAqNaBEY9ny4"
      },
      "execution_count": 483,
      "outputs": []
    },
    {
      "cell_type": "code",
      "source": [
        "ridge_hyperparams = {\n",
        "    'alpha': np.arange(0.1, 10.1, 0.1).tolist()\n",
        "}\n",
        "\n",
        "ridge_search = GridSearchCV(\n",
        "    ridge,\n",
        "    ridge_hyperparams,\n",
        "    cv=KFold(n_splits=10, shuffle=True, random_state=42)\n",
        ")\n",
        "\n",
        "ridge_search.fit(X_train, y_train)"
      ],
      "metadata": {
        "colab": {
          "base_uri": "https://localhost:8080/",
          "height": 118
        },
        "id": "7IyDzxLX9h3n",
        "outputId": "1fab30b3-2ff4-40b8-bad9-adbdbcd80744"
      },
      "execution_count": 484,
      "outputs": [
        {
          "output_type": "execute_result",
          "data": {
            "text/plain": [
              "GridSearchCV(cv=KFold(n_splits=10, random_state=42, shuffle=True),\n",
              "             estimator=Ridge(),\n",
              "             param_grid={'alpha': [0.1, 0.2, 0.30000000000000004, 0.4, 0.5, 0.6,\n",
              "                                   0.7000000000000001, 0.8, 0.9, 1.0, 1.1,\n",
              "                                   1.2000000000000002, 1.3000000000000003,\n",
              "                                   1.4000000000000001, 1.5000000000000002, 1.6,\n",
              "                                   1.7000000000000002, 1.8000000000000003,\n",
              "                                   1.9000000000000001, 2.0, 2.1, 2.2,\n",
              "                                   2.3000000000000003, 2.4000000000000004,\n",
              "                                   2.5000000000000004, 2.6, 2.7,\n",
              "                                   2.8000000000000003, 2.9000000000000004,\n",
              "                                   3.0000000000000004, ...]})"
            ],
            "text/html": [
              "<style>#sk-container-id-30 {color: black;background-color: white;}#sk-container-id-30 pre{padding: 0;}#sk-container-id-30 div.sk-toggleable {background-color: white;}#sk-container-id-30 label.sk-toggleable__label {cursor: pointer;display: block;width: 100%;margin-bottom: 0;padding: 0.3em;box-sizing: border-box;text-align: center;}#sk-container-id-30 label.sk-toggleable__label-arrow:before {content: \"▸\";float: left;margin-right: 0.25em;color: #696969;}#sk-container-id-30 label.sk-toggleable__label-arrow:hover:before {color: black;}#sk-container-id-30 div.sk-estimator:hover label.sk-toggleable__label-arrow:before {color: black;}#sk-container-id-30 div.sk-toggleable__content {max-height: 0;max-width: 0;overflow: hidden;text-align: left;background-color: #f0f8ff;}#sk-container-id-30 div.sk-toggleable__content pre {margin: 0.2em;color: black;border-radius: 0.25em;background-color: #f0f8ff;}#sk-container-id-30 input.sk-toggleable__control:checked~div.sk-toggleable__content {max-height: 200px;max-width: 100%;overflow: auto;}#sk-container-id-30 input.sk-toggleable__control:checked~label.sk-toggleable__label-arrow:before {content: \"▾\";}#sk-container-id-30 div.sk-estimator input.sk-toggleable__control:checked~label.sk-toggleable__label {background-color: #d4ebff;}#sk-container-id-30 div.sk-label input.sk-toggleable__control:checked~label.sk-toggleable__label {background-color: #d4ebff;}#sk-container-id-30 input.sk-hidden--visually {border: 0;clip: rect(1px 1px 1px 1px);clip: rect(1px, 1px, 1px, 1px);height: 1px;margin: -1px;overflow: hidden;padding: 0;position: absolute;width: 1px;}#sk-container-id-30 div.sk-estimator {font-family: monospace;background-color: #f0f8ff;border: 1px dotted black;border-radius: 0.25em;box-sizing: border-box;margin-bottom: 0.5em;}#sk-container-id-30 div.sk-estimator:hover {background-color: #d4ebff;}#sk-container-id-30 div.sk-parallel-item::after {content: \"\";width: 100%;border-bottom: 1px solid gray;flex-grow: 1;}#sk-container-id-30 div.sk-label:hover label.sk-toggleable__label {background-color: #d4ebff;}#sk-container-id-30 div.sk-serial::before {content: \"\";position: absolute;border-left: 1px solid gray;box-sizing: border-box;top: 0;bottom: 0;left: 50%;z-index: 0;}#sk-container-id-30 div.sk-serial {display: flex;flex-direction: column;align-items: center;background-color: white;padding-right: 0.2em;padding-left: 0.2em;position: relative;}#sk-container-id-30 div.sk-item {position: relative;z-index: 1;}#sk-container-id-30 div.sk-parallel {display: flex;align-items: stretch;justify-content: center;background-color: white;position: relative;}#sk-container-id-30 div.sk-item::before, #sk-container-id-30 div.sk-parallel-item::before {content: \"\";position: absolute;border-left: 1px solid gray;box-sizing: border-box;top: 0;bottom: 0;left: 50%;z-index: -1;}#sk-container-id-30 div.sk-parallel-item {display: flex;flex-direction: column;z-index: 1;position: relative;background-color: white;}#sk-container-id-30 div.sk-parallel-item:first-child::after {align-self: flex-end;width: 50%;}#sk-container-id-30 div.sk-parallel-item:last-child::after {align-self: flex-start;width: 50%;}#sk-container-id-30 div.sk-parallel-item:only-child::after {width: 0;}#sk-container-id-30 div.sk-dashed-wrapped {border: 1px dashed gray;margin: 0 0.4em 0.5em 0.4em;box-sizing: border-box;padding-bottom: 0.4em;background-color: white;}#sk-container-id-30 div.sk-label label {font-family: monospace;font-weight: bold;display: inline-block;line-height: 1.2em;}#sk-container-id-30 div.sk-label-container {text-align: center;}#sk-container-id-30 div.sk-container {/* jupyter's `normalize.less` sets `[hidden] { display: none; }` but bootstrap.min.css set `[hidden] { display: none !important; }` so we also need the `!important` here to be able to override the default hidden behavior on the sphinx rendered scikit-learn.org. See: https://github.com/scikit-learn/scikit-learn/issues/21755 */display: inline-block !important;position: relative;}#sk-container-id-30 div.sk-text-repr-fallback {display: none;}</style><div id=\"sk-container-id-30\" class=\"sk-top-container\"><div class=\"sk-text-repr-fallback\"><pre>GridSearchCV(cv=KFold(n_splits=10, random_state=42, shuffle=True),\n",
              "             estimator=Ridge(),\n",
              "             param_grid={&#x27;alpha&#x27;: [0.1, 0.2, 0.30000000000000004, 0.4, 0.5, 0.6,\n",
              "                                   0.7000000000000001, 0.8, 0.9, 1.0, 1.1,\n",
              "                                   1.2000000000000002, 1.3000000000000003,\n",
              "                                   1.4000000000000001, 1.5000000000000002, 1.6,\n",
              "                                   1.7000000000000002, 1.8000000000000003,\n",
              "                                   1.9000000000000001, 2.0, 2.1, 2.2,\n",
              "                                   2.3000000000000003, 2.4000000000000004,\n",
              "                                   2.5000000000000004, 2.6, 2.7,\n",
              "                                   2.8000000000000003, 2.9000000000000004,\n",
              "                                   3.0000000000000004, ...]})</pre><b>In a Jupyter environment, please rerun this cell to show the HTML representation or trust the notebook. <br />On GitHub, the HTML representation is unable to render, please try loading this page with nbviewer.org.</b></div><div class=\"sk-container\" hidden><div class=\"sk-item sk-dashed-wrapped\"><div class=\"sk-label-container\"><div class=\"sk-label sk-toggleable\"><input class=\"sk-toggleable__control sk-hidden--visually\" id=\"sk-estimator-id-94\" type=\"checkbox\" ><label for=\"sk-estimator-id-94\" class=\"sk-toggleable__label sk-toggleable__label-arrow\">GridSearchCV</label><div class=\"sk-toggleable__content\"><pre>GridSearchCV(cv=KFold(n_splits=10, random_state=42, shuffle=True),\n",
              "             estimator=Ridge(),\n",
              "             param_grid={&#x27;alpha&#x27;: [0.1, 0.2, 0.30000000000000004, 0.4, 0.5, 0.6,\n",
              "                                   0.7000000000000001, 0.8, 0.9, 1.0, 1.1,\n",
              "                                   1.2000000000000002, 1.3000000000000003,\n",
              "                                   1.4000000000000001, 1.5000000000000002, 1.6,\n",
              "                                   1.7000000000000002, 1.8000000000000003,\n",
              "                                   1.9000000000000001, 2.0, 2.1, 2.2,\n",
              "                                   2.3000000000000003, 2.4000000000000004,\n",
              "                                   2.5000000000000004, 2.6, 2.7,\n",
              "                                   2.8000000000000003, 2.9000000000000004,\n",
              "                                   3.0000000000000004, ...]})</pre></div></div></div><div class=\"sk-parallel\"><div class=\"sk-parallel-item\"><div class=\"sk-item\"><div class=\"sk-label-container\"><div class=\"sk-label sk-toggleable\"><input class=\"sk-toggleable__control sk-hidden--visually\" id=\"sk-estimator-id-95\" type=\"checkbox\" ><label for=\"sk-estimator-id-95\" class=\"sk-toggleable__label sk-toggleable__label-arrow\">estimator: Ridge</label><div class=\"sk-toggleable__content\"><pre>Ridge()</pre></div></div></div><div class=\"sk-serial\"><div class=\"sk-item\"><div class=\"sk-estimator sk-toggleable\"><input class=\"sk-toggleable__control sk-hidden--visually\" id=\"sk-estimator-id-96\" type=\"checkbox\" ><label for=\"sk-estimator-id-96\" class=\"sk-toggleable__label sk-toggleable__label-arrow\">Ridge</label><div class=\"sk-toggleable__content\"><pre>Ridge()</pre></div></div></div></div></div></div></div></div></div></div>"
            ]
          },
          "metadata": {},
          "execution_count": 484
        }
      ]
    },
    {
      "cell_type": "code",
      "source": [
        "ridge_search.score(X_test,y_test)"
      ],
      "metadata": {
        "colab": {
          "base_uri": "https://localhost:8080/"
        },
        "id": "pSdDV3Jo-a-K",
        "outputId": "f6db0524-be44-4f5d-9a99-fd12b6ac9113"
      },
      "execution_count": 485,
      "outputs": [
        {
          "output_type": "execute_result",
          "data": {
            "text/plain": [
              "0.17639444842021623"
            ]
          },
          "metadata": {},
          "execution_count": 485
        }
      ]
    },
    {
      "cell_type": "code",
      "source": [
        "pipe_ridge=make_pipeline(column_trans,ridge)"
      ],
      "metadata": {
        "id": "mGTVIh7g_K0h"
      },
      "execution_count": 486,
      "outputs": []
    },
    {
      "cell_type": "code",
      "source": [
        "pipe_ridge.fit(X_train, y_train)"
      ],
      "metadata": {
        "colab": {
          "base_uri": "https://localhost:8080/",
          "height": 192
        },
        "id": "m-IiVHCEH96S",
        "outputId": "834d7b9a-33df-4aab-e5e6-99e634333768"
      },
      "execution_count": 487,
      "outputs": [
        {
          "output_type": "execute_result",
          "data": {
            "text/plain": [
              "Pipeline(steps=[('columntransformer',\n",
              "                 ColumnTransformer(remainder='passthrough',\n",
              "                                   transformers=[('onehotencoder',\n",
              "                                                  OneHotEncoder(categories=[array([0, 1, 2, 3]),\n",
              "                                                                            array([0, 1, 2, 3, 4, 5, 6, 7, 8, 9]),\n",
              "                                                                            array([  0,   1,   2,   3,   4,   5,   6,   7,   8,   9,  10,  11,  12,\n",
              "        13,  14,  15,  16,  17,  18,  19,  20,  21,  22,  23,  24,  25,\n",
              "        26,  27,  28,  29,  30,  31,  32,  33,  34,  35,  36,  37,  38,\n",
              "        39,  40,  41,  42,  43,  44,  45,  46,  47,  48,  49,  50,  51,\n",
              "        52,  53,  54,  55,  56,...\n",
              "       741, 742, 743, 744, 745, 746, 747, 748, 749, 750, 751, 752, 753,\n",
              "       754, 755, 756, 757, 758, 759, 760, 761, 762, 763, 764, 765, 766,\n",
              "       767, 768, 769, 770, 771, 772, 773, 774]),\n",
              "                                                                            array([ 0,  1,  2,  3,  4,  5,  6,  7,  8,  9, 10, 11, 12, 13, 14, 15, 16,\n",
              "       17, 18, 19, 20, 21, 22, 23, 24, 25, 26, 27, 28, 29, 30, 31, 32, 33,\n",
              "       34, 35, 36, 37, 38, 39, 40, 41, 42, 43]),\n",
              "                                                                            array([0, 1]),\n",
              "                                                                            array([0, 1])]),\n",
              "                                                  ['engine_type', 'series',\n",
              "                                                   'model', 'brand',\n",
              "                                                   'assemble_place',\n",
              "                                                   'transmission'])])),\n",
              "                ('ridge', Ridge())])"
            ],
            "text/html": [
              "<style>#sk-container-id-31 {color: black;background-color: white;}#sk-container-id-31 pre{padding: 0;}#sk-container-id-31 div.sk-toggleable {background-color: white;}#sk-container-id-31 label.sk-toggleable__label {cursor: pointer;display: block;width: 100%;margin-bottom: 0;padding: 0.3em;box-sizing: border-box;text-align: center;}#sk-container-id-31 label.sk-toggleable__label-arrow:before {content: \"▸\";float: left;margin-right: 0.25em;color: #696969;}#sk-container-id-31 label.sk-toggleable__label-arrow:hover:before {color: black;}#sk-container-id-31 div.sk-estimator:hover label.sk-toggleable__label-arrow:before {color: black;}#sk-container-id-31 div.sk-toggleable__content {max-height: 0;max-width: 0;overflow: hidden;text-align: left;background-color: #f0f8ff;}#sk-container-id-31 div.sk-toggleable__content pre {margin: 0.2em;color: black;border-radius: 0.25em;background-color: #f0f8ff;}#sk-container-id-31 input.sk-toggleable__control:checked~div.sk-toggleable__content {max-height: 200px;max-width: 100%;overflow: auto;}#sk-container-id-31 input.sk-toggleable__control:checked~label.sk-toggleable__label-arrow:before {content: \"▾\";}#sk-container-id-31 div.sk-estimator input.sk-toggleable__control:checked~label.sk-toggleable__label {background-color: #d4ebff;}#sk-container-id-31 div.sk-label input.sk-toggleable__control:checked~label.sk-toggleable__label {background-color: #d4ebff;}#sk-container-id-31 input.sk-hidden--visually {border: 0;clip: rect(1px 1px 1px 1px);clip: rect(1px, 1px, 1px, 1px);height: 1px;margin: -1px;overflow: hidden;padding: 0;position: absolute;width: 1px;}#sk-container-id-31 div.sk-estimator {font-family: monospace;background-color: #f0f8ff;border: 1px dotted black;border-radius: 0.25em;box-sizing: border-box;margin-bottom: 0.5em;}#sk-container-id-31 div.sk-estimator:hover {background-color: #d4ebff;}#sk-container-id-31 div.sk-parallel-item::after {content: \"\";width: 100%;border-bottom: 1px solid gray;flex-grow: 1;}#sk-container-id-31 div.sk-label:hover label.sk-toggleable__label {background-color: #d4ebff;}#sk-container-id-31 div.sk-serial::before {content: \"\";position: absolute;border-left: 1px solid gray;box-sizing: border-box;top: 0;bottom: 0;left: 50%;z-index: 0;}#sk-container-id-31 div.sk-serial {display: flex;flex-direction: column;align-items: center;background-color: white;padding-right: 0.2em;padding-left: 0.2em;position: relative;}#sk-container-id-31 div.sk-item {position: relative;z-index: 1;}#sk-container-id-31 div.sk-parallel {display: flex;align-items: stretch;justify-content: center;background-color: white;position: relative;}#sk-container-id-31 div.sk-item::before, #sk-container-id-31 div.sk-parallel-item::before {content: \"\";position: absolute;border-left: 1px solid gray;box-sizing: border-box;top: 0;bottom: 0;left: 50%;z-index: -1;}#sk-container-id-31 div.sk-parallel-item {display: flex;flex-direction: column;z-index: 1;position: relative;background-color: white;}#sk-container-id-31 div.sk-parallel-item:first-child::after {align-self: flex-end;width: 50%;}#sk-container-id-31 div.sk-parallel-item:last-child::after {align-self: flex-start;width: 50%;}#sk-container-id-31 div.sk-parallel-item:only-child::after {width: 0;}#sk-container-id-31 div.sk-dashed-wrapped {border: 1px dashed gray;margin: 0 0.4em 0.5em 0.4em;box-sizing: border-box;padding-bottom: 0.4em;background-color: white;}#sk-container-id-31 div.sk-label label {font-family: monospace;font-weight: bold;display: inline-block;line-height: 1.2em;}#sk-container-id-31 div.sk-label-container {text-align: center;}#sk-container-id-31 div.sk-container {/* jupyter's `normalize.less` sets `[hidden] { display: none; }` but bootstrap.min.css set `[hidden] { display: none !important; }` so we also need the `!important` here to be able to override the default hidden behavior on the sphinx rendered scikit-learn.org. See: https://github.com/scikit-learn/scikit-learn/issues/21755 */display: inline-block !important;position: relative;}#sk-container-id-31 div.sk-text-repr-fallback {display: none;}</style><div id=\"sk-container-id-31\" class=\"sk-top-container\"><div class=\"sk-text-repr-fallback\"><pre>Pipeline(steps=[(&#x27;columntransformer&#x27;,\n",
              "                 ColumnTransformer(remainder=&#x27;passthrough&#x27;,\n",
              "                                   transformers=[(&#x27;onehotencoder&#x27;,\n",
              "                                                  OneHotEncoder(categories=[array([0, 1, 2, 3]),\n",
              "                                                                            array([0, 1, 2, 3, 4, 5, 6, 7, 8, 9]),\n",
              "                                                                            array([  0,   1,   2,   3,   4,   5,   6,   7,   8,   9,  10,  11,  12,\n",
              "        13,  14,  15,  16,  17,  18,  19,  20,  21,  22,  23,  24,  25,\n",
              "        26,  27,  28,  29,  30,  31,  32,  33,  34,  35,  36,  37,  38,\n",
              "        39,  40,  41,  42,  43,  44,  45,  46,  47,  48,  49,  50,  51,\n",
              "        52,  53,  54,  55,  56,...\n",
              "       741, 742, 743, 744, 745, 746, 747, 748, 749, 750, 751, 752, 753,\n",
              "       754, 755, 756, 757, 758, 759, 760, 761, 762, 763, 764, 765, 766,\n",
              "       767, 768, 769, 770, 771, 772, 773, 774]),\n",
              "                                                                            array([ 0,  1,  2,  3,  4,  5,  6,  7,  8,  9, 10, 11, 12, 13, 14, 15, 16,\n",
              "       17, 18, 19, 20, 21, 22, 23, 24, 25, 26, 27, 28, 29, 30, 31, 32, 33,\n",
              "       34, 35, 36, 37, 38, 39, 40, 41, 42, 43]),\n",
              "                                                                            array([0, 1]),\n",
              "                                                                            array([0, 1])]),\n",
              "                                                  [&#x27;engine_type&#x27;, &#x27;series&#x27;,\n",
              "                                                   &#x27;model&#x27;, &#x27;brand&#x27;,\n",
              "                                                   &#x27;assemble_place&#x27;,\n",
              "                                                   &#x27;transmission&#x27;])])),\n",
              "                (&#x27;ridge&#x27;, Ridge())])</pre><b>In a Jupyter environment, please rerun this cell to show the HTML representation or trust the notebook. <br />On GitHub, the HTML representation is unable to render, please try loading this page with nbviewer.org.</b></div><div class=\"sk-container\" hidden><div class=\"sk-item sk-dashed-wrapped\"><div class=\"sk-label-container\"><div class=\"sk-label sk-toggleable\"><input class=\"sk-toggleable__control sk-hidden--visually\" id=\"sk-estimator-id-97\" type=\"checkbox\" ><label for=\"sk-estimator-id-97\" class=\"sk-toggleable__label sk-toggleable__label-arrow\">Pipeline</label><div class=\"sk-toggleable__content\"><pre>Pipeline(steps=[(&#x27;columntransformer&#x27;,\n",
              "                 ColumnTransformer(remainder=&#x27;passthrough&#x27;,\n",
              "                                   transformers=[(&#x27;onehotencoder&#x27;,\n",
              "                                                  OneHotEncoder(categories=[array([0, 1, 2, 3]),\n",
              "                                                                            array([0, 1, 2, 3, 4, 5, 6, 7, 8, 9]),\n",
              "                                                                            array([  0,   1,   2,   3,   4,   5,   6,   7,   8,   9,  10,  11,  12,\n",
              "        13,  14,  15,  16,  17,  18,  19,  20,  21,  22,  23,  24,  25,\n",
              "        26,  27,  28,  29,  30,  31,  32,  33,  34,  35,  36,  37,  38,\n",
              "        39,  40,  41,  42,  43,  44,  45,  46,  47,  48,  49,  50,  51,\n",
              "        52,  53,  54,  55,  56,...\n",
              "       741, 742, 743, 744, 745, 746, 747, 748, 749, 750, 751, 752, 753,\n",
              "       754, 755, 756, 757, 758, 759, 760, 761, 762, 763, 764, 765, 766,\n",
              "       767, 768, 769, 770, 771, 772, 773, 774]),\n",
              "                                                                            array([ 0,  1,  2,  3,  4,  5,  6,  7,  8,  9, 10, 11, 12, 13, 14, 15, 16,\n",
              "       17, 18, 19, 20, 21, 22, 23, 24, 25, 26, 27, 28, 29, 30, 31, 32, 33,\n",
              "       34, 35, 36, 37, 38, 39, 40, 41, 42, 43]),\n",
              "                                                                            array([0, 1]),\n",
              "                                                                            array([0, 1])]),\n",
              "                                                  [&#x27;engine_type&#x27;, &#x27;series&#x27;,\n",
              "                                                   &#x27;model&#x27;, &#x27;brand&#x27;,\n",
              "                                                   &#x27;assemble_place&#x27;,\n",
              "                                                   &#x27;transmission&#x27;])])),\n",
              "                (&#x27;ridge&#x27;, Ridge())])</pre></div></div></div><div class=\"sk-serial\"><div class=\"sk-item sk-dashed-wrapped\"><div class=\"sk-label-container\"><div class=\"sk-label sk-toggleable\"><input class=\"sk-toggleable__control sk-hidden--visually\" id=\"sk-estimator-id-98\" type=\"checkbox\" ><label for=\"sk-estimator-id-98\" class=\"sk-toggleable__label sk-toggleable__label-arrow\">columntransformer: ColumnTransformer</label><div class=\"sk-toggleable__content\"><pre>ColumnTransformer(remainder=&#x27;passthrough&#x27;,\n",
              "                  transformers=[(&#x27;onehotencoder&#x27;,\n",
              "                                 OneHotEncoder(categories=[array([0, 1, 2, 3]),\n",
              "                                                           array([0, 1, 2, 3, 4, 5, 6, 7, 8, 9]),\n",
              "                                                           array([  0,   1,   2,   3,   4,   5,   6,   7,   8,   9,  10,  11,  12,\n",
              "        13,  14,  15,  16,  17,  18,  19,  20,  21,  22,  23,  24,  25,\n",
              "        26,  27,  28,  29,  30,  31,  32,  33,  34,  35,  36,  37,  38,\n",
              "        39,  40,  41,  42,  43,  44,  45,  46,  47,  48,  49,  50,  51,\n",
              "        52,  53,  54,  55,  56,  57,  58,  59,  60,  61,  62,  63,  64,\n",
              "        65,  66,  67,  68,  6...\n",
              "       741, 742, 743, 744, 745, 746, 747, 748, 749, 750, 751, 752, 753,\n",
              "       754, 755, 756, 757, 758, 759, 760, 761, 762, 763, 764, 765, 766,\n",
              "       767, 768, 769, 770, 771, 772, 773, 774]),\n",
              "                                                           array([ 0,  1,  2,  3,  4,  5,  6,  7,  8,  9, 10, 11, 12, 13, 14, 15, 16,\n",
              "       17, 18, 19, 20, 21, 22, 23, 24, 25, 26, 27, 28, 29, 30, 31, 32, 33,\n",
              "       34, 35, 36, 37, 38, 39, 40, 41, 42, 43]),\n",
              "                                                           array([0, 1]),\n",
              "                                                           array([0, 1])]),\n",
              "                                 [&#x27;engine_type&#x27;, &#x27;series&#x27;, &#x27;model&#x27;, &#x27;brand&#x27;,\n",
              "                                  &#x27;assemble_place&#x27;, &#x27;transmission&#x27;])])</pre></div></div></div><div class=\"sk-parallel\"><div class=\"sk-parallel-item\"><div class=\"sk-item\"><div class=\"sk-label-container\"><div class=\"sk-label sk-toggleable\"><input class=\"sk-toggleable__control sk-hidden--visually\" id=\"sk-estimator-id-99\" type=\"checkbox\" ><label for=\"sk-estimator-id-99\" class=\"sk-toggleable__label sk-toggleable__label-arrow\">onehotencoder</label><div class=\"sk-toggleable__content\"><pre>[&#x27;engine_type&#x27;, &#x27;series&#x27;, &#x27;model&#x27;, &#x27;brand&#x27;, &#x27;assemble_place&#x27;, &#x27;transmission&#x27;]</pre></div></div></div><div class=\"sk-serial\"><div class=\"sk-item\"><div class=\"sk-estimator sk-toggleable\"><input class=\"sk-toggleable__control sk-hidden--visually\" id=\"sk-estimator-id-100\" type=\"checkbox\" ><label for=\"sk-estimator-id-100\" class=\"sk-toggleable__label sk-toggleable__label-arrow\">OneHotEncoder</label><div class=\"sk-toggleable__content\"><pre>OneHotEncoder(categories=[array([0, 1, 2, 3]),\n",
              "                          array([0, 1, 2, 3, 4, 5, 6, 7, 8, 9]),\n",
              "                          array([  0,   1,   2,   3,   4,   5,   6,   7,   8,   9,  10,  11,  12,\n",
              "        13,  14,  15,  16,  17,  18,  19,  20,  21,  22,  23,  24,  25,\n",
              "        26,  27,  28,  29,  30,  31,  32,  33,  34,  35,  36,  37,  38,\n",
              "        39,  40,  41,  42,  43,  44,  45,  46,  47,  48,  49,  50,  51,\n",
              "        52,  53,  54,  55,  56,  57,  58,  59,  60,  61,  62,  63,  64,\n",
              "        65,  66,  67,  68,  69,  70,  71,  72,  73,  74,  75,  76,  77,\n",
              "        78,  79,  80,  81,  82,  83,  84,  85,  86,  87,  88,  89,  90,\n",
              "        91,  92,  93...\n",
              "       715, 716, 717, 718, 719, 720, 721, 722, 723, 724, 725, 726, 727,\n",
              "       728, 729, 730, 731, 732, 733, 734, 735, 736, 737, 738, 739, 740,\n",
              "       741, 742, 743, 744, 745, 746, 747, 748, 749, 750, 751, 752, 753,\n",
              "       754, 755, 756, 757, 758, 759, 760, 761, 762, 763, 764, 765, 766,\n",
              "       767, 768, 769, 770, 771, 772, 773, 774]),\n",
              "                          array([ 0,  1,  2,  3,  4,  5,  6,  7,  8,  9, 10, 11, 12, 13, 14, 15, 16,\n",
              "       17, 18, 19, 20, 21, 22, 23, 24, 25, 26, 27, 28, 29, 30, 31, 32, 33,\n",
              "       34, 35, 36, 37, 38, 39, 40, 41, 42, 43]),\n",
              "                          array([0, 1]), array([0, 1])])</pre></div></div></div></div></div></div><div class=\"sk-parallel-item\"><div class=\"sk-item\"><div class=\"sk-label-container\"><div class=\"sk-label sk-toggleable\"><input class=\"sk-toggleable__control sk-hidden--visually\" id=\"sk-estimator-id-101\" type=\"checkbox\" ><label for=\"sk-estimator-id-101\" class=\"sk-toggleable__label sk-toggleable__label-arrow\">remainder</label><div class=\"sk-toggleable__content\"><pre>[&#x27;year&#x27;, &#x27;driven kms&#x27;, &#x27;num_of_seat&#x27;, &#x27;num_of_door&#x27;]</pre></div></div></div><div class=\"sk-serial\"><div class=\"sk-item\"><div class=\"sk-estimator sk-toggleable\"><input class=\"sk-toggleable__control sk-hidden--visually\" id=\"sk-estimator-id-102\" type=\"checkbox\" ><label for=\"sk-estimator-id-102\" class=\"sk-toggleable__label sk-toggleable__label-arrow\">passthrough</label><div class=\"sk-toggleable__content\"><pre>passthrough</pre></div></div></div></div></div></div></div></div><div class=\"sk-item\"><div class=\"sk-estimator sk-toggleable\"><input class=\"sk-toggleable__control sk-hidden--visually\" id=\"sk-estimator-id-103\" type=\"checkbox\" ><label for=\"sk-estimator-id-103\" class=\"sk-toggleable__label sk-toggleable__label-arrow\">Ridge</label><div class=\"sk-toggleable__content\"><pre>Ridge()</pre></div></div></div></div></div></div></div>"
            ]
          },
          "metadata": {},
          "execution_count": 487
        }
      ]
    },
    {
      "cell_type": "code",
      "source": [
        "pipe_ridge.score(X_test,y_test)"
      ],
      "metadata": {
        "colab": {
          "base_uri": "https://localhost:8080/"
        },
        "id": "d3IA1JATKaBX",
        "outputId": "264eccb6-6066-45ef-a553-b5e4f1a97637"
      },
      "execution_count": 488,
      "outputs": [
        {
          "output_type": "execute_result",
          "data": {
            "text/plain": [
              "0.8787828382709921"
            ]
          },
          "metadata": {},
          "execution_count": 488
        }
      ]
    },
    {
      "cell_type": "code",
      "source": [
        "from sklearn.linear_model import LinearRegression, Ridge, Lasso\n",
        "lasso = Lasso()\n",
        "lasso_hyperparams = {\n",
        "    'alpha': np.arange(0.1, 10.1, 0.1).tolist()\n",
        "}\n",
        "\n",
        "lasso_search = GridSearchCV(\n",
        "    lasso,\n",
        "    lasso_hyperparams,\n",
        "    cv=KFold(n_splits=10, shuffle=True, random_state=42)\n",
        ")\n",
        "\n",
        "lasso_search.fit(X_train, y_train)"
      ],
      "metadata": {
        "colab": {
          "base_uri": "https://localhost:8080/",
          "height": 118
        },
        "id": "ty6eoMAh_TPm",
        "outputId": "f1b516d7-37f5-4fbf-9c27-6e9d59cc4b50"
      },
      "execution_count": 489,
      "outputs": [
        {
          "output_type": "execute_result",
          "data": {
            "text/plain": [
              "GridSearchCV(cv=KFold(n_splits=10, random_state=42, shuffle=True),\n",
              "             estimator=Lasso(),\n",
              "             param_grid={'alpha': [0.1, 0.2, 0.30000000000000004, 0.4, 0.5, 0.6,\n",
              "                                   0.7000000000000001, 0.8, 0.9, 1.0, 1.1,\n",
              "                                   1.2000000000000002, 1.3000000000000003,\n",
              "                                   1.4000000000000001, 1.5000000000000002, 1.6,\n",
              "                                   1.7000000000000002, 1.8000000000000003,\n",
              "                                   1.9000000000000001, 2.0, 2.1, 2.2,\n",
              "                                   2.3000000000000003, 2.4000000000000004,\n",
              "                                   2.5000000000000004, 2.6, 2.7,\n",
              "                                   2.8000000000000003, 2.9000000000000004,\n",
              "                                   3.0000000000000004, ...]})"
            ],
            "text/html": [
              "<style>#sk-container-id-32 {color: black;background-color: white;}#sk-container-id-32 pre{padding: 0;}#sk-container-id-32 div.sk-toggleable {background-color: white;}#sk-container-id-32 label.sk-toggleable__label {cursor: pointer;display: block;width: 100%;margin-bottom: 0;padding: 0.3em;box-sizing: border-box;text-align: center;}#sk-container-id-32 label.sk-toggleable__label-arrow:before {content: \"▸\";float: left;margin-right: 0.25em;color: #696969;}#sk-container-id-32 label.sk-toggleable__label-arrow:hover:before {color: black;}#sk-container-id-32 div.sk-estimator:hover label.sk-toggleable__label-arrow:before {color: black;}#sk-container-id-32 div.sk-toggleable__content {max-height: 0;max-width: 0;overflow: hidden;text-align: left;background-color: #f0f8ff;}#sk-container-id-32 div.sk-toggleable__content pre {margin: 0.2em;color: black;border-radius: 0.25em;background-color: #f0f8ff;}#sk-container-id-32 input.sk-toggleable__control:checked~div.sk-toggleable__content {max-height: 200px;max-width: 100%;overflow: auto;}#sk-container-id-32 input.sk-toggleable__control:checked~label.sk-toggleable__label-arrow:before {content: \"▾\";}#sk-container-id-32 div.sk-estimator input.sk-toggleable__control:checked~label.sk-toggleable__label {background-color: #d4ebff;}#sk-container-id-32 div.sk-label input.sk-toggleable__control:checked~label.sk-toggleable__label {background-color: #d4ebff;}#sk-container-id-32 input.sk-hidden--visually {border: 0;clip: rect(1px 1px 1px 1px);clip: rect(1px, 1px, 1px, 1px);height: 1px;margin: -1px;overflow: hidden;padding: 0;position: absolute;width: 1px;}#sk-container-id-32 div.sk-estimator {font-family: monospace;background-color: #f0f8ff;border: 1px dotted black;border-radius: 0.25em;box-sizing: border-box;margin-bottom: 0.5em;}#sk-container-id-32 div.sk-estimator:hover {background-color: #d4ebff;}#sk-container-id-32 div.sk-parallel-item::after {content: \"\";width: 100%;border-bottom: 1px solid gray;flex-grow: 1;}#sk-container-id-32 div.sk-label:hover label.sk-toggleable__label {background-color: #d4ebff;}#sk-container-id-32 div.sk-serial::before {content: \"\";position: absolute;border-left: 1px solid gray;box-sizing: border-box;top: 0;bottom: 0;left: 50%;z-index: 0;}#sk-container-id-32 div.sk-serial {display: flex;flex-direction: column;align-items: center;background-color: white;padding-right: 0.2em;padding-left: 0.2em;position: relative;}#sk-container-id-32 div.sk-item {position: relative;z-index: 1;}#sk-container-id-32 div.sk-parallel {display: flex;align-items: stretch;justify-content: center;background-color: white;position: relative;}#sk-container-id-32 div.sk-item::before, #sk-container-id-32 div.sk-parallel-item::before {content: \"\";position: absolute;border-left: 1px solid gray;box-sizing: border-box;top: 0;bottom: 0;left: 50%;z-index: -1;}#sk-container-id-32 div.sk-parallel-item {display: flex;flex-direction: column;z-index: 1;position: relative;background-color: white;}#sk-container-id-32 div.sk-parallel-item:first-child::after {align-self: flex-end;width: 50%;}#sk-container-id-32 div.sk-parallel-item:last-child::after {align-self: flex-start;width: 50%;}#sk-container-id-32 div.sk-parallel-item:only-child::after {width: 0;}#sk-container-id-32 div.sk-dashed-wrapped {border: 1px dashed gray;margin: 0 0.4em 0.5em 0.4em;box-sizing: border-box;padding-bottom: 0.4em;background-color: white;}#sk-container-id-32 div.sk-label label {font-family: monospace;font-weight: bold;display: inline-block;line-height: 1.2em;}#sk-container-id-32 div.sk-label-container {text-align: center;}#sk-container-id-32 div.sk-container {/* jupyter's `normalize.less` sets `[hidden] { display: none; }` but bootstrap.min.css set `[hidden] { display: none !important; }` so we also need the `!important` here to be able to override the default hidden behavior on the sphinx rendered scikit-learn.org. See: https://github.com/scikit-learn/scikit-learn/issues/21755 */display: inline-block !important;position: relative;}#sk-container-id-32 div.sk-text-repr-fallback {display: none;}</style><div id=\"sk-container-id-32\" class=\"sk-top-container\"><div class=\"sk-text-repr-fallback\"><pre>GridSearchCV(cv=KFold(n_splits=10, random_state=42, shuffle=True),\n",
              "             estimator=Lasso(),\n",
              "             param_grid={&#x27;alpha&#x27;: [0.1, 0.2, 0.30000000000000004, 0.4, 0.5, 0.6,\n",
              "                                   0.7000000000000001, 0.8, 0.9, 1.0, 1.1,\n",
              "                                   1.2000000000000002, 1.3000000000000003,\n",
              "                                   1.4000000000000001, 1.5000000000000002, 1.6,\n",
              "                                   1.7000000000000002, 1.8000000000000003,\n",
              "                                   1.9000000000000001, 2.0, 2.1, 2.2,\n",
              "                                   2.3000000000000003, 2.4000000000000004,\n",
              "                                   2.5000000000000004, 2.6, 2.7,\n",
              "                                   2.8000000000000003, 2.9000000000000004,\n",
              "                                   3.0000000000000004, ...]})</pre><b>In a Jupyter environment, please rerun this cell to show the HTML representation or trust the notebook. <br />On GitHub, the HTML representation is unable to render, please try loading this page with nbviewer.org.</b></div><div class=\"sk-container\" hidden><div class=\"sk-item sk-dashed-wrapped\"><div class=\"sk-label-container\"><div class=\"sk-label sk-toggleable\"><input class=\"sk-toggleable__control sk-hidden--visually\" id=\"sk-estimator-id-104\" type=\"checkbox\" ><label for=\"sk-estimator-id-104\" class=\"sk-toggleable__label sk-toggleable__label-arrow\">GridSearchCV</label><div class=\"sk-toggleable__content\"><pre>GridSearchCV(cv=KFold(n_splits=10, random_state=42, shuffle=True),\n",
              "             estimator=Lasso(),\n",
              "             param_grid={&#x27;alpha&#x27;: [0.1, 0.2, 0.30000000000000004, 0.4, 0.5, 0.6,\n",
              "                                   0.7000000000000001, 0.8, 0.9, 1.0, 1.1,\n",
              "                                   1.2000000000000002, 1.3000000000000003,\n",
              "                                   1.4000000000000001, 1.5000000000000002, 1.6,\n",
              "                                   1.7000000000000002, 1.8000000000000003,\n",
              "                                   1.9000000000000001, 2.0, 2.1, 2.2,\n",
              "                                   2.3000000000000003, 2.4000000000000004,\n",
              "                                   2.5000000000000004, 2.6, 2.7,\n",
              "                                   2.8000000000000003, 2.9000000000000004,\n",
              "                                   3.0000000000000004, ...]})</pre></div></div></div><div class=\"sk-parallel\"><div class=\"sk-parallel-item\"><div class=\"sk-item\"><div class=\"sk-label-container\"><div class=\"sk-label sk-toggleable\"><input class=\"sk-toggleable__control sk-hidden--visually\" id=\"sk-estimator-id-105\" type=\"checkbox\" ><label for=\"sk-estimator-id-105\" class=\"sk-toggleable__label sk-toggleable__label-arrow\">estimator: Lasso</label><div class=\"sk-toggleable__content\"><pre>Lasso()</pre></div></div></div><div class=\"sk-serial\"><div class=\"sk-item\"><div class=\"sk-estimator sk-toggleable\"><input class=\"sk-toggleable__control sk-hidden--visually\" id=\"sk-estimator-id-106\" type=\"checkbox\" ><label for=\"sk-estimator-id-106\" class=\"sk-toggleable__label sk-toggleable__label-arrow\">Lasso</label><div class=\"sk-toggleable__content\"><pre>Lasso()</pre></div></div></div></div></div></div></div></div></div></div>"
            ]
          },
          "metadata": {},
          "execution_count": 489
        }
      ]
    },
    {
      "cell_type": "code",
      "source": [
        "lasso_search.score(X_test,y_test)\n"
      ],
      "metadata": {
        "colab": {
          "base_uri": "https://localhost:8080/"
        },
        "id": "FIheECAhHvQR",
        "outputId": "e82097b3-a4b7-41ce-d53c-c49a8c023cf6"
      },
      "execution_count": 490,
      "outputs": [
        {
          "output_type": "execute_result",
          "data": {
            "text/plain": [
              "0.17638268821605074"
            ]
          },
          "metadata": {},
          "execution_count": 490
        }
      ]
    },
    {
      "cell_type": "code",
      "source": [
        "car = df[df['url'] == 'https://bonbanh.com/xe-toyota-corolla_altis-1.8g-at-2017-4941250']\n",
        "pipeline.predict(car[['engine_type','series','model','brand','year','driven kms','num_of_seat','num_of_door','transmission','assemble_place']])"
      ],
      "metadata": {
        "colab": {
          "base_uri": "https://localhost:8080/"
        },
        "id": "HXFNue6FMTFG",
        "outputId": "ba7c1906-db5d-44ed-a6b9-10091e408114"
      },
      "execution_count": 491,
      "outputs": [
        {
          "output_type": "execute_result",
          "data": {
            "text/plain": [
              "array([4.59478128e+09])"
            ]
          },
          "metadata": {},
          "execution_count": 491
        }
      ]
    },
    {
      "cell_type": "markdown",
      "metadata": {
        "id": "sZ51AG1hrNNk"
      },
      "source": [
        "\n",
        "\n"
      ]
    },
    {
      "cell_type": "code",
      "source": [
        "pipe_lasso=make_pipeline(column_trans,lasso)\n",
        "pipe_lasso.fit(X_train, y_train)"
      ],
      "metadata": {
        "colab": {
          "base_uri": "https://localhost:8080/",
          "height": 192
        },
        "id": "yGDEoElGH171",
        "outputId": "5437357b-9607-4287-cf37-add27e708c24"
      },
      "execution_count": 492,
      "outputs": [
        {
          "output_type": "execute_result",
          "data": {
            "text/plain": [
              "Pipeline(steps=[('columntransformer',\n",
              "                 ColumnTransformer(remainder='passthrough',\n",
              "                                   transformers=[('onehotencoder',\n",
              "                                                  OneHotEncoder(categories=[array([0, 1, 2, 3]),\n",
              "                                                                            array([0, 1, 2, 3, 4, 5, 6, 7, 8, 9]),\n",
              "                                                                            array([  0,   1,   2,   3,   4,   5,   6,   7,   8,   9,  10,  11,  12,\n",
              "        13,  14,  15,  16,  17,  18,  19,  20,  21,  22,  23,  24,  25,\n",
              "        26,  27,  28,  29,  30,  31,  32,  33,  34,  35,  36,  37,  38,\n",
              "        39,  40,  41,  42,  43,  44,  45,  46,  47,  48,  49,  50,  51,\n",
              "        52,  53,  54,  55,  56,...\n",
              "       741, 742, 743, 744, 745, 746, 747, 748, 749, 750, 751, 752, 753,\n",
              "       754, 755, 756, 757, 758, 759, 760, 761, 762, 763, 764, 765, 766,\n",
              "       767, 768, 769, 770, 771, 772, 773, 774]),\n",
              "                                                                            array([ 0,  1,  2,  3,  4,  5,  6,  7,  8,  9, 10, 11, 12, 13, 14, 15, 16,\n",
              "       17, 18, 19, 20, 21, 22, 23, 24, 25, 26, 27, 28, 29, 30, 31, 32, 33,\n",
              "       34, 35, 36, 37, 38, 39, 40, 41, 42, 43]),\n",
              "                                                                            array([0, 1]),\n",
              "                                                                            array([0, 1])]),\n",
              "                                                  ['engine_type', 'series',\n",
              "                                                   'model', 'brand',\n",
              "                                                   'assemble_place',\n",
              "                                                   'transmission'])])),\n",
              "                ('lasso', Lasso())])"
            ],
            "text/html": [
              "<style>#sk-container-id-33 {color: black;background-color: white;}#sk-container-id-33 pre{padding: 0;}#sk-container-id-33 div.sk-toggleable {background-color: white;}#sk-container-id-33 label.sk-toggleable__label {cursor: pointer;display: block;width: 100%;margin-bottom: 0;padding: 0.3em;box-sizing: border-box;text-align: center;}#sk-container-id-33 label.sk-toggleable__label-arrow:before {content: \"▸\";float: left;margin-right: 0.25em;color: #696969;}#sk-container-id-33 label.sk-toggleable__label-arrow:hover:before {color: black;}#sk-container-id-33 div.sk-estimator:hover label.sk-toggleable__label-arrow:before {color: black;}#sk-container-id-33 div.sk-toggleable__content {max-height: 0;max-width: 0;overflow: hidden;text-align: left;background-color: #f0f8ff;}#sk-container-id-33 div.sk-toggleable__content pre {margin: 0.2em;color: black;border-radius: 0.25em;background-color: #f0f8ff;}#sk-container-id-33 input.sk-toggleable__control:checked~div.sk-toggleable__content {max-height: 200px;max-width: 100%;overflow: auto;}#sk-container-id-33 input.sk-toggleable__control:checked~label.sk-toggleable__label-arrow:before {content: \"▾\";}#sk-container-id-33 div.sk-estimator input.sk-toggleable__control:checked~label.sk-toggleable__label {background-color: #d4ebff;}#sk-container-id-33 div.sk-label input.sk-toggleable__control:checked~label.sk-toggleable__label {background-color: #d4ebff;}#sk-container-id-33 input.sk-hidden--visually {border: 0;clip: rect(1px 1px 1px 1px);clip: rect(1px, 1px, 1px, 1px);height: 1px;margin: -1px;overflow: hidden;padding: 0;position: absolute;width: 1px;}#sk-container-id-33 div.sk-estimator {font-family: monospace;background-color: #f0f8ff;border: 1px dotted black;border-radius: 0.25em;box-sizing: border-box;margin-bottom: 0.5em;}#sk-container-id-33 div.sk-estimator:hover {background-color: #d4ebff;}#sk-container-id-33 div.sk-parallel-item::after {content: \"\";width: 100%;border-bottom: 1px solid gray;flex-grow: 1;}#sk-container-id-33 div.sk-label:hover label.sk-toggleable__label {background-color: #d4ebff;}#sk-container-id-33 div.sk-serial::before {content: \"\";position: absolute;border-left: 1px solid gray;box-sizing: border-box;top: 0;bottom: 0;left: 50%;z-index: 0;}#sk-container-id-33 div.sk-serial {display: flex;flex-direction: column;align-items: center;background-color: white;padding-right: 0.2em;padding-left: 0.2em;position: relative;}#sk-container-id-33 div.sk-item {position: relative;z-index: 1;}#sk-container-id-33 div.sk-parallel {display: flex;align-items: stretch;justify-content: center;background-color: white;position: relative;}#sk-container-id-33 div.sk-item::before, #sk-container-id-33 div.sk-parallel-item::before {content: \"\";position: absolute;border-left: 1px solid gray;box-sizing: border-box;top: 0;bottom: 0;left: 50%;z-index: -1;}#sk-container-id-33 div.sk-parallel-item {display: flex;flex-direction: column;z-index: 1;position: relative;background-color: white;}#sk-container-id-33 div.sk-parallel-item:first-child::after {align-self: flex-end;width: 50%;}#sk-container-id-33 div.sk-parallel-item:last-child::after {align-self: flex-start;width: 50%;}#sk-container-id-33 div.sk-parallel-item:only-child::after {width: 0;}#sk-container-id-33 div.sk-dashed-wrapped {border: 1px dashed gray;margin: 0 0.4em 0.5em 0.4em;box-sizing: border-box;padding-bottom: 0.4em;background-color: white;}#sk-container-id-33 div.sk-label label {font-family: monospace;font-weight: bold;display: inline-block;line-height: 1.2em;}#sk-container-id-33 div.sk-label-container {text-align: center;}#sk-container-id-33 div.sk-container {/* jupyter's `normalize.less` sets `[hidden] { display: none; }` but bootstrap.min.css set `[hidden] { display: none !important; }` so we also need the `!important` here to be able to override the default hidden behavior on the sphinx rendered scikit-learn.org. See: https://github.com/scikit-learn/scikit-learn/issues/21755 */display: inline-block !important;position: relative;}#sk-container-id-33 div.sk-text-repr-fallback {display: none;}</style><div id=\"sk-container-id-33\" class=\"sk-top-container\"><div class=\"sk-text-repr-fallback\"><pre>Pipeline(steps=[(&#x27;columntransformer&#x27;,\n",
              "                 ColumnTransformer(remainder=&#x27;passthrough&#x27;,\n",
              "                                   transformers=[(&#x27;onehotencoder&#x27;,\n",
              "                                                  OneHotEncoder(categories=[array([0, 1, 2, 3]),\n",
              "                                                                            array([0, 1, 2, 3, 4, 5, 6, 7, 8, 9]),\n",
              "                                                                            array([  0,   1,   2,   3,   4,   5,   6,   7,   8,   9,  10,  11,  12,\n",
              "        13,  14,  15,  16,  17,  18,  19,  20,  21,  22,  23,  24,  25,\n",
              "        26,  27,  28,  29,  30,  31,  32,  33,  34,  35,  36,  37,  38,\n",
              "        39,  40,  41,  42,  43,  44,  45,  46,  47,  48,  49,  50,  51,\n",
              "        52,  53,  54,  55,  56,...\n",
              "       741, 742, 743, 744, 745, 746, 747, 748, 749, 750, 751, 752, 753,\n",
              "       754, 755, 756, 757, 758, 759, 760, 761, 762, 763, 764, 765, 766,\n",
              "       767, 768, 769, 770, 771, 772, 773, 774]),\n",
              "                                                                            array([ 0,  1,  2,  3,  4,  5,  6,  7,  8,  9, 10, 11, 12, 13, 14, 15, 16,\n",
              "       17, 18, 19, 20, 21, 22, 23, 24, 25, 26, 27, 28, 29, 30, 31, 32, 33,\n",
              "       34, 35, 36, 37, 38, 39, 40, 41, 42, 43]),\n",
              "                                                                            array([0, 1]),\n",
              "                                                                            array([0, 1])]),\n",
              "                                                  [&#x27;engine_type&#x27;, &#x27;series&#x27;,\n",
              "                                                   &#x27;model&#x27;, &#x27;brand&#x27;,\n",
              "                                                   &#x27;assemble_place&#x27;,\n",
              "                                                   &#x27;transmission&#x27;])])),\n",
              "                (&#x27;lasso&#x27;, Lasso())])</pre><b>In a Jupyter environment, please rerun this cell to show the HTML representation or trust the notebook. <br />On GitHub, the HTML representation is unable to render, please try loading this page with nbviewer.org.</b></div><div class=\"sk-container\" hidden><div class=\"sk-item sk-dashed-wrapped\"><div class=\"sk-label-container\"><div class=\"sk-label sk-toggleable\"><input class=\"sk-toggleable__control sk-hidden--visually\" id=\"sk-estimator-id-107\" type=\"checkbox\" ><label for=\"sk-estimator-id-107\" class=\"sk-toggleable__label sk-toggleable__label-arrow\">Pipeline</label><div class=\"sk-toggleable__content\"><pre>Pipeline(steps=[(&#x27;columntransformer&#x27;,\n",
              "                 ColumnTransformer(remainder=&#x27;passthrough&#x27;,\n",
              "                                   transformers=[(&#x27;onehotencoder&#x27;,\n",
              "                                                  OneHotEncoder(categories=[array([0, 1, 2, 3]),\n",
              "                                                                            array([0, 1, 2, 3, 4, 5, 6, 7, 8, 9]),\n",
              "                                                                            array([  0,   1,   2,   3,   4,   5,   6,   7,   8,   9,  10,  11,  12,\n",
              "        13,  14,  15,  16,  17,  18,  19,  20,  21,  22,  23,  24,  25,\n",
              "        26,  27,  28,  29,  30,  31,  32,  33,  34,  35,  36,  37,  38,\n",
              "        39,  40,  41,  42,  43,  44,  45,  46,  47,  48,  49,  50,  51,\n",
              "        52,  53,  54,  55,  56,...\n",
              "       741, 742, 743, 744, 745, 746, 747, 748, 749, 750, 751, 752, 753,\n",
              "       754, 755, 756, 757, 758, 759, 760, 761, 762, 763, 764, 765, 766,\n",
              "       767, 768, 769, 770, 771, 772, 773, 774]),\n",
              "                                                                            array([ 0,  1,  2,  3,  4,  5,  6,  7,  8,  9, 10, 11, 12, 13, 14, 15, 16,\n",
              "       17, 18, 19, 20, 21, 22, 23, 24, 25, 26, 27, 28, 29, 30, 31, 32, 33,\n",
              "       34, 35, 36, 37, 38, 39, 40, 41, 42, 43]),\n",
              "                                                                            array([0, 1]),\n",
              "                                                                            array([0, 1])]),\n",
              "                                                  [&#x27;engine_type&#x27;, &#x27;series&#x27;,\n",
              "                                                   &#x27;model&#x27;, &#x27;brand&#x27;,\n",
              "                                                   &#x27;assemble_place&#x27;,\n",
              "                                                   &#x27;transmission&#x27;])])),\n",
              "                (&#x27;lasso&#x27;, Lasso())])</pre></div></div></div><div class=\"sk-serial\"><div class=\"sk-item sk-dashed-wrapped\"><div class=\"sk-label-container\"><div class=\"sk-label sk-toggleable\"><input class=\"sk-toggleable__control sk-hidden--visually\" id=\"sk-estimator-id-108\" type=\"checkbox\" ><label for=\"sk-estimator-id-108\" class=\"sk-toggleable__label sk-toggleable__label-arrow\">columntransformer: ColumnTransformer</label><div class=\"sk-toggleable__content\"><pre>ColumnTransformer(remainder=&#x27;passthrough&#x27;,\n",
              "                  transformers=[(&#x27;onehotencoder&#x27;,\n",
              "                                 OneHotEncoder(categories=[array([0, 1, 2, 3]),\n",
              "                                                           array([0, 1, 2, 3, 4, 5, 6, 7, 8, 9]),\n",
              "                                                           array([  0,   1,   2,   3,   4,   5,   6,   7,   8,   9,  10,  11,  12,\n",
              "        13,  14,  15,  16,  17,  18,  19,  20,  21,  22,  23,  24,  25,\n",
              "        26,  27,  28,  29,  30,  31,  32,  33,  34,  35,  36,  37,  38,\n",
              "        39,  40,  41,  42,  43,  44,  45,  46,  47,  48,  49,  50,  51,\n",
              "        52,  53,  54,  55,  56,  57,  58,  59,  60,  61,  62,  63,  64,\n",
              "        65,  66,  67,  68,  6...\n",
              "       741, 742, 743, 744, 745, 746, 747, 748, 749, 750, 751, 752, 753,\n",
              "       754, 755, 756, 757, 758, 759, 760, 761, 762, 763, 764, 765, 766,\n",
              "       767, 768, 769, 770, 771, 772, 773, 774]),\n",
              "                                                           array([ 0,  1,  2,  3,  4,  5,  6,  7,  8,  9, 10, 11, 12, 13, 14, 15, 16,\n",
              "       17, 18, 19, 20, 21, 22, 23, 24, 25, 26, 27, 28, 29, 30, 31, 32, 33,\n",
              "       34, 35, 36, 37, 38, 39, 40, 41, 42, 43]),\n",
              "                                                           array([0, 1]),\n",
              "                                                           array([0, 1])]),\n",
              "                                 [&#x27;engine_type&#x27;, &#x27;series&#x27;, &#x27;model&#x27;, &#x27;brand&#x27;,\n",
              "                                  &#x27;assemble_place&#x27;, &#x27;transmission&#x27;])])</pre></div></div></div><div class=\"sk-parallel\"><div class=\"sk-parallel-item\"><div class=\"sk-item\"><div class=\"sk-label-container\"><div class=\"sk-label sk-toggleable\"><input class=\"sk-toggleable__control sk-hidden--visually\" id=\"sk-estimator-id-109\" type=\"checkbox\" ><label for=\"sk-estimator-id-109\" class=\"sk-toggleable__label sk-toggleable__label-arrow\">onehotencoder</label><div class=\"sk-toggleable__content\"><pre>[&#x27;engine_type&#x27;, &#x27;series&#x27;, &#x27;model&#x27;, &#x27;brand&#x27;, &#x27;assemble_place&#x27;, &#x27;transmission&#x27;]</pre></div></div></div><div class=\"sk-serial\"><div class=\"sk-item\"><div class=\"sk-estimator sk-toggleable\"><input class=\"sk-toggleable__control sk-hidden--visually\" id=\"sk-estimator-id-110\" type=\"checkbox\" ><label for=\"sk-estimator-id-110\" class=\"sk-toggleable__label sk-toggleable__label-arrow\">OneHotEncoder</label><div class=\"sk-toggleable__content\"><pre>OneHotEncoder(categories=[array([0, 1, 2, 3]),\n",
              "                          array([0, 1, 2, 3, 4, 5, 6, 7, 8, 9]),\n",
              "                          array([  0,   1,   2,   3,   4,   5,   6,   7,   8,   9,  10,  11,  12,\n",
              "        13,  14,  15,  16,  17,  18,  19,  20,  21,  22,  23,  24,  25,\n",
              "        26,  27,  28,  29,  30,  31,  32,  33,  34,  35,  36,  37,  38,\n",
              "        39,  40,  41,  42,  43,  44,  45,  46,  47,  48,  49,  50,  51,\n",
              "        52,  53,  54,  55,  56,  57,  58,  59,  60,  61,  62,  63,  64,\n",
              "        65,  66,  67,  68,  69,  70,  71,  72,  73,  74,  75,  76,  77,\n",
              "        78,  79,  80,  81,  82,  83,  84,  85,  86,  87,  88,  89,  90,\n",
              "        91,  92,  93...\n",
              "       715, 716, 717, 718, 719, 720, 721, 722, 723, 724, 725, 726, 727,\n",
              "       728, 729, 730, 731, 732, 733, 734, 735, 736, 737, 738, 739, 740,\n",
              "       741, 742, 743, 744, 745, 746, 747, 748, 749, 750, 751, 752, 753,\n",
              "       754, 755, 756, 757, 758, 759, 760, 761, 762, 763, 764, 765, 766,\n",
              "       767, 768, 769, 770, 771, 772, 773, 774]),\n",
              "                          array([ 0,  1,  2,  3,  4,  5,  6,  7,  8,  9, 10, 11, 12, 13, 14, 15, 16,\n",
              "       17, 18, 19, 20, 21, 22, 23, 24, 25, 26, 27, 28, 29, 30, 31, 32, 33,\n",
              "       34, 35, 36, 37, 38, 39, 40, 41, 42, 43]),\n",
              "                          array([0, 1]), array([0, 1])])</pre></div></div></div></div></div></div><div class=\"sk-parallel-item\"><div class=\"sk-item\"><div class=\"sk-label-container\"><div class=\"sk-label sk-toggleable\"><input class=\"sk-toggleable__control sk-hidden--visually\" id=\"sk-estimator-id-111\" type=\"checkbox\" ><label for=\"sk-estimator-id-111\" class=\"sk-toggleable__label sk-toggleable__label-arrow\">remainder</label><div class=\"sk-toggleable__content\"><pre>[&#x27;year&#x27;, &#x27;driven kms&#x27;, &#x27;num_of_seat&#x27;, &#x27;num_of_door&#x27;]</pre></div></div></div><div class=\"sk-serial\"><div class=\"sk-item\"><div class=\"sk-estimator sk-toggleable\"><input class=\"sk-toggleable__control sk-hidden--visually\" id=\"sk-estimator-id-112\" type=\"checkbox\" ><label for=\"sk-estimator-id-112\" class=\"sk-toggleable__label sk-toggleable__label-arrow\">passthrough</label><div class=\"sk-toggleable__content\"><pre>passthrough</pre></div></div></div></div></div></div></div></div><div class=\"sk-item\"><div class=\"sk-estimator sk-toggleable\"><input class=\"sk-toggleable__control sk-hidden--visually\" id=\"sk-estimator-id-113\" type=\"checkbox\" ><label for=\"sk-estimator-id-113\" class=\"sk-toggleable__label sk-toggleable__label-arrow\">Lasso</label><div class=\"sk-toggleable__content\"><pre>Lasso()</pre></div></div></div></div></div></div></div>"
            ]
          },
          "metadata": {},
          "execution_count": 492
        }
      ]
    },
    {
      "cell_type": "code",
      "source": [
        "pipe_lasso.score(X_test,y_test)"
      ],
      "metadata": {
        "colab": {
          "base_uri": "https://localhost:8080/"
        },
        "id": "ByAze2HtK2cF",
        "outputId": "f4ab2c4a-e5bb-429c-a630-98b04847d26e"
      },
      "execution_count": 493,
      "outputs": [
        {
          "output_type": "execute_result",
          "data": {
            "text/plain": [
              "0.8685045149118511"
            ]
          },
          "metadata": {},
          "execution_count": 493
        }
      ]
    }
  ],
  "metadata": {
    "kernelspec": {
      "display_name": "Python 3 (ipykernel)",
      "language": "python",
      "name": "python3"
    },
    "language_info": {
      "codemirror_mode": {
        "name": "ipython",
        "version": 3
      },
      "file_extension": ".py",
      "mimetype": "text/x-python",
      "name": "python",
      "nbconvert_exporter": "python",
      "pygments_lexer": "ipython3",
      "version": "3.11.2"
    },
    "colab": {
      "provenance": [],
      "toc_visible": true
    }
  },
  "nbformat": 4,
  "nbformat_minor": 0
}