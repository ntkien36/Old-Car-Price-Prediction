{
 "cells": [
  {
   "cell_type": "markdown",
   "metadata": {},
   "source": [
    "# Import library"
   ]
  },
  {
   "cell_type": "code",
   "execution_count": 2,
   "metadata": {
    "ExecuteTime": {
     "end_time": "2023-07-08T16:23:16.476687800Z",
     "start_time": "2023-07-08T16:23:07.057323900Z"
    },
    "collapsed": true
   },
   "outputs": [],
   "source": [
    "import copy\n",
    "import numpy as np\n",
    "import pandas as pd\n",
    "from sklearn.preprocessing import OneHotEncoder\n",
    "import matplotlib.pyplot as plt\n",
    "import seaborn as sns\n",
    "from sklearn.preprocessing import StandardScaler\n",
    "from sklearn.model_selection import train_test_split\n",
    "from sklearn.metrics import mean_squared_error\n",
    "from sklearn.linear_model import LinearRegression\n",
    "from sklearn import metrics\n",
    "from sklearn.metrics import r2_score \n",
    "import pickle\n",
    "from sklearn.compose import make_column_transformer\n",
    "from sklearn.pipeline import make_pipeline\n",
    "from sklearn.ensemble import RandomForestRegressor\n"
   ]
  },
  {
   "cell_type": "markdown",
   "metadata": {},
   "source": [
    "# Load data"
   ]
  },
  {
   "cell_type": "code",
   "execution_count": 3,
   "metadata": {
    "ExecuteTime": {
     "end_time": "2023-07-08T16:23:17.129829900Z",
     "start_time": "2023-07-08T16:23:16.470147100Z"
    }
   },
   "outputs": [],
   "source": [
    "df = pd.read_csv('../data/data.csv')\n",
    "backup = copy.deepcopy(df)"
   ]
  },
  {
   "cell_type": "markdown",
   "metadata": {},
   "source": [
    "# Data overview"
   ]
  },
  {
   "cell_type": "code",
   "execution_count": 4,
   "metadata": {
    "ExecuteTime": {
     "end_time": "2023-07-08T16:23:17.826979400Z",
     "start_time": "2023-07-08T16:23:17.130829300Z"
    }
   },
   "outputs": [
    {
     "name": "stdout",
     "output_type": "stream",
     "text": [
      "Shape of data:\n",
      " (26956, 11)\n",
      "----------------------------------------\n",
      "Columns of data: \n",
      " Index(['car_name', 'year', 'price', 'assemble_place', 'series', 'driven kms',\n",
      "       'num_of_door', 'num_of_seat', 'engine_type', 'transmission', 'url'],\n",
      "      dtype='object')\n",
      "----------------------------------------\n",
      "Data types of data: \n",
      " car_name           object\n",
      "year               object\n",
      "price              object\n",
      "assemble_place     object\n",
      "series             object\n",
      "driven kms        float64\n",
      "num_of_door       float64\n",
      "num_of_seat       float64\n",
      "engine_type        object\n",
      "transmission       object\n",
      "url                object\n",
      "dtype: object\n",
      "----------------------------------------\n",
      "Missing values of data: \n",
      " car_name          38\n",
      "year              11\n",
      "price             11\n",
      "assemble_place    11\n",
      "series            11\n",
      "driven kms        11\n",
      "num_of_door       11\n",
      "num_of_seat       11\n",
      "engine_type       11\n",
      "transmission      11\n",
      "url               11\n",
      "dtype: int64\n",
      "----------------------------------------\n",
      "Describe data: \n",
      "          driven kms   num_of_door   num_of_seat\n",
      "count  2.694500e+04  26945.000000  26945.000000\n",
      "mean   4.809838e+05      4.515272      5.537317\n",
      "std    3.062607e+07      0.913087      1.687252\n",
      "min    1.000000e+00      1.000000      2.000000\n",
      "25%    2.215100e+04      4.000000      5.000000\n",
      "50%    4.900000e+04      5.000000      5.000000\n",
      "75%    8.000000e+04      5.000000      5.000000\n",
      "max    4.294967e+09     54.000000     47.000000\n",
      "----------------------------------------\n",
      "<class 'pandas.core.frame.DataFrame'>\n",
      "RangeIndex: 26956 entries, 0 to 26955\n",
      "Data columns (total 11 columns):\n",
      " #   Column          Non-Null Count  Dtype  \n",
      "---  ------          --------------  -----  \n",
      " 0   car_name        26918 non-null  object \n",
      " 1   year            26945 non-null  object \n",
      " 2   price           26945 non-null  object \n",
      " 3   assemble_place  26945 non-null  object \n",
      " 4   series          26945 non-null  object \n",
      " 5   driven kms      26945 non-null  float64\n",
      " 6   num_of_door     26945 non-null  float64\n",
      " 7   num_of_seat     26945 non-null  float64\n",
      " 8   engine_type     26945 non-null  object \n",
      " 9   transmission    26945 non-null  object \n",
      " 10  url             26945 non-null  object \n",
      "dtypes: float64(3), object(8)\n",
      "memory usage: 2.3+ MB\n",
      "Info data: \n",
      " None\n"
     ]
    }
   ],
   "source": [
    "def describle_data():\n",
    "    print('Shape of data:\\n', df.shape)\n",
    "    print('--'*20)\n",
    "    print('Columns of data: \\n', df.columns)\n",
    "    print('--'*20)\n",
    "    print('Data types of data: \\n', df.dtypes)\n",
    "    print('--'*20)\n",
    "    print('Missing values of data: \\n', df.isna().sum())\n",
    "    print('--'*20)\n",
    "    print('Describe data: \\n', df.describe())\n",
    "    print('--'*20)\n",
    "    print('Info data: \\n', df.info())\n",
    "describle_data()"
   ]
  },
  {
   "cell_type": "markdown",
   "metadata": {},
   "source": [
    "# Xóa bỏ những xe bị trùng lặp"
   ]
  },
  {
   "cell_type": "markdown",
   "metadata": {},
   "source": []
  },
  {
   "cell_type": "code",
   "execution_count": 5,
   "metadata": {
    "ExecuteTime": {
     "end_time": "2023-07-08T16:23:17.930570600Z",
     "start_time": "2023-07-08T16:23:17.833977600Z"
    }
   },
   "outputs": [
    {
     "name": "stdout",
     "output_type": "stream",
     "text": [
      "Shape of data:\n",
      " (25157, 11)\n",
      "----------------------------------------\n",
      "Columns of data: \n",
      " Index(['car_name', 'year', 'price', 'assemble_place', 'series', 'driven kms',\n",
      "       'num_of_door', 'num_of_seat', 'engine_type', 'transmission', 'url'],\n",
      "      dtype='object')\n",
      "----------------------------------------\n",
      "Data types of data: \n",
      " car_name           object\n",
      "year               object\n",
      "price              object\n",
      "assemble_place     object\n",
      "series             object\n",
      "driven kms        float64\n",
      "num_of_door       float64\n",
      "num_of_seat       float64\n",
      "engine_type        object\n",
      "transmission       object\n",
      "url                object\n",
      "dtype: object\n",
      "----------------------------------------\n",
      "Missing values of data: \n",
      " car_name          35\n",
      "year               1\n",
      "price              1\n",
      "assemble_place     1\n",
      "series             1\n",
      "driven kms         1\n",
      "num_of_door        1\n",
      "num_of_seat        1\n",
      "engine_type        1\n",
      "transmission       1\n",
      "url                1\n",
      "dtype: int64\n",
      "----------------------------------------\n",
      "Describe data: \n",
      "          driven kms   num_of_door   num_of_seat\n",
      "count  2.515600e+04  25156.000000  25156.000000\n",
      "mean   5.110776e+05      4.515583      5.535737\n",
      "std    3.169618e+07      0.931673      1.693333\n",
      "min    1.000000e+00      1.000000      2.000000\n",
      "25%    2.220425e+04      4.000000      5.000000\n",
      "50%    4.993900e+04      5.000000      5.000000\n",
      "75%    8.000000e+04      5.000000      5.000000\n",
      "max    4.294967e+09     54.000000     47.000000\n",
      "----------------------------------------\n",
      "<class 'pandas.core.frame.DataFrame'>\n",
      "Index: 25157 entries, 0 to 26902\n",
      "Data columns (total 11 columns):\n",
      " #   Column          Non-Null Count  Dtype  \n",
      "---  ------          --------------  -----  \n",
      " 0   car_name        25122 non-null  object \n",
      " 1   year            25156 non-null  object \n",
      " 2   price           25156 non-null  object \n",
      " 3   assemble_place  25156 non-null  object \n",
      " 4   series          25156 non-null  object \n",
      " 5   driven kms      25156 non-null  float64\n",
      " 6   num_of_door     25156 non-null  float64\n",
      " 7   num_of_seat     25156 non-null  float64\n",
      " 8   engine_type     25156 non-null  object \n",
      " 9   transmission    25156 non-null  object \n",
      " 10  url             25156 non-null  object \n",
      "dtypes: float64(3), object(8)\n",
      "memory usage: 2.3+ MB\n",
      "Info data: \n",
      " None\n"
     ]
    }
   ],
   "source": [
    "df.drop_duplicates(subset=['url'], inplace=True)\n",
    "describle_data()"
   ]
  },
  {
   "cell_type": "markdown",
   "metadata": {},
   "source": [
    "# Chuyển đổi kiểu dữ liệu cho các cột year, price sang kiểu số thực để có thể thực hiện các phép tính toán"
   ]
  },
  {
   "cell_type": "markdown",
   "metadata": {},
   "source": [
    "Year"
   ]
  },
  {
   "cell_type": "code",
   "execution_count": 6,
   "metadata": {
    "ExecuteTime": {
     "end_time": "2023-07-08T16:23:18.102158500Z",
     "start_time": "2023-07-08T16:23:17.915446Z"
    }
   },
   "outputs": [
    {
     "name": "stdout",
     "output_type": "stream",
     "text": [
      "Shape of data:\n",
      " (25157, 11)\n",
      "----------------------------------------\n",
      "Columns of data: \n",
      " Index(['car_name', 'year', 'price', 'assemble_place', 'series', 'driven kms',\n",
      "       'num_of_door', 'num_of_seat', 'engine_type', 'transmission', 'url'],\n",
      "      dtype='object')\n",
      "----------------------------------------\n",
      "Data types of data: \n",
      " car_name           object\n",
      "year              float64\n",
      "price              object\n",
      "assemble_place     object\n",
      "series             object\n",
      "driven kms        float64\n",
      "num_of_door       float64\n",
      "num_of_seat       float64\n",
      "engine_type        object\n",
      "transmission       object\n",
      "url                object\n",
      "dtype: object\n",
      "----------------------------------------\n",
      "Missing values of data: \n",
      " car_name          35\n",
      "year               0\n",
      "price              1\n",
      "assemble_place     1\n",
      "series             1\n",
      "driven kms         1\n",
      "num_of_door        1\n",
      "num_of_seat        1\n",
      "engine_type        1\n",
      "transmission       1\n",
      "url                1\n",
      "dtype: int64\n",
      "----------------------------------------\n",
      "Describe data: \n",
      "                year    driven kms   num_of_door   num_of_seat\n",
      "count  25157.000000  2.515600e+04  25156.000000  25156.000000\n",
      "mean    1997.561553  5.110776e+05      4.515583      5.535737\n",
      "std      195.475487  3.169618e+07      0.931673      1.693333\n",
      "min       -1.000000  1.000000e+00      1.000000      2.000000\n",
      "25%     2015.000000  2.220425e+04      4.000000      5.000000\n",
      "50%     2018.000000  4.993900e+04      5.000000      5.000000\n",
      "75%     2020.000000  8.000000e+04      5.000000      5.000000\n",
      "max     2023.000000  4.294967e+09     54.000000     47.000000\n",
      "----------------------------------------\n",
      "<class 'pandas.core.frame.DataFrame'>\n",
      "Index: 25157 entries, 0 to 26902\n",
      "Data columns (total 11 columns):\n",
      " #   Column          Non-Null Count  Dtype  \n",
      "---  ------          --------------  -----  \n",
      " 0   car_name        25122 non-null  object \n",
      " 1   year            25157 non-null  float64\n",
      " 2   price           25156 non-null  object \n",
      " 3   assemble_place  25156 non-null  object \n",
      " 4   series          25156 non-null  object \n",
      " 5   driven kms      25156 non-null  float64\n",
      " 6   num_of_door     25156 non-null  float64\n",
      " 7   num_of_seat     25156 non-null  float64\n",
      " 8   engine_type     25156 non-null  object \n",
      " 9   transmission    25156 non-null  object \n",
      " 10  url             25156 non-null  object \n",
      "dtypes: float64(4), object(7)\n",
      "memory usage: 2.3+ MB\n",
      "Info data: \n",
      " None\n"
     ]
    }
   ],
   "source": [
    "def process_year_colum(year):\n",
    "    if year.isdigit():\n",
    "        return float(year)\n",
    "    else:\n",
    "        return -1\n",
    "df['year'] = df['year'].astype(str).apply(process_year_colum)\n",
    "describle_data()"
   ]
  },
  {
   "cell_type": "markdown",
   "metadata": {},
   "source": [
    "Chuyển đổi giá từ dạng triệu/tỷ về dạng số"
   ]
  },
  {
   "cell_type": "code",
   "execution_count": 7,
   "metadata": {
    "ExecuteTime": {
     "end_time": "2023-07-08T16:23:18.122590Z",
     "start_time": "2023-07-08T16:23:18.027218500Z"
    }
   },
   "outputs": [],
   "source": [
    "def process_price(price):\n",
    "    try:\n",
    "        if price.find('Tỷ') != -1:\n",
    "            ty= price.split('Tỷ')[0]\n",
    "            trieu = price.split('Tỷ')[1]\n",
    "            trieu = trieu.split('Triệu')[0]\n",
    "            return float(ty)*1000000000 + float(trieu)*1000000\n",
    "        elif price.find('Triệu') != -1:\n",
    "            trieu = price.split('Triệu')[0]\n",
    "            trieu = trieu.replace(' ','')\n",
    "            return float(trieu)*1000000\n",
    "        else:\n",
    "            return 0\n",
    "    except:\n",
    "        return 0\n",
    "df['price'] = df['price'].astype(str).apply(process_price)"
   ]
  },
  {
   "cell_type": "code",
   "execution_count": 8,
   "metadata": {
    "ExecuteTime": {
     "end_time": "2023-07-08T16:23:18.123581700Z",
     "start_time": "2023-07-08T16:23:18.078903500Z"
    }
   },
   "outputs": [],
   "source": [
    "# xóa các xe có giá trị km <= 0\n",
    "df = df[df['driven kms'] > 0]"
   ]
  },
  {
   "cell_type": "code",
   "execution_count": 9,
   "metadata": {
    "ExecuteTime": {
     "end_time": "2023-07-08T16:23:18.263378200Z",
     "start_time": "2023-07-08T16:23:18.095608300Z"
    }
   },
   "outputs": [
    {
     "data": {
      "text/plain": [
       "count    2.515600e+04\n",
       "mean     1.064326e+09\n",
       "std      1.664726e+09\n",
       "min      0.000000e+00\n",
       "25%      3.850000e+08\n",
       "50%      5.600000e+08\n",
       "75%      9.450000e+08\n",
       "max      3.860000e+10\n",
       "Name: price, dtype: float64"
      ]
     },
     "execution_count": 9,
     "metadata": {},
     "output_type": "execute_result"
    }
   ],
   "source": [
    "df['price'].describe()\n"
   ]
  },
  {
   "cell_type": "markdown",
   "metadata": {},
   "source": [
    "# Xử lý các cột dạng nhãn"
   ]
  },
  {
   "cell_type": "markdown",
   "metadata": {},
   "source": [
    "Car_name có hai phần là hãng xe và tên xe, ta sẽ tách ra thành hai cột là brand và model\n"
   ]
  },
  {
   "cell_type": "code",
   "execution_count": 10,
   "metadata": {
    "ExecuteTime": {
     "end_time": "2023-07-08T16:23:18.386179Z",
     "start_time": "2023-07-08T16:23:18.117568800Z"
    }
   },
   "outputs": [],
   "source": [
    "df['brand'] = df['car_name'].str.split().str[0]\n",
    "df['model'] = df['car_name'].str.split().str[1:].str.join(' ')"
   ]
  },
  {
   "cell_type": "code",
   "execution_count": 11,
   "metadata": {
    "ExecuteTime": {
     "end_time": "2023-07-08T16:23:18.414633800Z",
     "start_time": "2023-07-08T16:23:18.392190100Z"
    }
   },
   "outputs": [
    {
     "data": {
      "text/plain": [
       "brand\n",
       "Toyota        4798\n",
       "Mercedes      2933\n",
       "Hyundai       2832\n",
       "Kia           2681\n",
       "Ford          2236\n",
       "              ... \n",
       "Howo             1\n",
       "Samsung          1\n",
       "Scion            1\n",
       "SHUGUANG         1\n",
       "Brilliance       1\n",
       "Name: count, Length: 85, dtype: int64"
      ]
     },
     "execution_count": 11,
     "metadata": {},
     "output_type": "execute_result"
    }
   ],
   "source": [
    "df['brand'].value_counts()"
   ]
  },
  {
   "cell_type": "code",
   "execution_count": 12,
   "metadata": {
    "ExecuteTime": {
     "end_time": "2023-07-08T16:23:18.482852200Z",
     "start_time": "2023-07-08T16:23:18.415644200Z"
    }
   },
   "outputs": [],
   "source": [
    "df['model']=df['model'].str.split(' ').str.slice(0,3).str.join(' ')"
   ]
  },
  {
   "cell_type": "code",
   "execution_count": 13,
   "metadata": {
    "ExecuteTime": {
     "end_time": "2023-07-08T16:23:20.620313800Z",
     "start_time": "2023-07-08T16:23:18.474305Z"
    }
   },
   "outputs": [],
   "source": [
    "# các model có số lượng dưới 10 xe sẽ được gộp vào thành model Other\n",
    "model_counts = df['model'].value_counts()\n",
    "model_counts[model_counts < 5]\n",
    "model_counts[model_counts < 5].index\n",
    "df['model'] = df['model'].replace(model_counts[model_counts < 5].index, 'Other')"
   ]
  },
  {
   "cell_type": "code",
   "execution_count": 14,
   "metadata": {
    "ExecuteTime": {
     "end_time": "2023-07-08T16:23:20.649319700Z",
     "start_time": "2023-07-08T16:23:20.625323100Z"
    }
   },
   "outputs": [
    {
     "data": {
      "text/plain": [
       "0          Range Rover HSE\n",
       "1        Outlander 2.0 CVT\n",
       "2            3 1.5L Luxury\n",
       "3                 2 1.5 AT\n",
       "4            Swift GLX 1.2\n",
       "               ...        \n",
       "26898        Swift GLX 1.2\n",
       "26899        i10 Grand 1.2\n",
       "26900         Rush 1.5S AT\n",
       "26901               GX 460\n",
       "26902    Fortuner 2.4G 4x2\n",
       "Name: model, Length: 25156, dtype: object"
      ]
     },
     "execution_count": 14,
     "metadata": {},
     "output_type": "execute_result"
    }
   ],
   "source": [
    "df['model']"
   ]
  },
  {
   "cell_type": "code",
   "execution_count": 15,
   "metadata": {
    "ExecuteTime": {
     "end_time": "2023-07-08T16:23:20.988775100Z",
     "start_time": "2023-07-08T16:23:20.661657700Z"
    }
   },
   "outputs": [
    {
     "data": {
      "text/html": [
       "<div>\n",
       "<style scoped>\n",
       "    .dataframe tbody tr th:only-of-type {\n",
       "        vertical-align: middle;\n",
       "    }\n",
       "\n",
       "    .dataframe tbody tr th {\n",
       "        vertical-align: top;\n",
       "    }\n",
       "\n",
       "    .dataframe thead th {\n",
       "        text-align: right;\n",
       "    }\n",
       "</style>\n",
       "<table border=\"1\" class=\"dataframe\">\n",
       "  <thead>\n",
       "    <tr style=\"text-align: right;\">\n",
       "      <th></th>\n",
       "      <th>car_name</th>\n",
       "      <th>year</th>\n",
       "      <th>price</th>\n",
       "      <th>assemble_place</th>\n",
       "      <th>series</th>\n",
       "      <th>driven kms</th>\n",
       "      <th>num_of_door</th>\n",
       "      <th>num_of_seat</th>\n",
       "      <th>engine_type</th>\n",
       "      <th>transmission</th>\n",
       "      <th>url</th>\n",
       "      <th>brand</th>\n",
       "      <th>model</th>\n",
       "    </tr>\n",
       "  </thead>\n",
       "  <tbody>\n",
       "    <tr>\n",
       "      <th>0</th>\n",
       "      <td>LandRover Range Rover HSE 3.0</td>\n",
       "      <td>2015.0</td>\n",
       "      <td>2.700000e+09</td>\n",
       "      <td>Nhập khẩu</td>\n",
       "      <td>SUV</td>\n",
       "      <td>65000.0</td>\n",
       "      <td>5.0</td>\n",
       "      <td>5.0</td>\n",
       "      <td>Xăng</td>\n",
       "      <td>Số tự động</td>\n",
       "      <td>https://bonbanh.com/xe-landrover-range_rover-h...</td>\n",
       "      <td>LandRover</td>\n",
       "      <td>Range Rover HSE</td>\n",
       "    </tr>\n",
       "    <tr>\n",
       "      <th>1</th>\n",
       "      <td>Mitsubishi Outlander 2.0 CVT Premium</td>\n",
       "      <td>2018.0</td>\n",
       "      <td>6.660000e+08</td>\n",
       "      <td>Lắp ráp trong nước</td>\n",
       "      <td>SUV</td>\n",
       "      <td>50000.0</td>\n",
       "      <td>5.0</td>\n",
       "      <td>7.0</td>\n",
       "      <td>Xăng</td>\n",
       "      <td>Số tự động</td>\n",
       "      <td>https://bonbanh.com/xe-mitsubishi-outlander-2....</td>\n",
       "      <td>Mitsubishi</td>\n",
       "      <td>Outlander 2.0 CVT</td>\n",
       "    </tr>\n",
       "    <tr>\n",
       "      <th>2</th>\n",
       "      <td>Mazda 3 1.5L Luxury</td>\n",
       "      <td>2019.0</td>\n",
       "      <td>4.900000e+08</td>\n",
       "      <td>Lắp ráp trong nước</td>\n",
       "      <td>Sedan</td>\n",
       "      <td>51000.0</td>\n",
       "      <td>4.0</td>\n",
       "      <td>5.0</td>\n",
       "      <td>Xăng</td>\n",
       "      <td>Số tự động</td>\n",
       "      <td>https://bonbanh.com/xe-mazda-3-1.5l-luxury-201...</td>\n",
       "      <td>Mazda</td>\n",
       "      <td>3 1.5L Luxury</td>\n",
       "    </tr>\n",
       "    <tr>\n",
       "      <th>3</th>\n",
       "      <td>Mazda 2 1.5 AT</td>\n",
       "      <td>2015.0</td>\n",
       "      <td>3.650000e+08</td>\n",
       "      <td>Lắp ráp trong nước</td>\n",
       "      <td>Sedan</td>\n",
       "      <td>38000.0</td>\n",
       "      <td>4.0</td>\n",
       "      <td>5.0</td>\n",
       "      <td>Xăng</td>\n",
       "      <td>Số tự động</td>\n",
       "      <td>https://bonbanh.com/xe-mazda-2-1.5-at-2015-491...</td>\n",
       "      <td>Mazda</td>\n",
       "      <td>2 1.5 AT</td>\n",
       "    </tr>\n",
       "    <tr>\n",
       "      <th>4</th>\n",
       "      <td>Suzuki Swift GLX 1.2 AT</td>\n",
       "      <td>2021.0</td>\n",
       "      <td>5.650000e+08</td>\n",
       "      <td>Nhập khẩu</td>\n",
       "      <td>Hatchback</td>\n",
       "      <td>6000.0</td>\n",
       "      <td>5.0</td>\n",
       "      <td>5.0</td>\n",
       "      <td>Xăng</td>\n",
       "      <td>Số tự động</td>\n",
       "      <td>https://bonbanh.com/xe-suzuki-swift-glx-1.2-at...</td>\n",
       "      <td>Suzuki</td>\n",
       "      <td>Swift GLX 1.2</td>\n",
       "    </tr>\n",
       "  </tbody>\n",
       "</table>\n",
       "</div>"
      ],
      "text/plain": [
       "                                car_name    year         price  \\\n",
       "0          LandRover Range Rover HSE 3.0  2015.0  2.700000e+09   \n",
       "1   Mitsubishi Outlander 2.0 CVT Premium  2018.0  6.660000e+08   \n",
       "2                    Mazda 3 1.5L Luxury  2019.0  4.900000e+08   \n",
       "3                         Mazda 2 1.5 AT  2015.0  3.650000e+08   \n",
       "4                Suzuki Swift GLX 1.2 AT  2021.0  5.650000e+08   \n",
       "\n",
       "       assemble_place     series  driven kms  num_of_door  num_of_seat  \\\n",
       "0           Nhập khẩu        SUV     65000.0          5.0          5.0   \n",
       "1  Lắp ráp trong nước        SUV     50000.0          5.0          7.0   \n",
       "2  Lắp ráp trong nước      Sedan     51000.0          4.0          5.0   \n",
       "3  Lắp ráp trong nước      Sedan     38000.0          4.0          5.0   \n",
       "4           Nhập khẩu  Hatchback      6000.0          5.0          5.0   \n",
       "\n",
       "  engine_type transmission                                                url  \\\n",
       "0        Xăng   Số tự động  https://bonbanh.com/xe-landrover-range_rover-h...   \n",
       "1        Xăng   Số tự động  https://bonbanh.com/xe-mitsubishi-outlander-2....   \n",
       "2        Xăng   Số tự động  https://bonbanh.com/xe-mazda-3-1.5l-luxury-201...   \n",
       "3        Xăng   Số tự động  https://bonbanh.com/xe-mazda-2-1.5-at-2015-491...   \n",
       "4        Xăng   Số tự động  https://bonbanh.com/xe-suzuki-swift-glx-1.2-at...   \n",
       "\n",
       "        brand              model  \n",
       "0   LandRover    Range Rover HSE  \n",
       "1  Mitsubishi  Outlander 2.0 CVT  \n",
       "2       Mazda      3 1.5L Luxury  \n",
       "3       Mazda           2 1.5 AT  \n",
       "4      Suzuki      Swift GLX 1.2  "
      ]
     },
     "execution_count": 15,
     "metadata": {},
     "output_type": "execute_result"
    }
   ],
   "source": [
    "df.head()"
   ]
  },
  {
   "cell_type": "markdown",
   "metadata": {},
   "source": [
    "# Xử lý các dữ liệu bị thiếu hoặc sai\n"
   ]
  },
  {
   "cell_type": "markdown",
   "metadata": {},
   "source": [
    "Xử lý cột year"
   ]
  },
  {
   "cell_type": "code",
   "execution_count": 16,
   "metadata": {
    "ExecuteTime": {
     "end_time": "2023-07-08T16:23:20.990775Z",
     "start_time": "2023-07-08T16:23:20.735405300Z"
    }
   },
   "outputs": [
    {
     "name": "stdout",
     "output_type": "stream",
     "text": [
      "Number of car before 1990:  238\n",
      "Number of car before 1990:  year\n",
      "-1.0      236\n",
      " 200.0      1\n",
      " 700.0      1\n",
      "Name: count, dtype: int64\n"
     ]
    }
   ],
   "source": [
    "car_before_1990 = df[df['year'] < 1990]\n",
    "print('Number of car before 1990: ', car_before_1990.shape[0])\n",
    "print('Number of car before 1990: ', car_before_1990['year'].value_counts())"
   ]
  },
  {
   "cell_type": "markdown",
   "metadata": {},
   "source": []
  },
  {
   "cell_type": "markdown",
   "metadata": {},
   "source": [
    "Xóa các dòng năm sản xuất không hợp lệ < 1900"
   ]
  },
  {
   "cell_type": "code",
   "execution_count": 17,
   "metadata": {
    "ExecuteTime": {
     "end_time": "2023-07-08T16:23:20.991788Z",
     "start_time": "2023-07-08T16:23:20.769487300Z"
    }
   },
   "outputs": [
    {
     "name": "stdout",
     "output_type": "stream",
     "text": [
      "Shape of data:\n",
      " (24893, 13)\n",
      "----------------------------------------\n",
      "Columns of data: \n",
      " Index(['car_name', 'year', 'price', 'assemble_place', 'series', 'driven kms',\n",
      "       'num_of_door', 'num_of_seat', 'engine_type', 'transmission', 'url',\n",
      "       'brand', 'model'],\n",
      "      dtype='object')\n",
      "----------------------------------------\n",
      "Data types of data: \n",
      " car_name           object\n",
      "year              float64\n",
      "price             float64\n",
      "assemble_place     object\n",
      "series             object\n",
      "driven kms        float64\n",
      "num_of_door       float64\n",
      "num_of_seat       float64\n",
      "engine_type        object\n",
      "transmission       object\n",
      "url                object\n",
      "brand              object\n",
      "model              object\n",
      "dtype: object\n",
      "----------------------------------------\n",
      "Missing values of data: \n",
      " car_name          0\n",
      "year              0\n",
      "price             0\n",
      "assemble_place    0\n",
      "series            0\n",
      "driven kms        0\n",
      "num_of_door       0\n",
      "num_of_seat       0\n",
      "engine_type       0\n",
      "transmission      0\n",
      "url               0\n",
      "brand             0\n",
      "model             0\n",
      "dtype: int64\n",
      "----------------------------------------\n",
      "Describe data: \n",
      "                year         price    driven kms   num_of_door   num_of_seat\n",
      "count  24893.000000  2.489300e+04  2.489300e+04  24893.000000  24893.000000\n",
      "mean    2016.721287  1.075413e+09  5.037849e+05      4.513799      5.537139\n",
      "std        4.641435  1.669963e+09  3.180655e+07      0.933953      1.698263\n",
      "min     1991.000000  0.000000e+00  1.000000e+00      1.000000      2.000000\n",
      "25%     2015.000000  3.900000e+08  2.300000e+04      4.000000      5.000000\n",
      "50%     2018.000000  5.650000e+08  5.000000e+04      5.000000      5.000000\n",
      "75%     2020.000000  9.500000e+08  8.000000e+04      5.000000      5.000000\n",
      "max     2023.000000  3.860000e+10  4.294967e+09     54.000000     47.000000\n",
      "----------------------------------------\n",
      "<class 'pandas.core.frame.DataFrame'>\n",
      "Index: 24893 entries, 0 to 26902\n",
      "Data columns (total 13 columns):\n",
      " #   Column          Non-Null Count  Dtype  \n",
      "---  ------          --------------  -----  \n",
      " 0   car_name        24893 non-null  object \n",
      " 1   year            24893 non-null  float64\n",
      " 2   price           24893 non-null  float64\n",
      " 3   assemble_place  24893 non-null  object \n",
      " 4   series          24893 non-null  object \n",
      " 5   driven kms      24893 non-null  float64\n",
      " 6   num_of_door     24893 non-null  float64\n",
      " 7   num_of_seat     24893 non-null  float64\n",
      " 8   engine_type     24893 non-null  object \n",
      " 9   transmission    24893 non-null  object \n",
      " 10  url             24893 non-null  object \n",
      " 11  brand           24893 non-null  object \n",
      " 12  model           24893 non-null  object \n",
      "dtypes: float64(5), object(8)\n",
      "memory usage: 2.7+ MB\n",
      "Info data: \n",
      " None\n"
     ]
    }
   ],
   "source": [
    "df = df[df['year'] > 1990]\n",
    "describle_data()"
   ]
  },
  {
   "cell_type": "markdown",
   "metadata": {},
   "source": [
    "Cột price: xóa các giá trị <= 0"
   ]
  },
  {
   "cell_type": "code",
   "execution_count": 18,
   "metadata": {
    "ExecuteTime": {
     "end_time": "2023-07-08T16:23:20.992792400Z",
     "start_time": "2023-07-08T16:23:20.827744400Z"
    }
   },
   "outputs": [
    {
     "name": "stdout",
     "output_type": "stream",
     "text": [
      "Shape of data:\n",
      " (24814, 13)\n",
      "----------------------------------------\n",
      "Columns of data: \n",
      " Index(['car_name', 'year', 'price', 'assemble_place', 'series', 'driven kms',\n",
      "       'num_of_door', 'num_of_seat', 'engine_type', 'transmission', 'url',\n",
      "       'brand', 'model'],\n",
      "      dtype='object')\n",
      "----------------------------------------\n",
      "Data types of data: \n",
      " car_name           object\n",
      "year              float64\n",
      "price             float64\n",
      "assemble_place     object\n",
      "series             object\n",
      "driven kms        float64\n",
      "num_of_door       float64\n",
      "num_of_seat       float64\n",
      "engine_type        object\n",
      "transmission       object\n",
      "url                object\n",
      "brand              object\n",
      "model              object\n",
      "dtype: object\n",
      "----------------------------------------\n",
      "Missing values of data: \n",
      " car_name          0\n",
      "year              0\n",
      "price             0\n",
      "assemble_place    0\n",
      "series            0\n",
      "driven kms        0\n",
      "num_of_door       0\n",
      "num_of_seat       0\n",
      "engine_type       0\n",
      "transmission      0\n",
      "url               0\n",
      "brand             0\n",
      "model             0\n",
      "dtype: int64\n",
      "----------------------------------------\n",
      "Describe data: \n",
      "                year         price    driven kms   num_of_door   num_of_seat\n",
      "count  24814.000000  2.481400e+04  2.481400e+04  24814.000000  24814.000000\n",
      "mean    2016.713629  1.078837e+09  5.052955e+05      4.514024      5.538124\n",
      "std        4.644224  1.671515e+09  3.185713e+07      0.934234      1.699145\n",
      "min     1991.000000  1.500000e+07  1.000000e+00      1.000000      2.000000\n",
      "25%     2015.000000  3.950000e+08  2.300000e+04      4.000000      5.000000\n",
      "50%     2018.000000  5.650000e+08  5.000000e+04      5.000000      5.000000\n",
      "75%     2020.000000  9.500000e+08  8.000000e+04      5.000000      5.000000\n",
      "max     2023.000000  3.860000e+10  4.294967e+09     54.000000     47.000000\n",
      "----------------------------------------\n",
      "<class 'pandas.core.frame.DataFrame'>\n",
      "Index: 24814 entries, 0 to 26902\n",
      "Data columns (total 13 columns):\n",
      " #   Column          Non-Null Count  Dtype  \n",
      "---  ------          --------------  -----  \n",
      " 0   car_name        24814 non-null  object \n",
      " 1   year            24814 non-null  float64\n",
      " 2   price           24814 non-null  float64\n",
      " 3   assemble_place  24814 non-null  object \n",
      " 4   series          24814 non-null  object \n",
      " 5   driven kms      24814 non-null  float64\n",
      " 6   num_of_door     24814 non-null  float64\n",
      " 7   num_of_seat     24814 non-null  float64\n",
      " 8   engine_type     24814 non-null  object \n",
      " 9   transmission    24814 non-null  object \n",
      " 10  url             24814 non-null  object \n",
      " 11  brand           24814 non-null  object \n",
      " 12  model           24814 non-null  object \n",
      "dtypes: float64(5), object(8)\n",
      "memory usage: 2.7+ MB\n",
      "Info data: \n",
      " None\n"
     ]
    }
   ],
   "source": [
    "df = df[df['price'] > 0]\n",
    "describle_data()"
   ]
  },
  {
   "cell_type": "markdown",
   "metadata": {},
   "source": [
    "Cột num_of_door\n",
    "Thông thường các xe có tối đa 5 - 6 cửa, với những giá trị sai ta sẽ điền bằng giá trị xuất hiện nhiều nhất trong cột num_of_door"
   ]
  },
  {
   "cell_type": "code",
   "execution_count": 19,
   "metadata": {
    "ExecuteTime": {
     "end_time": "2023-07-08T16:23:20.992792400Z",
     "start_time": "2023-07-08T16:23:20.890184500Z"
    }
   },
   "outputs": [],
   "source": [
    "df['num_of_door'] = df['num_of_door'].apply(lambda x: df['num_of_door'].value_counts().index[0] if x > 6 else x)"
   ]
  },
  {
   "cell_type": "markdown",
   "metadata": {},
   "source": []
  },
  {
   "cell_type": "markdown",
   "metadata": {},
   "source": [
    "Cột brand"
   ]
  },
  {
   "cell_type": "code",
   "execution_count": 20,
   "metadata": {
    "ExecuteTime": {
     "end_time": "2023-07-08T16:23:20.993785400Z",
     "start_time": "2023-07-08T16:23:20.921567800Z"
    }
   },
   "outputs": [
    {
     "data": {
      "text/plain": [
       "brand\n",
       "Toyota        4775\n",
       "Mercedes      2906\n",
       "Hyundai       2827\n",
       "Kia           2640\n",
       "Ford          2230\n",
       "              ... \n",
       "Howo             1\n",
       "Samsung          1\n",
       "Aston            1\n",
       "Scion            1\n",
       "Brilliance       1\n",
       "Name: count, Length: 83, dtype: int64"
      ]
     },
     "execution_count": 20,
     "metadata": {},
     "output_type": "execute_result"
    }
   ],
   "source": [
    "df['brand'].value_counts()"
   ]
  },
  {
   "cell_type": "markdown",
   "metadata": {},
   "source": [
    "Cột brand có một số hãng có số lượng xe rất ít hoặc bị thiếu, ta sẽ gộp các hãng xe này thành một nhóm là 'other'\n",
    "Nếu số xe của hãng đó nhỏ hơn 10 thì sẽ gộp vào nhóm 'Other'"
   ]
  },
  {
   "cell_type": "code",
   "execution_count": 21,
   "metadata": {
    "ExecuteTime": {
     "end_time": "2023-07-08T16:23:21.163832800Z",
     "start_time": "2023-07-08T16:23:20.932627500Z"
    }
   },
   "outputs": [],
   "source": [
    "threshold = 5\n",
    "car_count = df['brand'].value_counts()\n",
    "small_brands = car_count[car_count < threshold].index.tolist()\n",
    "df['brand'] = df['brand'].apply(lambda x: 'Other' if x in small_brands else x)\n",
    "df['brand'].fillna('Other', inplace=True)"
   ]
  },
  {
   "cell_type": "code",
   "execution_count": 22,
   "metadata": {
    "ExecuteTime": {
     "end_time": "2023-07-08T16:23:21.196368300Z",
     "start_time": "2023-07-08T16:23:20.973697500Z"
    }
   },
   "outputs": [
    {
     "name": "stdout",
     "output_type": "stream",
     "text": [
      "brand\n",
      "Lamborghini    1.454000e+10\n",
      "Rolls          1.378962e+10\n",
      "Bentley        1.066070e+10\n",
      "McLaren        9.620000e+09\n",
      "Lincoln        6.090806e+09\n",
      "LandRover      4.203340e+09\n",
      "Porsche        4.017987e+09\n",
      "Maserati       3.554455e+09\n",
      "Lexus          3.278581e+09\n",
      "Jeep           2.971826e+09\n",
      "Cadillac       2.515273e+09\n",
      "Volvo          2.218634e+09\n",
      "Mercedes       2.004621e+09\n",
      "Jaguar         1.798727e+09\n",
      "Infiniti       1.742200e+09\n",
      "Mini           1.427632e+09\n",
      "BMW            1.415890e+09\n",
      "Audi           1.258419e+09\n",
      "Other          1.091310e+09\n",
      "Subaru         9.207143e+08\n",
      "Volkswagen     8.474800e+08\n",
      "Peugeot        8.188621e+08\n",
      "Toyota         7.597510e+08\n",
      "Ford           6.421570e+08\n",
      "VinFast        5.650631e+08\n",
      "Mazda          5.529249e+08\n",
      "Hyundai        5.382045e+08\n",
      "Honda          5.294520e+08\n",
      "Baic           5.210000e+08\n",
      "MG             5.098780e+08\n",
      "Mitsubishi     5.069020e+08\n",
      "Kia            4.845394e+08\n",
      "Nissan         4.504627e+08\n",
      "Isuzu          4.026667e+08\n",
      "Suzuki         3.871135e+08\n",
      "Chevrolet      3.729601e+08\n",
      "Renault        3.595000e+08\n",
      "Ssangyong      2.971429e+08\n",
      "Thaco          2.816667e+08\n",
      "Kenbo          1.560000e+08\n",
      "Dongben        1.425000e+08\n",
      "Daihatsu       1.357692e+08\n",
      "Daewoo         1.314697e+08\n",
      "Fiat           1.260000e+08\n",
      "Name: price, dtype: float64\n"
     ]
    }
   ],
   "source": [
    "# in ra tất cả brand\n",
    "# sắp xếp theo thứ tự giảm dần về giá trung bình\n",
    "print(df.groupby('brand')['price'].mean().sort_values(ascending=False))\n"
   ]
  },
  {
   "cell_type": "code",
   "execution_count": 23,
   "metadata": {
    "ExecuteTime": {
     "end_time": "2023-07-08T16:23:21.197391100Z",
     "start_time": "2023-07-08T16:23:21.011023800Z"
    }
   },
   "outputs": [],
   "source": [
    "# def car_band(x):\n",
    "#     if x in ['Land', 'Lamborghini', 'Jaguar', 'BMW', 'Mercedes', 'Porsche','Jeep',\n",
    "#        'Audi', 'Bentley','Mini','LandRover','Lexus','Maserati','Rolls','Ferrari','Aston','Lincoln','Maserati','Cadillac']:\n",
    "#         return 'HIGH END CAR'    \n",
    "#     elif x in ['Ford',\n",
    "#             'Skoda',\n",
    "#          'Mahindra',\n",
    "#             'Force',\n",
    "#        'Mitsubishi',\n",
    "#            'Toyota',\n",
    "#             'ISUZU',\n",
    "#            'Volvo',\n",
    "#           'Isuzu','Other']:\n",
    "#         return 'MIDDLE RANGE CAR'\n",
    "#     else:\n",
    "#         return 'LOW END CAR'\n",
    "# df['brand']=df['brand'].apply(car_band)\n",
    "def car_band(x):\n",
    "    if x in ['Rolls', 'Bentley', 'Ferrari','Lincoln','Porsche','LandRover','Lexus','Jeep','Lamborghini','McLaren','Maserati',]:\n",
    "        return 'LUXURY CAR'\n",
    "    elif x in ['Cadillac', 'Mercedes', 'Audi', 'BMW', 'Volvo','Jaguar','Infiniti','Mini','BMW']:\n",
    "        return 'PREMIUM CAR'\n",
    "    elif x in ['Subaru', 'Mitsubishi', 'Ford', 'Kia','VinFast','Mazda','Honda','Hyundai','Kia','Baic','Toyota','Mazda','Renault','Other','Volkswagen','Peugeot',]:\n",
    "        return 'VOLUME CAR'\n",
    "    else:\n",
    "        return 'LOW-PRICE CAR'\n",
    "# # def car_band(x):\n",
    "# #     if x in ['Rolls', 'Bentley', 'Lincoln', 'Land Rover', 'Porsche', 'Maserati', 'Lexus', 'Jeep', 'Cadillac']:\n",
    "# #         return 'LUXURY CAR'\n",
    "# #     elif x in ['Mini', 'BMW', 'Audi', 'Volvo', 'Mercedes-Benz', 'Infiniti', 'Jaguar','Other']:\n",
    "# #         return 'PREMIUM CAR'\n",
    "# #     elif x in ['Subaru', 'Volkswagen', 'Peugeot', 'Toyota', 'Ford', 'VinFast', 'Mazda', 'Hyundai', 'Honda']:\n",
    "# #         return 'VOLUME CAR'\n",
    "# #     else:\n",
    "# #         return 'LOW-PRICE CAR'\n",
    "# # def car_band(x):\n",
    "# #     if x in ['Rolls', 'Bentley', 'Lincoln', 'LandRover', 'Porsche', 'Maserati', 'Lexus', 'Jeep', 'Cadillac']:\n",
    "# #         return 'LUXURY'\n",
    "# #     elif x in ['Other', 'Volvo', 'Mercedes', 'Infiniti', 'Jaguar', 'Mini', 'BMW', 'Audi']:\n",
    "# #         return 'PREMIUM'\n",
    "# #     elif x in ['Subaru', 'Volkswagen', 'Peugeot', 'Toyota', 'Ford', 'VinFast', 'Mazda', 'Hyundai', 'Honda','MG','Mitsubishi']:\n",
    "# #         return 'VOLUME'\n",
    "# #     else:\n",
    "# #         return 'LOWEND'\n",
    "\n",
    "# df['brand_segment'] = df['brand'].apply(car_band)\n",
    "# df.drop(columns=['brand'], inplace=True)\n",
    "# df['brand_segment'].value_counts()\n"
   ]
  },
  {
   "cell_type": "code",
   "execution_count": 24,
   "metadata": {
    "ExecuteTime": {
     "end_time": "2023-07-08T16:23:21.198373100Z",
     "start_time": "2023-07-08T16:23:21.017600Z"
    }
   },
   "outputs": [
    {
     "data": {
      "text/plain": [
       "car_name          0\n",
       "year              0\n",
       "price             0\n",
       "assemble_place    0\n",
       "series            0\n",
       "driven kms        0\n",
       "num_of_door       0\n",
       "num_of_seat       0\n",
       "engine_type       0\n",
       "transmission      0\n",
       "url               0\n",
       "brand             0\n",
       "model             0\n",
       "dtype: int64"
      ]
     },
     "execution_count": 24,
     "metadata": {},
     "output_type": "execute_result"
    }
   ],
   "source": [
    "df.isna().sum()"
   ]
  },
  {
   "cell_type": "markdown",
   "metadata": {},
   "source": [
    "# Trực quan hóa dữ liệu"
   ]
  },
  {
   "cell_type": "markdown",
   "metadata": {},
   "source": [
    "Tìm hiểu về mối liên hệ giữa giá xe và các thuộc tính khác"
   ]
  },
  {
   "cell_type": "code",
   "execution_count": 25,
   "metadata": {
    "ExecuteTime": {
     "end_time": "2023-07-08T16:23:21.318588700Z",
     "start_time": "2023-07-08T16:23:21.040341900Z"
    }
   },
   "outputs": [],
   "source": [
    "#vẽ price theo brand, series,year\n",
    "# plt.figure(figsize=(20, 10))\n",
    "# sns.barplot(x='brand_segment', y='price', data=df)\n",
    "# plt.title('Price by brand')\n",
    "# plt.xticks(rotation=90)\n",
    "# plt.show()"
   ]
  },
  {
   "cell_type": "code",
   "execution_count": 26,
   "metadata": {
    "ExecuteTime": {
     "end_time": "2023-07-08T16:23:22.515465800Z",
     "start_time": "2023-07-08T16:23:21.052378200Z"
    }
   },
   "outputs": [
    {
     "data": {
      "image/png": "[encoded data removed]",
      "text/plain": [
       "<Figure size 2000x1000 with 1 Axes>"
      ]
     },
     "metadata": {},
     "output_type": "display_data"
    }
   ],
   "source": [
    "plt.figure(figsize=(20, 10))\n",
    "sns.barplot(x='series', y='price', data=df)\n",
    "plt.title('Price by series')\n",
    "plt.xticks(rotation=90)\n",
    "plt.show()"
   ]
  },
  {
   "cell_type": "code",
   "execution_count": 27,
   "metadata": {
    "ExecuteTime": {
     "end_time": "2023-07-08T16:23:24.285554800Z",
     "start_time": "2023-07-08T16:23:22.519413100Z"
    }
   },
   "outputs": [
    {
     "data": {
      "image/png": "[encoded data removed]",
      "text/plain": [
       "<Figure size 2000x1000 with 1 Axes>"
      ]
     },
     "metadata": {},
     "output_type": "display_data"
    }
   ],
   "source": [
    "plt.figure(figsize=(20, 10))\n",
    "#đổi năm sản xuất thành tuổi xe\n",
    "df['year'] = 2023 - df['year']\n",
    "sns.barplot(x='year', y='price', data=df)\n",
    "plt.title('Price by year')\n",
    "plt.xticks(rotation=90)\n",
    "plt.show()"
   ]
  },
  {
   "cell_type": "code",
   "execution_count": 28,
   "metadata": {
    "ExecuteTime": {
     "end_time": "2023-07-08T16:23:24.790575900Z",
     "start_time": "2023-07-08T16:23:24.289496800Z"
    }
   },
   "outputs": [
    {
     "data": {
      "image/png": "[encoded data removed]",
      "text/plain": [
       "<Figure size 2000x1000 with 1 Axes>"
      ]
     },
     "metadata": {},
     "output_type": "display_data"
    }
   ],
   "source": [
    "plt.figure(figsize=(20, 10))\n",
    "sns.barplot(x='engine_type', y='price', data=df)\n",
    "plt.title('Price by engine_type')\n",
    "plt.xticks(rotation=90)\n",
    "plt.show()\n"
   ]
  },
  {
   "cell_type": "code",
   "execution_count": 29,
   "metadata": {
    "ExecuteTime": {
     "end_time": "2023-07-08T16:23:26.054410500Z",
     "start_time": "2023-07-08T16:23:24.795572700Z"
    }
   },
   "outputs": [
    {
     "data": {
      "image/png": "[encoded data removed]",
      "text/plain": [
       "<Figure size 2000x1000 with 2 Axes>"
      ]
     },
     "metadata": {},
     "output_type": "display_data"
    }
   ],
   "source": [
    "plt.figure(figsize=(20, 10))\n",
    "plt.subplot(1, 2, 1)\n",
    "sns.barplot(x='transmission', y='price', data=df)\n",
    "plt.title('Price by transmission')\n",
    "plt.xticks(rotation=90)\n",
    "plt.subplot(1, 2, 2)\n",
    "sns.barplot(x='assemble_place', y='price', data=df)\n",
    "plt.show()"
   ]
  },
  {
   "cell_type": "markdown",
   "metadata": {},
   "source": []
  },
  {
   "cell_type": "code",
   "execution_count": 30,
   "metadata": {
    "ExecuteTime": {
     "end_time": "2023-07-08T16:23:27.557190700Z",
     "start_time": "2023-07-08T16:23:26.047409600Z"
    }
   },
   "outputs": [
    {
     "data": {
      "image/png": "[encoded data removed]",
      "text/plain": [
       "<Figure size 2000x1000 with 2 Axes>"
      ]
     },
     "metadata": {},
     "output_type": "display_data"
    }
   ],
   "source": [
    "plt.figure(figsize=(20, 10))\n",
    "plt.subplot(1, 2, 1)\n",
    "sns.barplot(x='num_of_door', y='price', data=df)\n",
    "plt.title('Price by num_of_door')\n",
    "plt.subplot(1, 2, 2)\n",
    "sns.barplot(x='num_of_seat', y='price', data=df)\n",
    "plt.title('Price by num_of_seat')\n",
    "plt.show()"
   ]
  },
  {
   "cell_type": "markdown",
   "metadata": {},
   "source": [
    "# Tìm hiểu về mối liên hệ giữa các thuộc tính với nhau"
   ]
  },
  {
   "cell_type": "code",
   "execution_count": 31,
   "metadata": {
    "ExecuteTime": {
     "end_time": "2023-07-08T16:23:28.011452700Z",
     "start_time": "2023-07-08T16:23:27.557190700Z"
    }
   },
   "outputs": [
    {
     "data": {
      "image/png": "[encoded data removed]",
      "text/plain": [
       "<Figure size 2000x1000 with 2 Axes>"
      ]
     },
     "metadata": {},
     "output_type": "display_data"
    }
   ],
   "source": [
    "#vẽ biểu đồ nhiệt giữa price và các thuộc tính trừ model\n",
    "plt.figure(figsize=(20, 10))\n",
    "numeric_cols = df.select_dtypes(include=['float64', 'int64'])\n",
    "sns.heatmap(numeric_cols.corr(), annot=True)\n",
    "plt.show()\n",
    "\n"
   ]
  },
  {
   "cell_type": "markdown",
   "metadata": {},
   "source": [
    "# Mã hóa các cột dạng nhãn thành dạng số để có thể sử dụng cho mô hình học máy"
   ]
  },
  {
   "cell_type": "markdown",
   "metadata": {},
   "source": [
    "Cột assemble_place chỉ có 2 giá trị là 'Lắp ráp trong nước' và 'Nhập khẩu', ta sẽ mã hóa thành 0 và 1"
   ]
  },
  {
   "cell_type": "code",
   "execution_count": 32,
   "metadata": {
    "ExecuteTime": {
     "end_time": "2023-07-08T16:23:28.012464200Z",
     "start_time": "2023-07-08T16:23:28.010445800Z"
    }
   },
   "outputs": [],
   "source": [
    "df['assemble_place'] = df['assemble_place'].map({'Lắp ráp trong nước': 0, 'Nhập khẩu': 1})"
   ]
  },
  {
   "cell_type": "markdown",
   "metadata": {},
   "source": [
    "Tương tự cho cột transmission"
   ]
  },
  {
   "cell_type": "code",
   "execution_count": 33,
   "metadata": {
    "ExecuteTime": {
     "end_time": "2023-07-08T16:23:28.058503100Z",
     "start_time": "2023-07-08T16:23:28.012464200Z"
    }
   },
   "outputs": [],
   "source": [
    "df['transmission'] = df['transmission'].map({'Số tay': 0, 'Số tự động': 1})"
   ]
  },
  {
   "cell_type": "code",
   "execution_count": 34,
   "metadata": {
    "ExecuteTime": {
     "end_time": "2023-07-08T16:23:28.318525600Z",
     "start_time": "2023-07-08T16:23:28.058503100Z"
    }
   },
   "outputs": [
    {
     "data": {
      "text/plain": [
       "Index(['car_name', 'year', 'price', 'assemble_place', 'series', 'driven kms',\n",
       "       'num_of_door', 'num_of_seat', 'engine_type', 'transmission', 'url',\n",
       "       'brand', 'model'],\n",
       "      dtype='object')"
      ]
     },
     "execution_count": 34,
     "metadata": {},
     "output_type": "execute_result"
    }
   ],
   "source": [
    "df.columns"
   ]
  },
  {
   "cell_type": "code",
   "execution_count": 35,
   "metadata": {
    "ExecuteTime": {
     "end_time": "2023-07-08T16:23:28.319529800Z",
     "start_time": "2023-07-08T16:23:28.059505Z"
    }
   },
   "outputs": [
    {
     "data": {
      "text/plain": [
       "assemble_place\n",
       "0    14551\n",
       "1    10263\n",
       "Name: count, dtype: int64"
      ]
     },
     "execution_count": 35,
     "metadata": {},
     "output_type": "execute_result"
    }
   ],
   "source": [
    "df['assemble_place'].value_counts()"
   ]
  },
  {
   "cell_type": "markdown",
   "metadata": {},
   "source": [
    "Cột brand sẽ được mã hóa bằng phương pháp One-hot encoding"
   ]
  },
  {
   "cell_type": "code",
   "execution_count": 36,
   "metadata": {
    "ExecuteTime": {
     "end_time": "2023-07-08T16:23:28.319529800Z",
     "start_time": "2023-07-08T16:23:28.060504400Z"
    }
   },
   "outputs": [
    {
     "data": {
      "text/html": [
       "<style>#sk-container-id-1 {color: black;background-color: white;}#sk-container-id-1 pre{padding: 0;}#sk-container-id-1 div.sk-toggleable {background-color: white;}#sk-container-id-1 label.sk-toggleable__label {cursor: pointer;display: block;width: 100%;margin-bottom: 0;padding: 0.3em;box-sizing: border-box;text-align: center;}#sk-container-id-1 label.sk-toggleable__label-arrow:before {content: \"▸\";float: left;margin-right: 0.25em;color: #696969;}#sk-container-id-1 label.sk-toggleable__label-arrow:hover:before {color: black;}#sk-container-id-1 div.sk-estimator:hover label.sk-toggleable__label-arrow:before {color: black;}#sk-container-id-1 div.sk-toggleable__content {max-height: 0;max-width: 0;overflow: hidden;text-align: left;background-color: #f0f8ff;}#sk-container-id-1 div.sk-toggleable__content pre {margin: 0.2em;color: black;border-radius: 0.25em;background-color: #f0f8ff;}#sk-container-id-1 input.sk-toggleable__control:checked~div.sk-toggleable__content {max-height: 200px;max-width: 100%;overflow: auto;}#sk-container-id-1 input.sk-toggleable__control:checked~label.sk-toggleable__label-arrow:before {content: \"▾\";}#sk-container-id-1 div.sk-estimator input.sk-toggleable__control:checked~label.sk-toggleable__label {background-color: #d4ebff;}#sk-container-id-1 div.sk-label input.sk-toggleable__control:checked~label.sk-toggleable__label {background-color: #d4ebff;}#sk-container-id-1 input.sk-hidden--visually {border: 0;clip: rect(1px 1px 1px 1px);clip: rect(1px, 1px, 1px, 1px);height: 1px;margin: -1px;overflow: hidden;padding: 0;position: absolute;width: 1px;}#sk-container-id-1 div.sk-estimator {font-family: monospace;background-color: #f0f8ff;border: 1px dotted black;border-radius: 0.25em;box-sizing: border-box;margin-bottom: 0.5em;}#sk-container-id-1 div.sk-estimator:hover {background-color: #d4ebff;}#sk-container-id-1 div.sk-parallel-item::after {content: \"\";width: 100%;border-bottom: 1px solid gray;flex-grow: 1;}#sk-container-id-1 div.sk-label:hover label.sk-toggleable__label {background-color: #d4ebff;}#sk-container-id-1 div.sk-serial::before {content: \"\";position: absolute;border-left: 1px solid gray;box-sizing: border-box;top: 0;bottom: 0;left: 50%;z-index: 0;}#sk-container-id-1 div.sk-serial {display: flex;flex-direction: column;align-items: center;background-color: white;padding-right: 0.2em;padding-left: 0.2em;position: relative;}#sk-container-id-1 div.sk-item {position: relative;z-index: 1;}#sk-container-id-1 div.sk-parallel {display: flex;align-items: stretch;justify-content: center;background-color: white;position: relative;}#sk-container-id-1 div.sk-item::before, #sk-container-id-1 div.sk-parallel-item::before {content: \"\";position: absolute;border-left: 1px solid gray;box-sizing: border-box;top: 0;bottom: 0;left: 50%;z-index: -1;}#sk-container-id-1 div.sk-parallel-item {display: flex;flex-direction: column;z-index: 1;position: relative;background-color: white;}#sk-container-id-1 div.sk-parallel-item:first-child::after {align-self: flex-end;width: 50%;}#sk-container-id-1 div.sk-parallel-item:last-child::after {align-self: flex-start;width: 50%;}#sk-container-id-1 div.sk-parallel-item:only-child::after {width: 0;}#sk-container-id-1 div.sk-dashed-wrapped {border: 1px dashed gray;margin: 0 0.4em 0.5em 0.4em;box-sizing: border-box;padding-bottom: 0.4em;background-color: white;}#sk-container-id-1 div.sk-label label {font-family: monospace;font-weight: bold;display: inline-block;line-height: 1.2em;}#sk-container-id-1 div.sk-label-container {text-align: center;}#sk-container-id-1 div.sk-container {/* jupyter's `normalize.less` sets `[hidden] { display: none; }` but bootstrap.min.css set `[hidden] { display: none !important; }` so we also need the `!important` here to be able to override the default hidden behavior on the sphinx rendered scikit-learn.org. See: https://github.com/scikit-learn/scikit-learn/issues/21755 */display: inline-block !important;position: relative;}#sk-container-id-1 div.sk-text-repr-fallback {display: none;}</style><div id=\"sk-container-id-1\" class=\"sk-top-container\"><div class=\"sk-text-repr-fallback\"><pre>OneHotEncoder()</pre><b>In a Jupyter environment, please rerun this cell to show the HTML representation or trust the notebook. <br />On GitHub, the HTML representation is unable to render, please try loading this page with nbviewer.org.</b></div><div class=\"sk-container\" hidden><div class=\"sk-item\"><div class=\"sk-estimator sk-toggleable\"><input class=\"sk-toggleable__control sk-hidden--visually\" id=\"sk-estimator-id-1\" type=\"checkbox\" checked><label for=\"sk-estimator-id-1\" class=\"sk-toggleable__label sk-toggleable__label-arrow\">OneHotEncoder</label><div class=\"sk-toggleable__content\"><pre>OneHotEncoder()</pre></div></div></div></div></div>"
      ],
      "text/plain": [
       "OneHotEncoder()"
      ]
     },
     "execution_count": 36,
     "metadata": {},
     "output_type": "execute_result"
    }
   ],
   "source": [
    "one_hot = OneHotEncoder()\n",
    "# one_hot.fit(df[['engine_type','series','model','brand_segment']])\n",
    "one_hot.fit(df[['engine_type','series','model','brand']])\n"
   ]
  },
  {
   "cell_type": "markdown",
   "metadata": {},
   "source": []
  },
  {
   "cell_type": "code",
   "execution_count": 37,
   "metadata": {
    "ExecuteTime": {
     "end_time": "2023-07-08T16:23:28.320527Z",
     "start_time": "2023-07-08T16:23:28.071987300Z"
    }
   },
   "outputs": [],
   "source": [
    "column_trans=make_column_transformer((OneHotEncoder(categories=one_hot.categories_),['engine_type','series','model','brand']),\n",
    "                                    remainder='passthrough')"
   ]
  },
  {
   "cell_type": "markdown",
   "metadata": {},
   "source": [
    "# Sử dụng Standardization để chuẩn hóa dữ liệu"
   ]
  },
  {
   "cell_type": "code",
   "execution_count": 38,
   "metadata": {
    "ExecuteTime": {
     "end_time": "2023-07-08T16:23:28.320527Z",
     "start_time": "2023-07-08T16:23:28.081530200Z"
    }
   },
   "outputs": [],
   "source": [
    "scaler = StandardScaler()\n",
    "#fit year và driven kms\n",
    "scaler.fit(df[['driven kms','num_of_seat']])\n",
    "df[['driven kms','num_of_seat']] = scaler.transform(df[['driven kms','num_of_seat']])"
   ]
  },
  {
   "cell_type": "code",
   "execution_count": 39,
   "metadata": {
    "ExecuteTime": {
     "end_time": "2023-07-08T16:23:28.320527Z",
     "start_time": "2023-07-08T16:23:28.110071400Z"
    }
   },
   "outputs": [
    {
     "data": {
      "text/html": [
       "<div>\n",
       "<style scoped>\n",
       "    .dataframe tbody tr th:only-of-type {\n",
       "        vertical-align: middle;\n",
       "    }\n",
       "\n",
       "    .dataframe tbody tr th {\n",
       "        vertical-align: top;\n",
       "    }\n",
       "\n",
       "    .dataframe thead th {\n",
       "        text-align: right;\n",
       "    }\n",
       "</style>\n",
       "<table border=\"1\" class=\"dataframe\">\n",
       "  <thead>\n",
       "    <tr style=\"text-align: right;\">\n",
       "      <th></th>\n",
       "      <th>car_name</th>\n",
       "      <th>year</th>\n",
       "      <th>price</th>\n",
       "      <th>assemble_place</th>\n",
       "      <th>series</th>\n",
       "      <th>driven kms</th>\n",
       "      <th>num_of_door</th>\n",
       "      <th>num_of_seat</th>\n",
       "      <th>engine_type</th>\n",
       "      <th>transmission</th>\n",
       "      <th>url</th>\n",
       "      <th>brand</th>\n",
       "      <th>model</th>\n",
       "    </tr>\n",
       "  </thead>\n",
       "  <tbody>\n",
       "    <tr>\n",
       "      <th>0</th>\n",
       "      <td>LandRover Range Rover HSE 3.0</td>\n",
       "      <td>8.0</td>\n",
       "      <td>2.700000e+09</td>\n",
       "      <td>1</td>\n",
       "      <td>SUV</td>\n",
       "      <td>-0.013821</td>\n",
       "      <td>5.0</td>\n",
       "      <td>-0.316709</td>\n",
       "      <td>Xăng</td>\n",
       "      <td>1.0</td>\n",
       "      <td>https://bonbanh.com/xe-landrover-range_rover-h...</td>\n",
       "      <td>LandRover</td>\n",
       "      <td>Range Rover HSE</td>\n",
       "    </tr>\n",
       "    <tr>\n",
       "      <th>1</th>\n",
       "      <td>Mitsubishi Outlander 2.0 CVT Premium</td>\n",
       "      <td>5.0</td>\n",
       "      <td>6.660000e+08</td>\n",
       "      <td>0</td>\n",
       "      <td>SUV</td>\n",
       "      <td>-0.014292</td>\n",
       "      <td>5.0</td>\n",
       "      <td>0.860377</td>\n",
       "      <td>Xăng</td>\n",
       "      <td>1.0</td>\n",
       "      <td>https://bonbanh.com/xe-mitsubishi-outlander-2....</td>\n",
       "      <td>Mitsubishi</td>\n",
       "      <td>Outlander 2.0 CVT</td>\n",
       "    </tr>\n",
       "    <tr>\n",
       "      <th>2</th>\n",
       "      <td>Mazda 3 1.5L Luxury</td>\n",
       "      <td>4.0</td>\n",
       "      <td>4.900000e+08</td>\n",
       "      <td>0</td>\n",
       "      <td>Sedan</td>\n",
       "      <td>-0.014261</td>\n",
       "      <td>4.0</td>\n",
       "      <td>-0.316709</td>\n",
       "      <td>Xăng</td>\n",
       "      <td>1.0</td>\n",
       "      <td>https://bonbanh.com/xe-mazda-3-1.5l-luxury-201...</td>\n",
       "      <td>Mazda</td>\n",
       "      <td>3 1.5L Luxury</td>\n",
       "    </tr>\n",
       "    <tr>\n",
       "      <th>3</th>\n",
       "      <td>Mazda 2 1.5 AT</td>\n",
       "      <td>8.0</td>\n",
       "      <td>3.650000e+08</td>\n",
       "      <td>0</td>\n",
       "      <td>Sedan</td>\n",
       "      <td>-0.014669</td>\n",
       "      <td>4.0</td>\n",
       "      <td>-0.316709</td>\n",
       "      <td>Xăng</td>\n",
       "      <td>1.0</td>\n",
       "      <td>https://bonbanh.com/xe-mazda-2-1.5-at-2015-491...</td>\n",
       "      <td>Mazda</td>\n",
       "      <td>2 1.5 AT</td>\n",
       "    </tr>\n",
       "    <tr>\n",
       "      <th>4</th>\n",
       "      <td>Suzuki Swift GLX 1.2 AT</td>\n",
       "      <td>2.0</td>\n",
       "      <td>5.650000e+08</td>\n",
       "      <td>1</td>\n",
       "      <td>Hatchback</td>\n",
       "      <td>-0.015673</td>\n",
       "      <td>5.0</td>\n",
       "      <td>-0.316709</td>\n",
       "      <td>Xăng</td>\n",
       "      <td>1.0</td>\n",
       "      <td>https://bonbanh.com/xe-suzuki-swift-glx-1.2-at...</td>\n",
       "      <td>Suzuki</td>\n",
       "      <td>Swift GLX 1.2</td>\n",
       "    </tr>\n",
       "  </tbody>\n",
       "</table>\n",
       "</div>"
      ],
      "text/plain": [
       "                                car_name  year         price  assemble_place  \\\n",
       "0          LandRover Range Rover HSE 3.0   8.0  2.700000e+09               1   \n",
       "1   Mitsubishi Outlander 2.0 CVT Premium   5.0  6.660000e+08               0   \n",
       "2                    Mazda 3 1.5L Luxury   4.0  4.900000e+08               0   \n",
       "3                         Mazda 2 1.5 AT   8.0  3.650000e+08               0   \n",
       "4                Suzuki Swift GLX 1.2 AT   2.0  5.650000e+08               1   \n",
       "\n",
       "      series  driven kms  num_of_door  num_of_seat engine_type  transmission  \\\n",
       "0        SUV   -0.013821          5.0    -0.316709        Xăng           1.0   \n",
       "1        SUV   -0.014292          5.0     0.860377        Xăng           1.0   \n",
       "2      Sedan   -0.014261          4.0    -0.316709        Xăng           1.0   \n",
       "3      Sedan   -0.014669          4.0    -0.316709        Xăng           1.0   \n",
       "4  Hatchback   -0.015673          5.0    -0.316709        Xăng           1.0   \n",
       "\n",
       "                                                 url       brand  \\\n",
       "0  https://bonbanh.com/xe-landrover-range_rover-h...   LandRover   \n",
       "1  https://bonbanh.com/xe-mitsubishi-outlander-2....  Mitsubishi   \n",
       "2  https://bonbanh.com/xe-mazda-3-1.5l-luxury-201...       Mazda   \n",
       "3  https://bonbanh.com/xe-mazda-2-1.5-at-2015-491...       Mazda   \n",
       "4  https://bonbanh.com/xe-suzuki-swift-glx-1.2-at...      Suzuki   \n",
       "\n",
       "               model  \n",
       "0    Range Rover HSE  \n",
       "1  Outlander 2.0 CVT  \n",
       "2      3 1.5L Luxury  \n",
       "3           2 1.5 AT  \n",
       "4      Swift GLX 1.2  "
      ]
     },
     "execution_count": 39,
     "metadata": {},
     "output_type": "execute_result"
    }
   ],
   "source": [
    "df.head()"
   ]
  },
  {
   "cell_type": "markdown",
   "metadata": {},
   "source": [
    "# Sử dụng hồi quy tuyến tính để dự đoán giá xe"
   ]
  },
  {
   "cell_type": "code",
   "execution_count": 40,
   "metadata": {
    "ExecuteTime": {
     "end_time": "2023-07-08T16:23:28.320527Z",
     "start_time": "2023-07-08T16:23:28.128858400Z"
    }
   },
   "outputs": [],
   "source": [
    "df.dropna(inplace=True)"
   ]
  },
  {
   "cell_type": "code",
   "execution_count": 41,
   "metadata": {
    "ExecuteTime": {
     "end_time": "2023-07-08T16:23:28.403490100Z",
     "start_time": "2023-07-08T16:23:28.153923500Z"
    }
   },
   "outputs": [],
   "source": [
    "X = df[['engine_type','series','model','brand','year','driven kms','num_of_seat','transmission','assemble_place']]\n",
    "y = df['price']"
   ]
  },
  {
   "cell_type": "code",
   "execution_count": 42,
   "metadata": {
    "ExecuteTime": {
     "end_time": "2023-07-08T16:23:28.403490100Z",
     "start_time": "2023-07-08T16:23:28.163905900Z"
    }
   },
   "outputs": [],
   "source": [
    "X_train,X_test,y_train,y_test=train_test_split(X,y,test_size=0.2,random_state=42)"
   ]
  },
  {
   "cell_type": "code",
   "execution_count": 43,
   "metadata": {
    "ExecuteTime": {
     "end_time": "2023-07-08T16:23:28.403490100Z",
     "start_time": "2023-07-08T16:23:28.213439700Z"
    }
   },
   "outputs": [],
   "source": [
    "lr=LinearRegression()"
   ]
  },
  {
   "cell_type": "code",
   "execution_count": 44,
   "metadata": {
    "ExecuteTime": {
     "end_time": "2023-07-08T16:23:28.404513700Z",
     "start_time": "2023-07-08T16:23:28.218403200Z"
    }
   },
   "outputs": [],
   "source": [
    "pipe=make_pipeline(column_trans,lr)\n"
   ]
  },
  {
   "cell_type": "code",
   "execution_count": 45,
   "metadata": {
    "ExecuteTime": {
     "end_time": "2023-07-08T16:23:29.504038500Z",
     "start_time": "2023-07-08T16:23:28.225504900Z"
    }
   },
   "outputs": [
    {
     "data": {
      "text/html": [
       "<style>#sk-container-id-2 {color: black;background-color: white;}#sk-container-id-2 pre{padding: 0;}#sk-container-id-2 div.sk-toggleable {background-color: white;}#sk-container-id-2 label.sk-toggleable__label {cursor: pointer;display: block;width: 100%;margin-bottom: 0;padding: 0.3em;box-sizing: border-box;text-align: center;}#sk-container-id-2 label.sk-toggleable__label-arrow:before {content: \"▸\";float: left;margin-right: 0.25em;color: #696969;}#sk-container-id-2 label.sk-toggleable__label-arrow:hover:before {color: black;}#sk-container-id-2 div.sk-estimator:hover label.sk-toggleable__label-arrow:before {color: black;}#sk-container-id-2 div.sk-toggleable__content {max-height: 0;max-width: 0;overflow: hidden;text-align: left;background-color: #f0f8ff;}#sk-container-id-2 div.sk-toggleable__content pre {margin: 0.2em;color: black;border-radius: 0.25em;background-color: #f0f8ff;}#sk-container-id-2 input.sk-toggleable__control:checked~div.sk-toggleable__content {max-height: 200px;max-width: 100%;overflow: auto;}#sk-container-id-2 input.sk-toggleable__control:checked~label.sk-toggleable__label-arrow:before {content: \"▾\";}#sk-container-id-2 div.sk-estimator input.sk-toggleable__control:checked~label.sk-toggleable__label {background-color: #d4ebff;}#sk-container-id-2 div.sk-label input.sk-toggleable__control:checked~label.sk-toggleable__label {background-color: #d4ebff;}#sk-container-id-2 input.sk-hidden--visually {border: 0;clip: rect(1px 1px 1px 1px);clip: rect(1px, 1px, 1px, 1px);height: 1px;margin: -1px;overflow: hidden;padding: 0;position: absolute;width: 1px;}#sk-container-id-2 div.sk-estimator {font-family: monospace;background-color: #f0f8ff;border: 1px dotted black;border-radius: 0.25em;box-sizing: border-box;margin-bottom: 0.5em;}#sk-container-id-2 div.sk-estimator:hover {background-color: #d4ebff;}#sk-container-id-2 div.sk-parallel-item::after {content: \"\";width: 100%;border-bottom: 1px solid gray;flex-grow: 1;}#sk-container-id-2 div.sk-label:hover label.sk-toggleable__label {background-color: #d4ebff;}#sk-container-id-2 div.sk-serial::before {content: \"\";position: absolute;border-left: 1px solid gray;box-sizing: border-box;top: 0;bottom: 0;left: 50%;z-index: 0;}#sk-container-id-2 div.sk-serial {display: flex;flex-direction: column;align-items: center;background-color: white;padding-right: 0.2em;padding-left: 0.2em;position: relative;}#sk-container-id-2 div.sk-item {position: relative;z-index: 1;}#sk-container-id-2 div.sk-parallel {display: flex;align-items: stretch;justify-content: center;background-color: white;position: relative;}#sk-container-id-2 div.sk-item::before, #sk-container-id-2 div.sk-parallel-item::before {content: \"\";position: absolute;border-left: 1px solid gray;box-sizing: border-box;top: 0;bottom: 0;left: 50%;z-index: -1;}#sk-container-id-2 div.sk-parallel-item {display: flex;flex-direction: column;z-index: 1;position: relative;background-color: white;}#sk-container-id-2 div.sk-parallel-item:first-child::after {align-self: flex-end;width: 50%;}#sk-container-id-2 div.sk-parallel-item:last-child::after {align-self: flex-start;width: 50%;}#sk-container-id-2 div.sk-parallel-item:only-child::after {width: 0;}#sk-container-id-2 div.sk-dashed-wrapped {border: 1px dashed gray;margin: 0 0.4em 0.5em 0.4em;box-sizing: border-box;padding-bottom: 0.4em;background-color: white;}#sk-container-id-2 div.sk-label label {font-family: monospace;font-weight: bold;display: inline-block;line-height: 1.2em;}#sk-container-id-2 div.sk-label-container {text-align: center;}#sk-container-id-2 div.sk-container {/* jupyter's `normalize.less` sets `[hidden] { display: none; }` but bootstrap.min.css set `[hidden] { display: none !important; }` so we also need the `!important` here to be able to override the default hidden behavior on the sphinx rendered scikit-learn.org. See: https://github.com/scikit-learn/scikit-learn/issues/21755 */display: inline-block !important;position: relative;}#sk-container-id-2 div.sk-text-repr-fallback {display: none;}</style><div id=\"sk-container-id-2\" class=\"sk-top-container\"><div class=\"sk-text-repr-fallback\"><pre>Pipeline(steps=[(&#x27;columntransformer&#x27;,\n",
       "                 ColumnTransformer(remainder=&#x27;passthrough&#x27;,\n",
       "                                   transformers=[(&#x27;onehotencoder&#x27;,\n",
       "                                                  OneHotEncoder(categories=[array([&#x27;-&#x27;, &#x27;Dầu&#x27;, &#x27;Hybrid&#x27;, &#x27;Xăng&#x27;, &#x27;Điện&#x27;], dtype=object),\n",
       "                                                                            array([&#x27;Bán tải / Pickup&#x27;, &#x27;Convertible/Cabriolet&#x27;, &#x27;Coupe&#x27;,\n",
       "       &#x27;Crossover&#x27;, &#x27;Hatchback&#x27;, &#x27;SUV&#x27;, &#x27;Sedan&#x27;, &#x27;Truck&#x27;, &#x27;Van/Minivan&#x27;,\n",
       "       &#x27;Wagon&#x27;], dtype=object),\n",
       "                                                                            array([&#x27;&#x27;, &#x27;2 1.5 AT&#x27;,...\n",
       "       &#x27;Hyundai&#x27;, &#x27;Infiniti&#x27;, &#x27;Isuzu&#x27;, &#x27;Jaguar&#x27;, &#x27;Jeep&#x27;, &#x27;Kenbo&#x27;, &#x27;Kia&#x27;,\n",
       "       &#x27;Lamborghini&#x27;, &#x27;LandRover&#x27;, &#x27;Lexus&#x27;, &#x27;Lincoln&#x27;, &#x27;MG&#x27;, &#x27;Maserati&#x27;,\n",
       "       &#x27;Mazda&#x27;, &#x27;McLaren&#x27;, &#x27;Mercedes&#x27;, &#x27;Mini&#x27;, &#x27;Mitsubishi&#x27;, &#x27;Nissan&#x27;,\n",
       "       &#x27;Other&#x27;, &#x27;Peugeot&#x27;, &#x27;Porsche&#x27;, &#x27;Renault&#x27;, &#x27;Rolls&#x27;, &#x27;Ssangyong&#x27;,\n",
       "       &#x27;Subaru&#x27;, &#x27;Suzuki&#x27;, &#x27;Thaco&#x27;, &#x27;Toyota&#x27;, &#x27;VinFast&#x27;, &#x27;Volkswagen&#x27;,\n",
       "       &#x27;Volvo&#x27;], dtype=object)]),\n",
       "                                                  [&#x27;engine_type&#x27;, &#x27;series&#x27;,\n",
       "                                                   &#x27;model&#x27;, &#x27;brand&#x27;])])),\n",
       "                (&#x27;linearregression&#x27;, LinearRegression())])</pre><b>In a Jupyter environment, please rerun this cell to show the HTML representation or trust the notebook. <br />On GitHub, the HTML representation is unable to render, please try loading this page with nbviewer.org.</b></div><div class=\"sk-container\" hidden><div class=\"sk-item sk-dashed-wrapped\"><div class=\"sk-label-container\"><div class=\"sk-label sk-toggleable\"><input class=\"sk-toggleable__control sk-hidden--visually\" id=\"sk-estimator-id-2\" type=\"checkbox\" ><label for=\"sk-estimator-id-2\" class=\"sk-toggleable__label sk-toggleable__label-arrow\">Pipeline</label><div class=\"sk-toggleable__content\"><pre>Pipeline(steps=[(&#x27;columntransformer&#x27;,\n",
       "                 ColumnTransformer(remainder=&#x27;passthrough&#x27;,\n",
       "                                   transformers=[(&#x27;onehotencoder&#x27;,\n",
       "                                                  OneHotEncoder(categories=[array([&#x27;-&#x27;, &#x27;Dầu&#x27;, &#x27;Hybrid&#x27;, &#x27;Xăng&#x27;, &#x27;Điện&#x27;], dtype=object),\n",
       "                                                                            array([&#x27;Bán tải / Pickup&#x27;, &#x27;Convertible/Cabriolet&#x27;, &#x27;Coupe&#x27;,\n",
       "       &#x27;Crossover&#x27;, &#x27;Hatchback&#x27;, &#x27;SUV&#x27;, &#x27;Sedan&#x27;, &#x27;Truck&#x27;, &#x27;Van/Minivan&#x27;,\n",
       "       &#x27;Wagon&#x27;], dtype=object),\n",
       "                                                                            array([&#x27;&#x27;, &#x27;2 1.5 AT&#x27;,...\n",
       "       &#x27;Hyundai&#x27;, &#x27;Infiniti&#x27;, &#x27;Isuzu&#x27;, &#x27;Jaguar&#x27;, &#x27;Jeep&#x27;, &#x27;Kenbo&#x27;, &#x27;Kia&#x27;,\n",
       "       &#x27;Lamborghini&#x27;, &#x27;LandRover&#x27;, &#x27;Lexus&#x27;, &#x27;Lincoln&#x27;, &#x27;MG&#x27;, &#x27;Maserati&#x27;,\n",
       "       &#x27;Mazda&#x27;, &#x27;McLaren&#x27;, &#x27;Mercedes&#x27;, &#x27;Mini&#x27;, &#x27;Mitsubishi&#x27;, &#x27;Nissan&#x27;,\n",
       "       &#x27;Other&#x27;, &#x27;Peugeot&#x27;, &#x27;Porsche&#x27;, &#x27;Renault&#x27;, &#x27;Rolls&#x27;, &#x27;Ssangyong&#x27;,\n",
       "       &#x27;Subaru&#x27;, &#x27;Suzuki&#x27;, &#x27;Thaco&#x27;, &#x27;Toyota&#x27;, &#x27;VinFast&#x27;, &#x27;Volkswagen&#x27;,\n",
       "       &#x27;Volvo&#x27;], dtype=object)]),\n",
       "                                                  [&#x27;engine_type&#x27;, &#x27;series&#x27;,\n",
       "                                                   &#x27;model&#x27;, &#x27;brand&#x27;])])),\n",
       "                (&#x27;linearregression&#x27;, LinearRegression())])</pre></div></div></div><div class=\"sk-serial\"><div class=\"sk-item sk-dashed-wrapped\"><div class=\"sk-label-container\"><div class=\"sk-label sk-toggleable\"><input class=\"sk-toggleable__control sk-hidden--visually\" id=\"sk-estimator-id-3\" type=\"checkbox\" ><label for=\"sk-estimator-id-3\" class=\"sk-toggleable__label sk-toggleable__label-arrow\">columntransformer: ColumnTransformer</label><div class=\"sk-toggleable__content\"><pre>ColumnTransformer(remainder=&#x27;passthrough&#x27;,\n",
       "                  transformers=[(&#x27;onehotencoder&#x27;,\n",
       "                                 OneHotEncoder(categories=[array([&#x27;-&#x27;, &#x27;Dầu&#x27;, &#x27;Hybrid&#x27;, &#x27;Xăng&#x27;, &#x27;Điện&#x27;], dtype=object),\n",
       "                                                           array([&#x27;Bán tải / Pickup&#x27;, &#x27;Convertible/Cabriolet&#x27;, &#x27;Coupe&#x27;,\n",
       "       &#x27;Crossover&#x27;, &#x27;Hatchback&#x27;, &#x27;SUV&#x27;, &#x27;Sedan&#x27;, &#x27;Truck&#x27;, &#x27;Van/Minivan&#x27;,\n",
       "       &#x27;Wagon&#x27;], dtype=object),\n",
       "                                                           array([&#x27;&#x27;, &#x27;2 1.5 AT&#x27;, &#x27;2 Deluxe&#x27;, &#x27;2 Luxury&#x27;, &#x27;2 S&#x27;, &#x27;2 Sport Luxur...\n",
       "       &#x27;Hyundai&#x27;, &#x27;Infiniti&#x27;, &#x27;Isuzu&#x27;, &#x27;Jaguar&#x27;, &#x27;Jeep&#x27;, &#x27;Kenbo&#x27;, &#x27;Kia&#x27;,\n",
       "       &#x27;Lamborghini&#x27;, &#x27;LandRover&#x27;, &#x27;Lexus&#x27;, &#x27;Lincoln&#x27;, &#x27;MG&#x27;, &#x27;Maserati&#x27;,\n",
       "       &#x27;Mazda&#x27;, &#x27;McLaren&#x27;, &#x27;Mercedes&#x27;, &#x27;Mini&#x27;, &#x27;Mitsubishi&#x27;, &#x27;Nissan&#x27;,\n",
       "       &#x27;Other&#x27;, &#x27;Peugeot&#x27;, &#x27;Porsche&#x27;, &#x27;Renault&#x27;, &#x27;Rolls&#x27;, &#x27;Ssangyong&#x27;,\n",
       "       &#x27;Subaru&#x27;, &#x27;Suzuki&#x27;, &#x27;Thaco&#x27;, &#x27;Toyota&#x27;, &#x27;VinFast&#x27;, &#x27;Volkswagen&#x27;,\n",
       "       &#x27;Volvo&#x27;], dtype=object)]),\n",
       "                                 [&#x27;engine_type&#x27;, &#x27;series&#x27;, &#x27;model&#x27;, &#x27;brand&#x27;])])</pre></div></div></div><div class=\"sk-parallel\"><div class=\"sk-parallel-item\"><div class=\"sk-item\"><div class=\"sk-label-container\"><div class=\"sk-label sk-toggleable\"><input class=\"sk-toggleable__control sk-hidden--visually\" id=\"sk-estimator-id-4\" type=\"checkbox\" ><label for=\"sk-estimator-id-4\" class=\"sk-toggleable__label sk-toggleable__label-arrow\">onehotencoder</label><div class=\"sk-toggleable__content\"><pre>[&#x27;engine_type&#x27;, &#x27;series&#x27;, &#x27;model&#x27;, &#x27;brand&#x27;]</pre></div></div></div><div class=\"sk-serial\"><div class=\"sk-item\"><div class=\"sk-estimator sk-toggleable\"><input class=\"sk-toggleable__control sk-hidden--visually\" id=\"sk-estimator-id-5\" type=\"checkbox\" ><label for=\"sk-estimator-id-5\" class=\"sk-toggleable__label sk-toggleable__label-arrow\">OneHotEncoder</label><div class=\"sk-toggleable__content\"><pre>OneHotEncoder(categories=[array([&#x27;-&#x27;, &#x27;Dầu&#x27;, &#x27;Hybrid&#x27;, &#x27;Xăng&#x27;, &#x27;Điện&#x27;], dtype=object),\n",
       "                          array([&#x27;Bán tải / Pickup&#x27;, &#x27;Convertible/Cabriolet&#x27;, &#x27;Coupe&#x27;,\n",
       "       &#x27;Crossover&#x27;, &#x27;Hatchback&#x27;, &#x27;SUV&#x27;, &#x27;Sedan&#x27;, &#x27;Truck&#x27;, &#x27;Van/Minivan&#x27;,\n",
       "       &#x27;Wagon&#x27;], dtype=object),\n",
       "                          array([&#x27;&#x27;, &#x27;2 1.5 AT&#x27;, &#x27;2 Deluxe&#x27;, &#x27;2 Luxury&#x27;, &#x27;2 S&#x27;, &#x27;2 Sport Luxury&#x27;,\n",
       "       &#x27;2008 Active 1.2&#x27;, &#x27;2008 GT Line&#x27;, &#x27;3 1.5 AT&#x27;, &#x27;3 1.5L Deluxe&#x27;,\n",
       "       &#x27;3 1.5L Luxury&#x27;, &#x27;3 1....\n",
       "       &#x27;Daewoo&#x27;, &#x27;Daihatsu&#x27;, &#x27;Dongben&#x27;, &#x27;Fiat&#x27;, &#x27;Ford&#x27;, &#x27;Honda&#x27;,\n",
       "       &#x27;Hyundai&#x27;, &#x27;Infiniti&#x27;, &#x27;Isuzu&#x27;, &#x27;Jaguar&#x27;, &#x27;Jeep&#x27;, &#x27;Kenbo&#x27;, &#x27;Kia&#x27;,\n",
       "       &#x27;Lamborghini&#x27;, &#x27;LandRover&#x27;, &#x27;Lexus&#x27;, &#x27;Lincoln&#x27;, &#x27;MG&#x27;, &#x27;Maserati&#x27;,\n",
       "       &#x27;Mazda&#x27;, &#x27;McLaren&#x27;, &#x27;Mercedes&#x27;, &#x27;Mini&#x27;, &#x27;Mitsubishi&#x27;, &#x27;Nissan&#x27;,\n",
       "       &#x27;Other&#x27;, &#x27;Peugeot&#x27;, &#x27;Porsche&#x27;, &#x27;Renault&#x27;, &#x27;Rolls&#x27;, &#x27;Ssangyong&#x27;,\n",
       "       &#x27;Subaru&#x27;, &#x27;Suzuki&#x27;, &#x27;Thaco&#x27;, &#x27;Toyota&#x27;, &#x27;VinFast&#x27;, &#x27;Volkswagen&#x27;,\n",
       "       &#x27;Volvo&#x27;], dtype=object)])</pre></div></div></div></div></div></div><div class=\"sk-parallel-item\"><div class=\"sk-item\"><div class=\"sk-label-container\"><div class=\"sk-label sk-toggleable\"><input class=\"sk-toggleable__control sk-hidden--visually\" id=\"sk-estimator-id-6\" type=\"checkbox\" ><label for=\"sk-estimator-id-6\" class=\"sk-toggleable__label sk-toggleable__label-arrow\">remainder</label><div class=\"sk-toggleable__content\"><pre>[&#x27;year&#x27;, &#x27;driven kms&#x27;, &#x27;num_of_seat&#x27;, &#x27;transmission&#x27;, &#x27;assemble_place&#x27;]</pre></div></div></div><div class=\"sk-serial\"><div class=\"sk-item\"><div class=\"sk-estimator sk-toggleable\"><input class=\"sk-toggleable__control sk-hidden--visually\" id=\"sk-estimator-id-7\" type=\"checkbox\" ><label for=\"sk-estimator-id-7\" class=\"sk-toggleable__label sk-toggleable__label-arrow\">passthrough</label><div class=\"sk-toggleable__content\"><pre>passthrough</pre></div></div></div></div></div></div></div></div><div class=\"sk-item\"><div class=\"sk-estimator sk-toggleable\"><input class=\"sk-toggleable__control sk-hidden--visually\" id=\"sk-estimator-id-8\" type=\"checkbox\" ><label for=\"sk-estimator-id-8\" class=\"sk-toggleable__label sk-toggleable__label-arrow\">LinearRegression</label><div class=\"sk-toggleable__content\"><pre>LinearRegression()</pre></div></div></div></div></div></div></div>"
      ],
      "text/plain": [
       "Pipeline(steps=[('columntransformer',\n",
       "                 ColumnTransformer(remainder='passthrough',\n",
       "                                   transformers=[('onehotencoder',\n",
       "                                                  OneHotEncoder(categories=[array(['-', 'Dầu', 'Hybrid', 'Xăng', 'Điện'], dtype=object),\n",
       "                                                                            array(['Bán tải / Pickup', 'Convertible/Cabriolet', 'Coupe',\n",
       "       'Crossover', 'Hatchback', 'SUV', 'Sedan', 'Truck', 'Van/Minivan',\n",
       "       'Wagon'], dtype=object),\n",
       "                                                                            array(['', '2 1.5 AT',...\n",
       "       'Hyundai', 'Infiniti', 'Isuzu', 'Jaguar', 'Jeep', 'Kenbo', 'Kia',\n",
       "       'Lamborghini', 'LandRover', 'Lexus', 'Lincoln', 'MG', 'Maserati',\n",
       "       'Mazda', 'McLaren', 'Mercedes', 'Mini', 'Mitsubishi', 'Nissan',\n",
       "       'Other', 'Peugeot', 'Porsche', 'Renault', 'Rolls', 'Ssangyong',\n",
       "       'Subaru', 'Suzuki', 'Thaco', 'Toyota', 'VinFast', 'Volkswagen',\n",
       "       'Volvo'], dtype=object)]),\n",
       "                                                  ['engine_type', 'series',\n",
       "                                                   'model', 'brand'])])),\n",
       "                ('linearregression', LinearRegression())])"
      ]
     },
     "execution_count": 45,
     "metadata": {},
     "output_type": "execute_result"
    }
   ],
   "source": [
    "pipe.fit(X_train,y_train)"
   ]
  },
  {
   "cell_type": "code",
   "execution_count": 46,
   "metadata": {
    "ExecuteTime": {
     "end_time": "2023-07-08T16:23:29.506570800Z",
     "start_time": "2023-07-08T16:23:29.504038500Z"
    }
   },
   "outputs": [
    {
     "data": {
      "text/plain": [
       "0.8919704267950016"
      ]
     },
     "execution_count": 46,
     "metadata": {},
     "output_type": "execute_result"
    }
   ],
   "source": [
    "y_pred=pipe.predict(X_test)\n",
    "r2_score(y_test,y_pred)"
   ]
  },
  {
   "cell_type": "code",
   "execution_count": 47,
   "metadata": {
    "ExecuteTime": {
     "end_time": "2023-07-08T16:23:29.961742300Z",
     "start_time": "2023-07-08T16:23:29.504038500Z"
    }
   },
   "outputs": [
    {
     "data": {
      "image/png": "[encoded data removed]",
      "text/plain": [
       "<Figure size 2000x1000 with 1 Axes>"
      ]
     },
     "metadata": {},
     "output_type": "display_data"
    }
   ],
   "source": [
    "#vẽ biểu đồ phân bố giá trị thực và giá trị dự đoán\n",
    "plt.figure(figsize=(20, 10))\n",
    "plt.scatter(y_test, y_pred)\n",
    "plt.xlabel('Actual')\n",
    "plt.ylabel('Predicted')\n",
    "plt.show()"
   ]
  },
  {
   "cell_type": "code",
   "execution_count": 48,
   "metadata": {
    "ExecuteTime": {
     "end_time": "2023-07-08T16:23:29.966271400Z",
     "start_time": "2023-07-08T16:23:29.960725700Z"
    }
   },
   "outputs": [
    {
     "data": {
      "text/plain": [
       "array([2.5291882e+08])"
      ]
     },
     "execution_count": 48,
     "metadata": {},
     "output_type": "execute_result"
    }
   ],
   "source": [
    "#predict giá xe cho xe có url là https://bonbanh.com/xe-kia-carens-crdi-2.0-at-2008-5020924\n",
    "car = df[df['url'] == 'https://bonbanh.com/xe-kia-carens-crdi-2.0-at-2008-5020924']\n",
    "pipe.predict(car[['engine_type','series','model','brand','year','driven kms','num_of_seat','transmission','assemble_place']])"
   ]
  },
  {
   "cell_type": "markdown",
   "metadata": {},
   "source": [
    "# Random Forest"
   ]
  },
  {
   "cell_type": "code",
   "execution_count": 49,
   "metadata": {
    "ExecuteTime": {
     "end_time": "2023-07-08T16:23:29.972020100Z",
     "start_time": "2023-07-08T16:23:29.966271400Z"
    }
   },
   "outputs": [],
   "source": [
    "rf=RandomForestRegressor()\n",
    "pipe = make_pipeline(column_trans,rf)"
   ]
  },
  {
   "cell_type": "code",
   "execution_count": 50,
   "metadata": {
    "ExecuteTime": {
     "end_time": "2023-07-08T16:23:29.981194Z",
     "start_time": "2023-07-08T16:23:29.977655600Z"
    }
   },
   "outputs": [],
   "source": [
    "from sklearn.model_selection import KFold, RandomizedSearchCV\n",
    "\n",
    "\"\"\"\n",
    "+ Search over space of hyperparameters to find acceptable ones\n",
    "+ Two search methods implemented by scikit-learn: GridSearch and RandomSearch\n",
    "+ RandomSearch is faster in case we search over large space (too many combinations of hyperparameters)\n",
    "\"\"\"\n",
    "\n",
    "rf_hyperparams = {\n",
    "    'n_estimators': [200, 300, 400, 500],\n",
    "    'max_depth': [None, 10, 50, 90, 110],\n",
    "    'max_features': ['auto', 'sqrt'],\n",
    "    'min_samples_split': [2, 5, 10],\n",
    "    'min_samples_leaf': [1, 2, 4],\n",
    "    'bootstrap': [True, False]\n",
    "}\n",
    "\n",
    "rf_randomized_search = RandomizedSearchCV(\n",
    "    estimator = rf,\n",
    "    param_distributions = rf_hyperparams,\n",
    "    n_iter = 10,\n",
    "    cv=KFold(n_splits=10, shuffle=True, random_state=42),\n",
    "    verbose=2,\n",
    "    random_state=42,\n",
    "    n_jobs = -1\n",
    ")\n",
    "\n"
   ]
  },
  {
   "cell_type": "code",
   "execution_count": 51,
   "metadata": {
    "ExecuteTime": {
     "end_time": "2023-07-08T16:24:28.891245900Z",
     "start_time": "2023-07-08T16:23:29.984179800Z"
    }
   },
   "outputs": [
    {
     "data": {
      "text/html": [
       "<style>#sk-container-id-3 {color: black;background-color: white;}#sk-container-id-3 pre{padding: 0;}#sk-container-id-3 div.sk-toggleable {background-color: white;}#sk-container-id-3 label.sk-toggleable__label {cursor: pointer;display: block;width: 100%;margin-bottom: 0;padding: 0.3em;box-sizing: border-box;text-align: center;}#sk-container-id-3 label.sk-toggleable__label-arrow:before {content: \"▸\";float: left;margin-right: 0.25em;color: #696969;}#sk-container-id-3 label.sk-toggleable__label-arrow:hover:before {color: black;}#sk-container-id-3 div.sk-estimator:hover label.sk-toggleable__label-arrow:before {color: black;}#sk-container-id-3 div.sk-toggleable__content {max-height: 0;max-width: 0;overflow: hidden;text-align: left;background-color: #f0f8ff;}#sk-container-id-3 div.sk-toggleable__content pre {margin: 0.2em;color: black;border-radius: 0.25em;background-color: #f0f8ff;}#sk-container-id-3 input.sk-toggleable__control:checked~div.sk-toggleable__content {max-height: 200px;max-width: 100%;overflow: auto;}#sk-container-id-3 input.sk-toggleable__control:checked~label.sk-toggleable__label-arrow:before {content: \"▾\";}#sk-container-id-3 div.sk-estimator input.sk-toggleable__control:checked~label.sk-toggleable__label {background-color: #d4ebff;}#sk-container-id-3 div.sk-label input.sk-toggleable__control:checked~label.sk-toggleable__label {background-color: #d4ebff;}#sk-container-id-3 input.sk-hidden--visually {border: 0;clip: rect(1px 1px 1px 1px);clip: rect(1px, 1px, 1px, 1px);height: 1px;margin: -1px;overflow: hidden;padding: 0;position: absolute;width: 1px;}#sk-container-id-3 div.sk-estimator {font-family: monospace;background-color: #f0f8ff;border: 1px dotted black;border-radius: 0.25em;box-sizing: border-box;margin-bottom: 0.5em;}#sk-container-id-3 div.sk-estimator:hover {background-color: #d4ebff;}#sk-container-id-3 div.sk-parallel-item::after {content: \"\";width: 100%;border-bottom: 1px solid gray;flex-grow: 1;}#sk-container-id-3 div.sk-label:hover label.sk-toggleable__label {background-color: #d4ebff;}#sk-container-id-3 div.sk-serial::before {content: \"\";position: absolute;border-left: 1px solid gray;box-sizing: border-box;top: 0;bottom: 0;left: 50%;z-index: 0;}#sk-container-id-3 div.sk-serial {display: flex;flex-direction: column;align-items: center;background-color: white;padding-right: 0.2em;padding-left: 0.2em;position: relative;}#sk-container-id-3 div.sk-item {position: relative;z-index: 1;}#sk-container-id-3 div.sk-parallel {display: flex;align-items: stretch;justify-content: center;background-color: white;position: relative;}#sk-container-id-3 div.sk-item::before, #sk-container-id-3 div.sk-parallel-item::before {content: \"\";position: absolute;border-left: 1px solid gray;box-sizing: border-box;top: 0;bottom: 0;left: 50%;z-index: -1;}#sk-container-id-3 div.sk-parallel-item {display: flex;flex-direction: column;z-index: 1;position: relative;background-color: white;}#sk-container-id-3 div.sk-parallel-item:first-child::after {align-self: flex-end;width: 50%;}#sk-container-id-3 div.sk-parallel-item:last-child::after {align-self: flex-start;width: 50%;}#sk-container-id-3 div.sk-parallel-item:only-child::after {width: 0;}#sk-container-id-3 div.sk-dashed-wrapped {border: 1px dashed gray;margin: 0 0.4em 0.5em 0.4em;box-sizing: border-box;padding-bottom: 0.4em;background-color: white;}#sk-container-id-3 div.sk-label label {font-family: monospace;font-weight: bold;display: inline-block;line-height: 1.2em;}#sk-container-id-3 div.sk-label-container {text-align: center;}#sk-container-id-3 div.sk-container {/* jupyter's `normalize.less` sets `[hidden] { display: none; }` but bootstrap.min.css set `[hidden] { display: none !important; }` so we also need the `!important` here to be able to override the default hidden behavior on the sphinx rendered scikit-learn.org. See: https://github.com/scikit-learn/scikit-learn/issues/21755 */display: inline-block !important;position: relative;}#sk-container-id-3 div.sk-text-repr-fallback {display: none;}</style><div id=\"sk-container-id-3\" class=\"sk-top-container\"><div class=\"sk-text-repr-fallback\"><pre>Pipeline(steps=[(&#x27;columntransformer&#x27;,\n",
       "                 ColumnTransformer(remainder=&#x27;passthrough&#x27;,\n",
       "                                   transformers=[(&#x27;onehotencoder&#x27;,\n",
       "                                                  OneHotEncoder(categories=[array([&#x27;-&#x27;, &#x27;Dầu&#x27;, &#x27;Hybrid&#x27;, &#x27;Xăng&#x27;, &#x27;Điện&#x27;], dtype=object),\n",
       "                                                                            array([&#x27;Bán tải / Pickup&#x27;, &#x27;Convertible/Cabriolet&#x27;, &#x27;Coupe&#x27;,\n",
       "       &#x27;Crossover&#x27;, &#x27;Hatchback&#x27;, &#x27;SUV&#x27;, &#x27;Sedan&#x27;, &#x27;Truck&#x27;, &#x27;Van/Minivan&#x27;,\n",
       "       &#x27;Wagon&#x27;], dtype=object),\n",
       "                                                                            array([&#x27;&#x27;, &#x27;2 1.5 AT&#x27;,...\n",
       "       &#x27;Lamborghini&#x27;, &#x27;LandRover&#x27;, &#x27;Lexus&#x27;, &#x27;Lincoln&#x27;, &#x27;MG&#x27;, &#x27;Maserati&#x27;,\n",
       "       &#x27;Mazda&#x27;, &#x27;McLaren&#x27;, &#x27;Mercedes&#x27;, &#x27;Mini&#x27;, &#x27;Mitsubishi&#x27;, &#x27;Nissan&#x27;,\n",
       "       &#x27;Other&#x27;, &#x27;Peugeot&#x27;, &#x27;Porsche&#x27;, &#x27;Renault&#x27;, &#x27;Rolls&#x27;, &#x27;Ssangyong&#x27;,\n",
       "       &#x27;Subaru&#x27;, &#x27;Suzuki&#x27;, &#x27;Thaco&#x27;, &#x27;Toyota&#x27;, &#x27;VinFast&#x27;, &#x27;Volkswagen&#x27;,\n",
       "       &#x27;Volvo&#x27;], dtype=object)]),\n",
       "                                                  [&#x27;engine_type&#x27;, &#x27;series&#x27;,\n",
       "                                                   &#x27;model&#x27;, &#x27;brand&#x27;])])),\n",
       "                (&#x27;randomforestregressor&#x27;, RandomForestRegressor())])</pre><b>In a Jupyter environment, please rerun this cell to show the HTML representation or trust the notebook. <br />On GitHub, the HTML representation is unable to render, please try loading this page with nbviewer.org.</b></div><div class=\"sk-container\" hidden><div class=\"sk-item sk-dashed-wrapped\"><div class=\"sk-label-container\"><div class=\"sk-label sk-toggleable\"><input class=\"sk-toggleable__control sk-hidden--visually\" id=\"sk-estimator-id-9\" type=\"checkbox\" ><label for=\"sk-estimator-id-9\" class=\"sk-toggleable__label sk-toggleable__label-arrow\">Pipeline</label><div class=\"sk-toggleable__content\"><pre>Pipeline(steps=[(&#x27;columntransformer&#x27;,\n",
       "                 ColumnTransformer(remainder=&#x27;passthrough&#x27;,\n",
       "                                   transformers=[(&#x27;onehotencoder&#x27;,\n",
       "                                                  OneHotEncoder(categories=[array([&#x27;-&#x27;, &#x27;Dầu&#x27;, &#x27;Hybrid&#x27;, &#x27;Xăng&#x27;, &#x27;Điện&#x27;], dtype=object),\n",
       "                                                                            array([&#x27;Bán tải / Pickup&#x27;, &#x27;Convertible/Cabriolet&#x27;, &#x27;Coupe&#x27;,\n",
       "       &#x27;Crossover&#x27;, &#x27;Hatchback&#x27;, &#x27;SUV&#x27;, &#x27;Sedan&#x27;, &#x27;Truck&#x27;, &#x27;Van/Minivan&#x27;,\n",
       "       &#x27;Wagon&#x27;], dtype=object),\n",
       "                                                                            array([&#x27;&#x27;, &#x27;2 1.5 AT&#x27;,...\n",
       "       &#x27;Lamborghini&#x27;, &#x27;LandRover&#x27;, &#x27;Lexus&#x27;, &#x27;Lincoln&#x27;, &#x27;MG&#x27;, &#x27;Maserati&#x27;,\n",
       "       &#x27;Mazda&#x27;, &#x27;McLaren&#x27;, &#x27;Mercedes&#x27;, &#x27;Mini&#x27;, &#x27;Mitsubishi&#x27;, &#x27;Nissan&#x27;,\n",
       "       &#x27;Other&#x27;, &#x27;Peugeot&#x27;, &#x27;Porsche&#x27;, &#x27;Renault&#x27;, &#x27;Rolls&#x27;, &#x27;Ssangyong&#x27;,\n",
       "       &#x27;Subaru&#x27;, &#x27;Suzuki&#x27;, &#x27;Thaco&#x27;, &#x27;Toyota&#x27;, &#x27;VinFast&#x27;, &#x27;Volkswagen&#x27;,\n",
       "       &#x27;Volvo&#x27;], dtype=object)]),\n",
       "                                                  [&#x27;engine_type&#x27;, &#x27;series&#x27;,\n",
       "                                                   &#x27;model&#x27;, &#x27;brand&#x27;])])),\n",
       "                (&#x27;randomforestregressor&#x27;, RandomForestRegressor())])</pre></div></div></div><div class=\"sk-serial\"><div class=\"sk-item sk-dashed-wrapped\"><div class=\"sk-label-container\"><div class=\"sk-label sk-toggleable\"><input class=\"sk-toggleable__control sk-hidden--visually\" id=\"sk-estimator-id-10\" type=\"checkbox\" ><label for=\"sk-estimator-id-10\" class=\"sk-toggleable__label sk-toggleable__label-arrow\">columntransformer: ColumnTransformer</label><div class=\"sk-toggleable__content\"><pre>ColumnTransformer(remainder=&#x27;passthrough&#x27;,\n",
       "                  transformers=[(&#x27;onehotencoder&#x27;,\n",
       "                                 OneHotEncoder(categories=[array([&#x27;-&#x27;, &#x27;Dầu&#x27;, &#x27;Hybrid&#x27;, &#x27;Xăng&#x27;, &#x27;Điện&#x27;], dtype=object),\n",
       "                                                           array([&#x27;Bán tải / Pickup&#x27;, &#x27;Convertible/Cabriolet&#x27;, &#x27;Coupe&#x27;,\n",
       "       &#x27;Crossover&#x27;, &#x27;Hatchback&#x27;, &#x27;SUV&#x27;, &#x27;Sedan&#x27;, &#x27;Truck&#x27;, &#x27;Van/Minivan&#x27;,\n",
       "       &#x27;Wagon&#x27;], dtype=object),\n",
       "                                                           array([&#x27;&#x27;, &#x27;2 1.5 AT&#x27;, &#x27;2 Deluxe&#x27;, &#x27;2 Luxury&#x27;, &#x27;2 S&#x27;, &#x27;2 Sport Luxur...\n",
       "       &#x27;Hyundai&#x27;, &#x27;Infiniti&#x27;, &#x27;Isuzu&#x27;, &#x27;Jaguar&#x27;, &#x27;Jeep&#x27;, &#x27;Kenbo&#x27;, &#x27;Kia&#x27;,\n",
       "       &#x27;Lamborghini&#x27;, &#x27;LandRover&#x27;, &#x27;Lexus&#x27;, &#x27;Lincoln&#x27;, &#x27;MG&#x27;, &#x27;Maserati&#x27;,\n",
       "       &#x27;Mazda&#x27;, &#x27;McLaren&#x27;, &#x27;Mercedes&#x27;, &#x27;Mini&#x27;, &#x27;Mitsubishi&#x27;, &#x27;Nissan&#x27;,\n",
       "       &#x27;Other&#x27;, &#x27;Peugeot&#x27;, &#x27;Porsche&#x27;, &#x27;Renault&#x27;, &#x27;Rolls&#x27;, &#x27;Ssangyong&#x27;,\n",
       "       &#x27;Subaru&#x27;, &#x27;Suzuki&#x27;, &#x27;Thaco&#x27;, &#x27;Toyota&#x27;, &#x27;VinFast&#x27;, &#x27;Volkswagen&#x27;,\n",
       "       &#x27;Volvo&#x27;], dtype=object)]),\n",
       "                                 [&#x27;engine_type&#x27;, &#x27;series&#x27;, &#x27;model&#x27;, &#x27;brand&#x27;])])</pre></div></div></div><div class=\"sk-parallel\"><div class=\"sk-parallel-item\"><div class=\"sk-item\"><div class=\"sk-label-container\"><div class=\"sk-label sk-toggleable\"><input class=\"sk-toggleable__control sk-hidden--visually\" id=\"sk-estimator-id-11\" type=\"checkbox\" ><label for=\"sk-estimator-id-11\" class=\"sk-toggleable__label sk-toggleable__label-arrow\">onehotencoder</label><div class=\"sk-toggleable__content\"><pre>[&#x27;engine_type&#x27;, &#x27;series&#x27;, &#x27;model&#x27;, &#x27;brand&#x27;]</pre></div></div></div><div class=\"sk-serial\"><div class=\"sk-item\"><div class=\"sk-estimator sk-toggleable\"><input class=\"sk-toggleable__control sk-hidden--visually\" id=\"sk-estimator-id-12\" type=\"checkbox\" ><label for=\"sk-estimator-id-12\" class=\"sk-toggleable__label sk-toggleable__label-arrow\">OneHotEncoder</label><div class=\"sk-toggleable__content\"><pre>OneHotEncoder(categories=[array([&#x27;-&#x27;, &#x27;Dầu&#x27;, &#x27;Hybrid&#x27;, &#x27;Xăng&#x27;, &#x27;Điện&#x27;], dtype=object),\n",
       "                          array([&#x27;Bán tải / Pickup&#x27;, &#x27;Convertible/Cabriolet&#x27;, &#x27;Coupe&#x27;,\n",
       "       &#x27;Crossover&#x27;, &#x27;Hatchback&#x27;, &#x27;SUV&#x27;, &#x27;Sedan&#x27;, &#x27;Truck&#x27;, &#x27;Van/Minivan&#x27;,\n",
       "       &#x27;Wagon&#x27;], dtype=object),\n",
       "                          array([&#x27;&#x27;, &#x27;2 1.5 AT&#x27;, &#x27;2 Deluxe&#x27;, &#x27;2 Luxury&#x27;, &#x27;2 S&#x27;, &#x27;2 Sport Luxury&#x27;,\n",
       "       &#x27;2008 Active 1.2&#x27;, &#x27;2008 GT Line&#x27;, &#x27;3 1.5 AT&#x27;, &#x27;3 1.5L Deluxe&#x27;,\n",
       "       &#x27;3 1.5L Luxury&#x27;, &#x27;3 1....\n",
       "       &#x27;Daewoo&#x27;, &#x27;Daihatsu&#x27;, &#x27;Dongben&#x27;, &#x27;Fiat&#x27;, &#x27;Ford&#x27;, &#x27;Honda&#x27;,\n",
       "       &#x27;Hyundai&#x27;, &#x27;Infiniti&#x27;, &#x27;Isuzu&#x27;, &#x27;Jaguar&#x27;, &#x27;Jeep&#x27;, &#x27;Kenbo&#x27;, &#x27;Kia&#x27;,\n",
       "       &#x27;Lamborghini&#x27;, &#x27;LandRover&#x27;, &#x27;Lexus&#x27;, &#x27;Lincoln&#x27;, &#x27;MG&#x27;, &#x27;Maserati&#x27;,\n",
       "       &#x27;Mazda&#x27;, &#x27;McLaren&#x27;, &#x27;Mercedes&#x27;, &#x27;Mini&#x27;, &#x27;Mitsubishi&#x27;, &#x27;Nissan&#x27;,\n",
       "       &#x27;Other&#x27;, &#x27;Peugeot&#x27;, &#x27;Porsche&#x27;, &#x27;Renault&#x27;, &#x27;Rolls&#x27;, &#x27;Ssangyong&#x27;,\n",
       "       &#x27;Subaru&#x27;, &#x27;Suzuki&#x27;, &#x27;Thaco&#x27;, &#x27;Toyota&#x27;, &#x27;VinFast&#x27;, &#x27;Volkswagen&#x27;,\n",
       "       &#x27;Volvo&#x27;], dtype=object)])</pre></div></div></div></div></div></div><div class=\"sk-parallel-item\"><div class=\"sk-item\"><div class=\"sk-label-container\"><div class=\"sk-label sk-toggleable\"><input class=\"sk-toggleable__control sk-hidden--visually\" id=\"sk-estimator-id-13\" type=\"checkbox\" ><label for=\"sk-estimator-id-13\" class=\"sk-toggleable__label sk-toggleable__label-arrow\">remainder</label><div class=\"sk-toggleable__content\"><pre>[&#x27;year&#x27;, &#x27;driven kms&#x27;, &#x27;num_of_seat&#x27;, &#x27;transmission&#x27;, &#x27;assemble_place&#x27;]</pre></div></div></div><div class=\"sk-serial\"><div class=\"sk-item\"><div class=\"sk-estimator sk-toggleable\"><input class=\"sk-toggleable__control sk-hidden--visually\" id=\"sk-estimator-id-14\" type=\"checkbox\" ><label for=\"sk-estimator-id-14\" class=\"sk-toggleable__label sk-toggleable__label-arrow\">passthrough</label><div class=\"sk-toggleable__content\"><pre>passthrough</pre></div></div></div></div></div></div></div></div><div class=\"sk-item\"><div class=\"sk-estimator sk-toggleable\"><input class=\"sk-toggleable__control sk-hidden--visually\" id=\"sk-estimator-id-15\" type=\"checkbox\" ><label for=\"sk-estimator-id-15\" class=\"sk-toggleable__label sk-toggleable__label-arrow\">RandomForestRegressor</label><div class=\"sk-toggleable__content\"><pre>RandomForestRegressor()</pre></div></div></div></div></div></div></div>"
      ],
      "text/plain": [
       "Pipeline(steps=[('columntransformer',\n",
       "                 ColumnTransformer(remainder='passthrough',\n",
       "                                   transformers=[('onehotencoder',\n",
       "                                                  OneHotEncoder(categories=[array(['-', 'Dầu', 'Hybrid', 'Xăng', 'Điện'], dtype=object),\n",
       "                                                                            array(['Bán tải / Pickup', 'Convertible/Cabriolet', 'Coupe',\n",
       "       'Crossover', 'Hatchback', 'SUV', 'Sedan', 'Truck', 'Van/Minivan',\n",
       "       'Wagon'], dtype=object),\n",
       "                                                                            array(['', '2 1.5 AT',...\n",
       "       'Lamborghini', 'LandRover', 'Lexus', 'Lincoln', 'MG', 'Maserati',\n",
       "       'Mazda', 'McLaren', 'Mercedes', 'Mini', 'Mitsubishi', 'Nissan',\n",
       "       'Other', 'Peugeot', 'Porsche', 'Renault', 'Rolls', 'Ssangyong',\n",
       "       'Subaru', 'Suzuki', 'Thaco', 'Toyota', 'VinFast', 'Volkswagen',\n",
       "       'Volvo'], dtype=object)]),\n",
       "                                                  ['engine_type', 'series',\n",
       "                                                   'model', 'brand'])])),\n",
       "                ('randomforestregressor', RandomForestRegressor())])"
      ]
     },
     "execution_count": 51,
     "metadata": {},
     "output_type": "execute_result"
    }
   ],
   "source": [
    "pipe.fit(X_train, y_train)\n"
   ]
  },
  {
   "cell_type": "code",
   "execution_count": 52,
   "metadata": {
    "ExecuteTime": {
     "end_time": "2023-07-08T16:24:29.028559900Z",
     "start_time": "2023-07-08T16:24:28.859537400Z"
    }
   },
   "outputs": [
    {
     "data": {
      "text/plain": [
       "0.970443781126702"
      ]
     },
     "execution_count": 52,
     "metadata": {},
     "output_type": "execute_result"
    }
   ],
   "source": [
    "pipe.score(X_test, y_test)"
   ]
  },
  {
   "cell_type": "code",
   "execution_count": 56,
   "metadata": {
    "ExecuteTime": {
     "end_time": "2023-07-08T16:25:03.693614100Z",
     "start_time": "2023-07-08T16:25:03.415079500Z"
    }
   },
   "outputs": [],
   "source": [
    "pickle.dump(pipe,open('RandomeForestModel.pkl','wb'))"
   ]
  },
  {
   "cell_type": "code",
   "execution_count": 54,
   "metadata": {
    "ExecuteTime": {
     "end_time": "2023-07-08T16:24:29.470662800Z",
     "start_time": "2023-07-08T16:24:29.431113400Z"
    }
   },
   "outputs": [
    {
     "data": {
      "text/plain": [
       "array([2.8883e+08])"
      ]
     },
     "execution_count": 54,
     "metadata": {},
     "output_type": "execute_result"
    }
   ],
   "source": [
    "pipe.predict(car[['engine_type','series','model','brand','year','driven kms','num_of_seat','transmission','assemble_place']])"
   ]
  },
  {
   "cell_type": "code",
   "execution_count": 55,
   "metadata": {
    "ExecuteTime": {
     "end_time": "2023-07-08T16:24:31.263732600Z",
     "start_time": "2023-07-08T16:24:29.469662100Z"
    }
   },
   "outputs": [
    {
     "ename": "ValueError",
     "evalue": "For a sparse output, all columns should be a numeric or convertible to a numeric.",
     "output_type": "error",
     "traceback": [
      "\u001b[1;31m---------------------------------------------------------------------------\u001b[0m",
      "\u001b[1;31mValueError\u001b[0m                                Traceback (most recent call last)",
      "\u001b[1;32mD:\\2022.2\\Old-car-price-prediction\\venv\\Lib\\site-packages\\sklearn\\compose\\_column_transformer.py\u001b[0m in \u001b[0;36m?\u001b[1;34m(self, Xs)\u001b[0m\n\u001b[0;32m    833\u001b[0m                 ]\n\u001b[0;32m    834\u001b[0m             \u001b[1;32mexcept\u001b[0m \u001b[0mValueError\u001b[0m \u001b[1;32mas\u001b[0m \u001b[0me\u001b[0m\u001b[1;33m:\u001b[0m\u001b[1;33m\u001b[0m\u001b[1;33m\u001b[0m\u001b[0m\n\u001b[1;32m--> 835\u001b[1;33m                 raise ValueError(\n\u001b[0m\u001b[0;32m    836\u001b[0m                     \u001b[1;34m\"For a sparse output, all columns should \"\u001b[0m\u001b[1;33m\u001b[0m\u001b[1;33m\u001b[0m\u001b[0m\n",
      "\u001b[1;32mD:\\2022.2\\Old-car-price-prediction\\venv\\Lib\\site-packages\\sklearn\\compose\\_column_transformer.py\u001b[0m in \u001b[0;36m?\u001b[1;34m(.0)\u001b[0m\n\u001b[0;32m    830\u001b[0m     \u001b[1;32mdef\u001b[0m \u001b[0m_hstack\u001b[0m\u001b[1;33m(\u001b[0m\u001b[0mself\u001b[0m\u001b[1;33m,\u001b[0m \u001b[0mXs\u001b[0m\u001b[1;33m)\u001b[0m\u001b[1;33m:\u001b[0m\u001b[1;33m\u001b[0m\u001b[1;33m\u001b[0m\u001b[0m\n\u001b[1;32m--> 831\u001b[1;33m         \"\"\"Stacks Xs horizontally.\n\u001b[0m\u001b[0;32m    832\u001b[0m \u001b[1;33m\u001b[0m\u001b[0m\n",
      "\u001b[1;32mD:\\2022.2\\Old-car-price-prediction\\venv\\Lib\\site-packages\\sklearn\\utils\\validation.py\u001b[0m in \u001b[0;36m?\u001b[1;34m(array, accept_sparse, accept_large_sparse, dtype, order, copy, force_all_finite, ensure_2d, allow_nd, ensure_min_samples, ensure_min_features, estimator, input_name)\u001b[0m\n\u001b[0;32m    878\u001b[0m                 \u001b[1;32melse\u001b[0m\u001b[1;33m:\u001b[0m\u001b[1;33m\u001b[0m\u001b[1;33m\u001b[0m\u001b[0m\n\u001b[0;32m    879\u001b[0m                     \u001b[0marray\u001b[0m \u001b[1;33m=\u001b[0m \u001b[0m_asarray_with_order\u001b[0m\u001b[1;33m(\u001b[0m\u001b[0marray\u001b[0m\u001b[1;33m,\u001b[0m \u001b[0morder\u001b[0m\u001b[1;33m=\u001b[0m\u001b[0morder\u001b[0m\u001b[1;33m,\u001b[0m \u001b[0mdtype\u001b[0m\u001b[1;33m=\u001b[0m\u001b[0mdtype\u001b[0m\u001b[1;33m,\u001b[0m \u001b[0mxp\u001b[0m\u001b[1;33m=\u001b[0m\u001b[0mxp\u001b[0m\u001b[1;33m)\u001b[0m\u001b[1;33m\u001b[0m\u001b[1;33m\u001b[0m\u001b[0m\n\u001b[1;32m--> 880\u001b[1;33m             \u001b[1;32mexcept\u001b[0m \u001b[0mComplexWarning\u001b[0m \u001b[1;32mas\u001b[0m \u001b[0mcomplex_warning\u001b[0m\u001b[1;33m:\u001b[0m\u001b[1;33m\u001b[0m\u001b[1;33m\u001b[0m\u001b[0m\n\u001b[0m\u001b[0;32m    881\u001b[0m                 raise ValueError(\n",
      "\u001b[1;32mD:\\2022.2\\Old-car-price-prediction\\venv\\Lib\\site-packages\\sklearn\\utils\\_array_api.py\u001b[0m in \u001b[0;36m?\u001b[1;34m(array, dtype, order, copy, xp)\u001b[0m\n\u001b[0;32m    183\u001b[0m     \u001b[1;32mif\u001b[0m \u001b[0mxp\u001b[0m\u001b[1;33m.\u001b[0m\u001b[0m__name__\u001b[0m \u001b[1;32min\u001b[0m \u001b[1;33m{\u001b[0m\u001b[1;34m\"numpy\"\u001b[0m\u001b[1;33m,\u001b[0m \u001b[1;34m\"numpy.array_api\"\u001b[0m\u001b[1;33m}\u001b[0m\u001b[1;33m:\u001b[0m\u001b[1;33m\u001b[0m\u001b[1;33m\u001b[0m\u001b[0m\n\u001b[0;32m    184\u001b[0m         \u001b[1;31m# Use NumPy API to support order\u001b[0m\u001b[1;33m\u001b[0m\u001b[1;33m\u001b[0m\u001b[0m\n\u001b[1;32m--> 185\u001b[1;33m         \u001b[0marray\u001b[0m \u001b[1;33m=\u001b[0m \u001b[0mnumpy\u001b[0m\u001b[1;33m.\u001b[0m\u001b[0masarray\u001b[0m\u001b[1;33m(\u001b[0m\u001b[0marray\u001b[0m\u001b[1;33m,\u001b[0m \u001b[0morder\u001b[0m\u001b[1;33m=\u001b[0m\u001b[0morder\u001b[0m\u001b[1;33m,\u001b[0m \u001b[0mdtype\u001b[0m\u001b[1;33m=\u001b[0m\u001b[0mdtype\u001b[0m\u001b[1;33m)\u001b[0m\u001b[1;33m\u001b[0m\u001b[1;33m\u001b[0m\u001b[0m\n\u001b[0m\u001b[0;32m    186\u001b[0m         \u001b[1;32mreturn\u001b[0m \u001b[0mxp\u001b[0m\u001b[1;33m.\u001b[0m\u001b[0masarray\u001b[0m\u001b[1;33m(\u001b[0m\u001b[0marray\u001b[0m\u001b[1;33m,\u001b[0m \u001b[0mcopy\u001b[0m\u001b[1;33m=\u001b[0m\u001b[0mcopy\u001b[0m\u001b[1;33m)\u001b[0m\u001b[1;33m\u001b[0m\u001b[1;33m\u001b[0m\u001b[0m\n",
      "\u001b[1;32mD:\\2022.2\\Old-car-price-prediction\\venv\\Lib\\site-packages\\pandas\\core\\generic.py\u001b[0m in \u001b[0;36m?\u001b[1;34m(self, dtype)\u001b[0m\n\u001b[0;32m   1996\u001b[0m     \u001b[1;32mdef\u001b[0m \u001b[0m__array__\u001b[0m\u001b[1;33m(\u001b[0m\u001b[0mself\u001b[0m\u001b[1;33m,\u001b[0m \u001b[0mdtype\u001b[0m\u001b[1;33m:\u001b[0m \u001b[0mnpt\u001b[0m\u001b[1;33m.\u001b[0m\u001b[0mDTypeLike\u001b[0m \u001b[1;33m|\u001b[0m \u001b[1;32mNone\u001b[0m \u001b[1;33m=\u001b[0m \u001b[1;32mNone\u001b[0m\u001b[1;33m)\u001b[0m \u001b[1;33m->\u001b[0m \u001b[0mnp\u001b[0m\u001b[1;33m.\u001b[0m\u001b[0mndarray\u001b[0m\u001b[1;33m:\u001b[0m\u001b[1;33m\u001b[0m\u001b[1;33m\u001b[0m\u001b[0m\n\u001b[0;32m   1997\u001b[0m         \u001b[0mvalues\u001b[0m \u001b[1;33m=\u001b[0m \u001b[0mself\u001b[0m\u001b[1;33m.\u001b[0m\u001b[0m_values\u001b[0m\u001b[1;33m\u001b[0m\u001b[1;33m\u001b[0m\u001b[0m\n\u001b[1;32m-> 1998\u001b[1;33m         \u001b[0marr\u001b[0m \u001b[1;33m=\u001b[0m \u001b[0mnp\u001b[0m\u001b[1;33m.\u001b[0m\u001b[0masarray\u001b[0m\u001b[1;33m(\u001b[0m\u001b[0mvalues\u001b[0m\u001b[1;33m,\u001b[0m \u001b[0mdtype\u001b[0m\u001b[1;33m=\u001b[0m\u001b[0mdtype\u001b[0m\u001b[1;33m)\u001b[0m\u001b[1;33m\u001b[0m\u001b[1;33m\u001b[0m\u001b[0m\n\u001b[0m\u001b[0;32m   1999\u001b[0m         if (\n",
      "\u001b[1;31mValueError\u001b[0m: could not convert string to float: 'Số tự động'",
      "\nThe above exception was the direct cause of the following exception:\n",
      "\u001b[1;31mValueError\u001b[0m                                Traceback (most recent call last)",
      "Cell \u001b[1;32mIn[55], line 2\u001b[0m\n\u001b[0;32m      1\u001b[0m car \u001b[38;5;241m=\u001b[39m[\u001b[38;5;124m'\u001b[39m\u001b[38;5;124mXăng\u001b[39m\u001b[38;5;124m'\u001b[39m,\u001b[38;5;124m'\u001b[39m\u001b[38;5;124mSUV\u001b[39m\u001b[38;5;124m'\u001b[39m,\u001b[38;5;124m'\u001b[39m\u001b[38;5;124m4 Runner SR5\u001b[39m\u001b[38;5;124m'\u001b[39m,\u001b[38;5;124m'\u001b[39m\u001b[38;5;124mToyota\u001b[39m\u001b[38;5;124m'\u001b[39m,\u001b[38;5;241m2011\u001b[39m,\u001b[38;5;241m36000\u001b[39m,\u001b[38;5;241m7\u001b[39m,\u001b[38;5;124m'\u001b[39m\u001b[38;5;124mSố tự động\u001b[39m\u001b[38;5;124m'\u001b[39m,\u001b[38;5;124m'\u001b[39m\u001b[38;5;124mNhập khẩu\u001b[39m\u001b[38;5;124m'\u001b[39m]\n\u001b[1;32m----> 2\u001b[0m \u001b[43mpipe\u001b[49m\u001b[38;5;241;43m.\u001b[39;49m\u001b[43mpredict\u001b[49m\u001b[43m(\u001b[49m\u001b[43mpd\u001b[49m\u001b[38;5;241;43m.\u001b[39;49m\u001b[43mDataFrame\u001b[49m\u001b[43m(\u001b[49m\u001b[43mcolumns\u001b[49m\u001b[38;5;241;43m=\u001b[39;49m\u001b[43m[\u001b[49m\u001b[38;5;124;43m'\u001b[39;49m\u001b[38;5;124;43mengine_type\u001b[39;49m\u001b[38;5;124;43m'\u001b[39;49m\u001b[43m,\u001b[49m\u001b[38;5;124;43m'\u001b[39;49m\u001b[38;5;124;43mseries\u001b[39;49m\u001b[38;5;124;43m'\u001b[39;49m\u001b[43m,\u001b[49m\u001b[38;5;124;43m'\u001b[39;49m\u001b[38;5;124;43mmodel\u001b[39;49m\u001b[38;5;124;43m'\u001b[39;49m\u001b[43m,\u001b[49m\u001b[38;5;124;43m'\u001b[39;49m\u001b[38;5;124;43mbrand\u001b[39;49m\u001b[38;5;124;43m'\u001b[39;49m\u001b[43m,\u001b[49m\u001b[38;5;124;43m'\u001b[39;49m\u001b[38;5;124;43myear\u001b[39;49m\u001b[38;5;124;43m'\u001b[39;49m\u001b[43m,\u001b[49m\u001b[38;5;124;43m'\u001b[39;49m\u001b[38;5;124;43mdriven kms\u001b[39;49m\u001b[38;5;124;43m'\u001b[39;49m\u001b[43m,\u001b[49m\u001b[38;5;124;43m'\u001b[39;49m\u001b[38;5;124;43mnum_of_seat\u001b[39;49m\u001b[38;5;124;43m'\u001b[39;49m\u001b[43m,\u001b[49m\u001b[38;5;124;43m'\u001b[39;49m\u001b[38;5;124;43mtransmission\u001b[39;49m\u001b[38;5;124;43m'\u001b[39;49m\u001b[43m,\u001b[49m\u001b[38;5;124;43m'\u001b[39;49m\u001b[38;5;124;43massemble_place\u001b[39;49m\u001b[38;5;124;43m'\u001b[39;49m\u001b[43m]\u001b[49m\u001b[43m,\u001b[49m\u001b[43mdata\u001b[49m\u001b[38;5;241;43m=\u001b[39;49m\u001b[43mnp\u001b[49m\u001b[38;5;241;43m.\u001b[39;49m\u001b[43marray\u001b[49m\u001b[43m(\u001b[49m\u001b[43m[\u001b[49m\u001b[38;5;124;43m'\u001b[39;49m\u001b[38;5;124;43mXăng\u001b[39;49m\u001b[38;5;124;43m'\u001b[39;49m\u001b[43m,\u001b[49m\u001b[38;5;124;43m'\u001b[39;49m\u001b[38;5;124;43mSUV\u001b[39;49m\u001b[38;5;124;43m'\u001b[39;49m\u001b[43m,\u001b[49m\u001b[38;5;124;43m'\u001b[39;49m\u001b[38;5;124;43mOther\u001b[39;49m\u001b[38;5;124;43m'\u001b[39;49m\u001b[43m,\u001b[49m\u001b[38;5;124;43m'\u001b[39;49m\u001b[38;5;124;43mToyota\u001b[39;49m\u001b[38;5;124;43m'\u001b[39;49m\u001b[43m,\u001b[49m\u001b[38;5;241;43m2011\u001b[39;49m\u001b[43m,\u001b[49m\u001b[38;5;241;43m36000\u001b[39;49m\u001b[43m,\u001b[49m\u001b[38;5;241;43m7\u001b[39;49m\u001b[43m,\u001b[49m\u001b[38;5;124;43m'\u001b[39;49m\u001b[38;5;124;43mSố tự động\u001b[39;49m\u001b[38;5;124;43m'\u001b[39;49m\u001b[43m,\u001b[49m\u001b[38;5;124;43m'\u001b[39;49m\u001b[38;5;124;43mNhập khẩu\u001b[39;49m\u001b[38;5;124;43m'\u001b[39;49m\u001b[43m]\u001b[49m\u001b[43m)\u001b[49m\u001b[38;5;241;43m.\u001b[39;49m\u001b[43mreshape\u001b[49m\u001b[43m(\u001b[49m\u001b[38;5;241;43m1\u001b[39;49m\u001b[43m,\u001b[49m\u001b[38;5;241;43m9\u001b[39;49m\u001b[43m)\u001b[49m\u001b[43m)\u001b[49m\u001b[43m)\u001b[49m\n",
      "File \u001b[1;32mD:\\2022.2\\Old-car-price-prediction\\venv\\Lib\\site-packages\\sklearn\\pipeline.py:480\u001b[0m, in \u001b[0;36mPipeline.predict\u001b[1;34m(self, X, **predict_params)\u001b[0m\n\u001b[0;32m    478\u001b[0m Xt \u001b[38;5;241m=\u001b[39m X\n\u001b[0;32m    479\u001b[0m \u001b[38;5;28;01mfor\u001b[39;00m _, name, transform \u001b[38;5;129;01min\u001b[39;00m \u001b[38;5;28mself\u001b[39m\u001b[38;5;241m.\u001b[39m_iter(with_final\u001b[38;5;241m=\u001b[39m\u001b[38;5;28;01mFalse\u001b[39;00m):\n\u001b[1;32m--> 480\u001b[0m     Xt \u001b[38;5;241m=\u001b[39m \u001b[43mtransform\u001b[49m\u001b[38;5;241;43m.\u001b[39;49m\u001b[43mtransform\u001b[49m\u001b[43m(\u001b[49m\u001b[43mXt\u001b[49m\u001b[43m)\u001b[49m\n\u001b[0;32m    481\u001b[0m \u001b[38;5;28;01mreturn\u001b[39;00m \u001b[38;5;28mself\u001b[39m\u001b[38;5;241m.\u001b[39msteps[\u001b[38;5;241m-\u001b[39m\u001b[38;5;241m1\u001b[39m][\u001b[38;5;241m1\u001b[39m]\u001b[38;5;241m.\u001b[39mpredict(Xt, \u001b[38;5;241m*\u001b[39m\u001b[38;5;241m*\u001b[39mpredict_params)\n",
      "File \u001b[1;32mD:\\2022.2\\Old-car-price-prediction\\venv\\Lib\\site-packages\\sklearn\\utils\\_set_output.py:140\u001b[0m, in \u001b[0;36m_wrap_method_output.<locals>.wrapped\u001b[1;34m(self, X, *args, **kwargs)\u001b[0m\n\u001b[0;32m    138\u001b[0m \u001b[38;5;129m@wraps\u001b[39m(f)\n\u001b[0;32m    139\u001b[0m \u001b[38;5;28;01mdef\u001b[39;00m \u001b[38;5;21mwrapped\u001b[39m(\u001b[38;5;28mself\u001b[39m, X, \u001b[38;5;241m*\u001b[39margs, \u001b[38;5;241m*\u001b[39m\u001b[38;5;241m*\u001b[39mkwargs):\n\u001b[1;32m--> 140\u001b[0m     data_to_wrap \u001b[38;5;241m=\u001b[39m \u001b[43mf\u001b[49m\u001b[43m(\u001b[49m\u001b[38;5;28;43mself\u001b[39;49m\u001b[43m,\u001b[49m\u001b[43m \u001b[49m\u001b[43mX\u001b[49m\u001b[43m,\u001b[49m\u001b[43m \u001b[49m\u001b[38;5;241;43m*\u001b[39;49m\u001b[43margs\u001b[49m\u001b[43m,\u001b[49m\u001b[43m \u001b[49m\u001b[38;5;241;43m*\u001b[39;49m\u001b[38;5;241;43m*\u001b[39;49m\u001b[43mkwargs\u001b[49m\u001b[43m)\u001b[49m\n\u001b[0;32m    141\u001b[0m     \u001b[38;5;28;01mif\u001b[39;00m \u001b[38;5;28misinstance\u001b[39m(data_to_wrap, \u001b[38;5;28mtuple\u001b[39m):\n\u001b[0;32m    142\u001b[0m         \u001b[38;5;66;03m# only wrap the first output for cross decomposition\u001b[39;00m\n\u001b[0;32m    143\u001b[0m         \u001b[38;5;28;01mreturn\u001b[39;00m (\n\u001b[0;32m    144\u001b[0m             _wrap_data_with_container(method, data_to_wrap[\u001b[38;5;241m0\u001b[39m], X, \u001b[38;5;28mself\u001b[39m),\n\u001b[0;32m    145\u001b[0m             \u001b[38;5;241m*\u001b[39mdata_to_wrap[\u001b[38;5;241m1\u001b[39m:],\n\u001b[0;32m    146\u001b[0m         )\n",
      "File \u001b[1;32mD:\\2022.2\\Old-car-price-prediction\\venv\\Lib\\site-packages\\sklearn\\compose\\_column_transformer.py:813\u001b[0m, in \u001b[0;36mColumnTransformer.transform\u001b[1;34m(self, X)\u001b[0m\n\u001b[0;32m    809\u001b[0m \u001b[38;5;28;01mif\u001b[39;00m \u001b[38;5;129;01mnot\u001b[39;00m Xs:\n\u001b[0;32m    810\u001b[0m     \u001b[38;5;66;03m# All transformers are None\u001b[39;00m\n\u001b[0;32m    811\u001b[0m     \u001b[38;5;28;01mreturn\u001b[39;00m np\u001b[38;5;241m.\u001b[39mzeros((X\u001b[38;5;241m.\u001b[39mshape[\u001b[38;5;241m0\u001b[39m], \u001b[38;5;241m0\u001b[39m))\n\u001b[1;32m--> 813\u001b[0m \u001b[38;5;28;01mreturn\u001b[39;00m \u001b[38;5;28;43mself\u001b[39;49m\u001b[38;5;241;43m.\u001b[39;49m\u001b[43m_hstack\u001b[49m\u001b[43m(\u001b[49m\u001b[38;5;28;43mlist\u001b[39;49m\u001b[43m(\u001b[49m\u001b[43mXs\u001b[49m\u001b[43m)\u001b[49m\u001b[43m)\u001b[49m\n",
      "File \u001b[1;32mD:\\2022.2\\Old-car-price-prediction\\venv\\Lib\\site-packages\\sklearn\\compose\\_column_transformer.py:835\u001b[0m, in \u001b[0;36mColumnTransformer._hstack\u001b[1;34m(self, Xs)\u001b[0m\n\u001b[0;32m    830\u001b[0m         converted_Xs \u001b[38;5;241m=\u001b[39m [\n\u001b[0;32m    831\u001b[0m             check_array(X, accept_sparse\u001b[38;5;241m=\u001b[39m\u001b[38;5;28;01mTrue\u001b[39;00m, force_all_finite\u001b[38;5;241m=\u001b[39m\u001b[38;5;28;01mFalse\u001b[39;00m)\n\u001b[0;32m    832\u001b[0m             \u001b[38;5;28;01mfor\u001b[39;00m X \u001b[38;5;129;01min\u001b[39;00m Xs\n\u001b[0;32m    833\u001b[0m         ]\n\u001b[0;32m    834\u001b[0m     \u001b[38;5;28;01mexcept\u001b[39;00m \u001b[38;5;167;01mValueError\u001b[39;00m \u001b[38;5;28;01mas\u001b[39;00m e:\n\u001b[1;32m--> 835\u001b[0m         \u001b[38;5;28;01mraise\u001b[39;00m \u001b[38;5;167;01mValueError\u001b[39;00m(\n\u001b[0;32m    836\u001b[0m             \u001b[38;5;124m\"\u001b[39m\u001b[38;5;124mFor a sparse output, all columns should \u001b[39m\u001b[38;5;124m\"\u001b[39m\n\u001b[0;32m    837\u001b[0m             \u001b[38;5;124m\"\u001b[39m\u001b[38;5;124mbe a numeric or convertible to a numeric.\u001b[39m\u001b[38;5;124m\"\u001b[39m\n\u001b[0;32m    838\u001b[0m         ) \u001b[38;5;28;01mfrom\u001b[39;00m \u001b[38;5;21;01me\u001b[39;00m\n\u001b[0;32m    840\u001b[0m     \u001b[38;5;28;01mreturn\u001b[39;00m sparse\u001b[38;5;241m.\u001b[39mhstack(converted_Xs)\u001b[38;5;241m.\u001b[39mtocsr()\n\u001b[0;32m    841\u001b[0m \u001b[38;5;28;01melse\u001b[39;00m:\n",
      "\u001b[1;31mValueError\u001b[0m: For a sparse output, all columns should be a numeric or convertible to a numeric."
     ]
    }
   ],
   "source": [
    "\n",
    "car =['Xăng','SUV','4 Runner SR5','Toyota',2011,36000,7,'Số tự động','Nhập khẩu']\n",
    "pipe.predict(pd.DataFrame(columns=['engine_type','series','model','brand','year','driven kms','num_of_seat','transmission','assemble_place'],data=np.array(['Xăng','SUV','Other','Toyota',2011,36000,7,'Số tự động','Nhập khẩu']).reshape(1,9)))"
   ]
  },
  {
   "cell_type": "code",
   "execution_count": null,
   "metadata": {
    "ExecuteTime": {
     "start_time": "2023-07-08T16:24:31.171366400Z"
    }
   },
   "outputs": [],
   "source": [
    "rf_randomized_search.best_params_"
   ]
  },
  {
   "cell_type": "code",
   "execution_count": null,
   "metadata": {
    "ExecuteTime": {
     "start_time": "2023-07-08T16:24:31.178425200Z"
    }
   },
   "outputs": [],
   "source": [
    "from sklearn.linear_model import Ridge\n",
    "rg = Ridge(alpha=1.0)\n",
    "rg.fit(X_train, y_train)\n",
    "rg.score(X_test, y_test)\n"
   ]
  },
  {
   "cell_type": "code",
   "execution_count": null,
   "metadata": {
    "ExecuteTime": {
     "start_time": "2023-07-08T16:24:31.182423600Z"
    }
   },
   "outputs": [],
   "source": [
    "#Support Vector Regression"
   ]
  },
  {
   "cell_type": "code",
   "execution_count": null,
   "metadata": {
    "ExecuteTime": {
     "start_time": "2023-07-08T16:24:31.186955800Z"
    }
   },
   "outputs": [],
   "source": [
    "from sklearn.svm import SVR\n",
    "\n",
    "svr = SVR(kernel='rbf')\n",
    "svr.fit(X_train, y_train)\n",
    "svr.score(X_test, y_test)"
   ]
  },
  {
   "cell_type": "code",
   "execution_count": null,
   "metadata": {
    "ExecuteTime": {
     "start_time": "2023-07-08T16:24:31.191973300Z"
    }
   },
   "outputs": [],
   "source": [
    "df.head()"
   ]
  },
  {
   "cell_type": "code",
   "execution_count": null,
   "metadata": {
    "ExecuteTime": {
     "start_time": "2023-07-08T16:24:31.196040Z"
    }
   },
   "outputs": [],
   "source": [
    "clf.score(X_test, y_test)"
   ]
  },
  {
   "cell_type": "markdown",
   "metadata": {},
   "source": [
    "\n"
   ]
  }
 ],
 "metadata": {
  "kernelspec": {
   "display_name": "Python 3 (ipykernel)",
   "language": "python",
   "name": "python3"
  },
  "language_info": {
   "codemirror_mode": {
    "name": "ipython",
    "version": 3
   },
   "file_extension": ".py",
   "mimetype": "text/x-python",
   "name": "python",
   "nbconvert_exporter": "python",
   "pygments_lexer": "ipython3",
   "version": "3.11.2"
  }
 },
 "nbformat": 4,
 "nbformat_minor": 1
}
